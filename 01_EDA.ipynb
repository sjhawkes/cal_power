{
 "cells": [
  {
   "cell_type": "code",
   "execution_count": 2,
   "metadata": {},
   "outputs": [],
   "source": [
    "import pandas as pd\n",
    "import numpy as np\n",
    "import matplotlib.pyplot as plt"
   ]
  },
  {
   "cell_type": "markdown",
   "metadata": {},
   "source": [
    "### County ID"
   ]
  },
  {
   "cell_type": "code",
   "execution_count": 3,
   "metadata": {},
   "outputs": [],
   "source": [
    "cnty_id = pd.read_csv('./datasets/county_id.csv',dtype='str')"
   ]
  },
  {
   "cell_type": "code",
   "execution_count": 4,
   "metadata": {},
   "outputs": [
    {
     "data": {
      "text/plain": [
       "(43934, 7)"
      ]
     },
     "execution_count": 4,
     "metadata": {},
     "output_type": "execute_result"
    }
   ],
   "source": [
    "cnty_id.shape"
   ]
  },
  {
   "cell_type": "code",
   "execution_count": 5,
   "metadata": {},
   "outputs": [],
   "source": [
    "cnty_id = cnty_id[cnty_id['State Code'] == '06']"
   ]
  },
  {
   "cell_type": "code",
   "execution_count": 6,
   "metadata": {},
   "outputs": [
    {
     "data": {
      "text/html": [
       "<div>\n",
       "<style scoped>\n",
       "    .dataframe tbody tr th:only-of-type {\n",
       "        vertical-align: middle;\n",
       "    }\n",
       "\n",
       "    .dataframe tbody tr th {\n",
       "        vertical-align: top;\n",
       "    }\n",
       "\n",
       "    .dataframe thead th {\n",
       "        text-align: right;\n",
       "    }\n",
       "</style>\n",
       "<table border=\"1\" class=\"dataframe\">\n",
       "  <thead>\n",
       "    <tr style=\"text-align: right;\">\n",
       "      <th></th>\n",
       "      <th>Summary Level</th>\n",
       "      <th>State Code</th>\n",
       "      <th>County Code</th>\n",
       "      <th>Subdivision Code</th>\n",
       "      <th>Place Code</th>\n",
       "      <th>City Code</th>\n",
       "      <th>Name</th>\n",
       "    </tr>\n",
       "  </thead>\n",
       "  <tbody>\n",
       "    <tr>\n",
       "      <th>1393</th>\n",
       "      <td>040</td>\n",
       "      <td>06</td>\n",
       "      <td>000</td>\n",
       "      <td>00000</td>\n",
       "      <td>00000</td>\n",
       "      <td>00000</td>\n",
       "      <td>California</td>\n",
       "    </tr>\n",
       "    <tr>\n",
       "      <th>1394</th>\n",
       "      <td>050</td>\n",
       "      <td>06</td>\n",
       "      <td>001</td>\n",
       "      <td>00000</td>\n",
       "      <td>00000</td>\n",
       "      <td>00000</td>\n",
       "      <td>Alameda County</td>\n",
       "    </tr>\n",
       "  </tbody>\n",
       "</table>\n",
       "</div>"
      ],
      "text/plain": [
       "     Summary Level State Code County Code Subdivision Code Place Code  \\\n",
       "1393           040         06         000            00000      00000   \n",
       "1394           050         06         001            00000      00000   \n",
       "\n",
       "     City Code            Name  \n",
       "1393     00000      California  \n",
       "1394     00000  Alameda County  "
      ]
     },
     "execution_count": 6,
     "metadata": {},
     "output_type": "execute_result"
    }
   ],
   "source": [
    "cnty_id.head(2)"
   ]
  },
  {
   "cell_type": "code",
   "execution_count": 7,
   "metadata": {},
   "outputs": [
    {
     "data": {
      "text/html": [
       "<div>\n",
       "<style scoped>\n",
       "    .dataframe tbody tr th:only-of-type {\n",
       "        vertical-align: middle;\n",
       "    }\n",
       "\n",
       "    .dataframe tbody tr th {\n",
       "        vertical-align: top;\n",
       "    }\n",
       "\n",
       "    .dataframe thead th {\n",
       "        text-align: right;\n",
       "    }\n",
       "</style>\n",
       "<table border=\"1\" class=\"dataframe\">\n",
       "  <thead>\n",
       "    <tr style=\"text-align: right;\">\n",
       "      <th></th>\n",
       "      <th>Summary Level</th>\n",
       "      <th>State Code</th>\n",
       "      <th>County Code</th>\n",
       "      <th>Subdivision Code</th>\n",
       "      <th>Place Code</th>\n",
       "      <th>City Code</th>\n",
       "      <th>Name</th>\n",
       "      <th>ID</th>\n",
       "    </tr>\n",
       "  </thead>\n",
       "  <tbody>\n",
       "    <tr>\n",
       "      <th>1393</th>\n",
       "      <td>040</td>\n",
       "      <td>06</td>\n",
       "      <td>000</td>\n",
       "      <td>00000</td>\n",
       "      <td>00000</td>\n",
       "      <td>00000</td>\n",
       "      <td>California</td>\n",
       "      <td>06000</td>\n",
       "    </tr>\n",
       "    <tr>\n",
       "      <th>1394</th>\n",
       "      <td>050</td>\n",
       "      <td>06</td>\n",
       "      <td>001</td>\n",
       "      <td>00000</td>\n",
       "      <td>00000</td>\n",
       "      <td>00000</td>\n",
       "      <td>Alameda County</td>\n",
       "      <td>06001</td>\n",
       "    </tr>\n",
       "  </tbody>\n",
       "</table>\n",
       "</div>"
      ],
      "text/plain": [
       "     Summary Level State Code County Code Subdivision Code Place Code  \\\n",
       "1393           040         06         000            00000      00000   \n",
       "1394           050         06         001            00000      00000   \n",
       "\n",
       "     City Code            Name     ID  \n",
       "1393     00000      California  06000  \n",
       "1394     00000  Alameda County  06001  "
      ]
     },
     "execution_count": 7,
     "metadata": {},
     "output_type": "execute_result"
    }
   ],
   "source": [
    "cnty_id['ID'] = cnty_id['State Code'] + cnty_id['County Code']\n",
    "cnty_id.head(2)"
   ]
  },
  {
   "cell_type": "code",
   "execution_count": 8,
   "metadata": {},
   "outputs": [],
   "source": [
    "cnty_id.drop(columns = ['Summary Level','State Code','County Code','Subdivision Code','Place Code','City Code'],inplace=True)"
   ]
  },
  {
   "cell_type": "code",
   "execution_count": 9,
   "metadata": {},
   "outputs": [
    {
     "data": {
      "text/html": [
       "<div>\n",
       "<style scoped>\n",
       "    .dataframe tbody tr th:only-of-type {\n",
       "        vertical-align: middle;\n",
       "    }\n",
       "\n",
       "    .dataframe tbody tr th {\n",
       "        vertical-align: top;\n",
       "    }\n",
       "\n",
       "    .dataframe thead th {\n",
       "        text-align: right;\n",
       "    }\n",
       "</style>\n",
       "<table border=\"1\" class=\"dataframe\">\n",
       "  <thead>\n",
       "    <tr style=\"text-align: right;\">\n",
       "      <th></th>\n",
       "      <th>Name</th>\n",
       "      <th>ID</th>\n",
       "    </tr>\n",
       "  </thead>\n",
       "  <tbody>\n",
       "    <tr>\n",
       "      <th>1393</th>\n",
       "      <td>California</td>\n",
       "      <td>06000</td>\n",
       "    </tr>\n",
       "    <tr>\n",
       "      <th>1394</th>\n",
       "      <td>Alameda County</td>\n",
       "      <td>06001</td>\n",
       "    </tr>\n",
       "  </tbody>\n",
       "</table>\n",
       "</div>"
      ],
      "text/plain": [
       "                Name     ID\n",
       "1393      California  06000\n",
       "1394  Alameda County  06001"
      ]
     },
     "execution_count": 9,
     "metadata": {},
     "output_type": "execute_result"
    }
   ],
   "source": [
    "cnty_id.head(2)"
   ]
  },
  {
   "cell_type": "markdown",
   "metadata": {},
   "source": [
    "### Population"
   ]
  },
  {
   "cell_type": "code",
   "execution_count": 10,
   "metadata": {},
   "outputs": [
    {
     "data": {
      "text/html": [
       "<div>\n",
       "<style scoped>\n",
       "    .dataframe tbody tr th:only-of-type {\n",
       "        vertical-align: middle;\n",
       "    }\n",
       "\n",
       "    .dataframe tbody tr th {\n",
       "        vertical-align: top;\n",
       "    }\n",
       "\n",
       "    .dataframe thead th {\n",
       "        text-align: right;\n",
       "    }\n",
       "</style>\n",
       "<table border=\"1\" class=\"dataframe\">\n",
       "  <thead>\n",
       "    <tr style=\"text-align: right;\">\n",
       "      <th></th>\n",
       "      <th>CTYNAME</th>\n",
       "      <th>Pop</th>\n",
       "      <th>GrowthRate</th>\n",
       "    </tr>\n",
       "  </thead>\n",
       "  <tbody>\n",
       "    <tr>\n",
       "      <th>0</th>\n",
       "      <td>Los Angeles County</td>\n",
       "      <td>10105518</td>\n",
       "      <td>2.8820</td>\n",
       "    </tr>\n",
       "    <tr>\n",
       "      <th>1</th>\n",
       "      <td>San Diego County</td>\n",
       "      <td>3343364</td>\n",
       "      <td>7.7356</td>\n",
       "    </tr>\n",
       "    <tr>\n",
       "      <th>2</th>\n",
       "      <td>Orange County</td>\n",
       "      <td>3185968</td>\n",
       "      <td>5.6160</td>\n",
       "    </tr>\n",
       "    <tr>\n",
       "      <th>3</th>\n",
       "      <td>Riverside County</td>\n",
       "      <td>2450758</td>\n",
       "      <td>11.3145</td>\n",
       "    </tr>\n",
       "    <tr>\n",
       "      <th>4</th>\n",
       "      <td>San Bernardino County</td>\n",
       "      <td>2171603</td>\n",
       "      <td>6.4037</td>\n",
       "    </tr>\n",
       "  </tbody>\n",
       "</table>\n",
       "</div>"
      ],
      "text/plain": [
       "                 CTYNAME       Pop  GrowthRate\n",
       "0     Los Angeles County  10105518      2.8820\n",
       "1       San Diego County   3343364      7.7356\n",
       "2          Orange County   3185968      5.6160\n",
       "3       Riverside County   2450758     11.3145\n",
       "4  San Bernardino County   2171603      6.4037"
      ]
     },
     "execution_count": 10,
     "metadata": {},
     "output_type": "execute_result"
    }
   ],
   "source": [
    "pop = pd.read_csv('datasets/county_census.csv')\n",
    "pop.head()"
   ]
  },
  {
   "cell_type": "code",
   "execution_count": 11,
   "metadata": {},
   "outputs": [],
   "source": [
    "ids = []\n",
    "for name in pop['CTYNAME']:\n",
    "    ids.append(cnty_id[cnty_id['Name'] == name]['ID'].values[0])"
   ]
  },
  {
   "cell_type": "code",
   "execution_count": 12,
   "metadata": {},
   "outputs": [
    {
     "data": {
      "text/plain": [
       "'06001'"
      ]
     },
     "execution_count": 12,
     "metadata": {},
     "output_type": "execute_result"
    }
   ],
   "source": [
    "cnty_id[cnty_id['Name'] == 'Alameda County']['ID'].values[0]"
   ]
  },
  {
   "cell_type": "code",
   "execution_count": 13,
   "metadata": {},
   "outputs": [
    {
     "data": {
      "text/html": [
       "<div>\n",
       "<style scoped>\n",
       "    .dataframe tbody tr th:only-of-type {\n",
       "        vertical-align: middle;\n",
       "    }\n",
       "\n",
       "    .dataframe tbody tr th {\n",
       "        vertical-align: top;\n",
       "    }\n",
       "\n",
       "    .dataframe thead th {\n",
       "        text-align: right;\n",
       "    }\n",
       "</style>\n",
       "<table border=\"1\" class=\"dataframe\">\n",
       "  <thead>\n",
       "    <tr style=\"text-align: right;\">\n",
       "      <th></th>\n",
       "      <th>CTYNAME</th>\n",
       "      <th>Pop</th>\n",
       "      <th>GrowthRate</th>\n",
       "      <th>ID</th>\n",
       "    </tr>\n",
       "  </thead>\n",
       "  <tbody>\n",
       "    <tr>\n",
       "      <th>0</th>\n",
       "      <td>Los Angeles County</td>\n",
       "      <td>10105518</td>\n",
       "      <td>2.8820</td>\n",
       "      <td>06037</td>\n",
       "    </tr>\n",
       "    <tr>\n",
       "      <th>1</th>\n",
       "      <td>San Diego County</td>\n",
       "      <td>3343364</td>\n",
       "      <td>7.7356</td>\n",
       "      <td>06073</td>\n",
       "    </tr>\n",
       "    <tr>\n",
       "      <th>2</th>\n",
       "      <td>Orange County</td>\n",
       "      <td>3185968</td>\n",
       "      <td>5.6160</td>\n",
       "      <td>06059</td>\n",
       "    </tr>\n",
       "    <tr>\n",
       "      <th>3</th>\n",
       "      <td>Riverside County</td>\n",
       "      <td>2450758</td>\n",
       "      <td>11.3145</td>\n",
       "      <td>06065</td>\n",
       "    </tr>\n",
       "    <tr>\n",
       "      <th>4</th>\n",
       "      <td>San Bernardino County</td>\n",
       "      <td>2171603</td>\n",
       "      <td>6.4037</td>\n",
       "      <td>06071</td>\n",
       "    </tr>\n",
       "  </tbody>\n",
       "</table>\n",
       "</div>"
      ],
      "text/plain": [
       "                 CTYNAME       Pop  GrowthRate     ID\n",
       "0     Los Angeles County  10105518      2.8820  06037\n",
       "1       San Diego County   3343364      7.7356  06073\n",
       "2          Orange County   3185968      5.6160  06059\n",
       "3       Riverside County   2450758     11.3145  06065\n",
       "4  San Bernardino County   2171603      6.4037  06071"
      ]
     },
     "execution_count": 13,
     "metadata": {},
     "output_type": "execute_result"
    }
   ],
   "source": [
    "pop['ID'] = ids\n",
    "pop.head()"
   ]
  },
  {
   "cell_type": "code",
   "execution_count": 14,
   "metadata": {},
   "outputs": [],
   "source": [
    "pop.to_csv('population1.csv')"
   ]
  },
  {
   "cell_type": "markdown",
   "metadata": {},
   "source": [
    "### Powerplants"
   ]
  },
  {
   "cell_type": "code",
   "execution_count": 15,
   "metadata": {},
   "outputs": [],
   "source": [
    "plants = pd.read_csv('datasets/power_plants_01-14.csv')"
   ]
  },
  {
   "cell_type": "code",
   "execution_count": 16,
   "metadata": {},
   "outputs": [
    {
     "name": "stdout",
     "output_type": "stream",
     "text": [
      "<class 'pandas.core.frame.DataFrame'>\n",
      "RangeIndex: 2141 entries, 0 to 2140\n",
      "Data columns (total 28 columns):\n",
      " #   Column             Non-Null Count  Dtype \n",
      "---  ------             --------------  ----- \n",
      " 0   Plant Type Code    2140 non-null   object\n",
      " 1   RPS Eligible       2140 non-null   object\n",
      " 2   Primary Fuel Type  2139 non-null   object\n",
      " 3   Solar Thermal      2140 non-null   object\n",
      " 4   Small Hydro        2140 non-null   object\n",
      " 5   CEC Plant ID       2140 non-null   object\n",
      " 6   EIA Plant ID       2130 non-null   object\n",
      " 7   Plant Name         2140 non-null   object\n",
      " 8   Unit               2140 non-null   object\n",
      " 9   State              2140 non-null   object\n",
      " 10  County             2140 non-null   object\n",
      " 11  City               2078 non-null   object\n",
      " 12  Start Date         2140 non-null   object\n",
      " 13  Retire Date        271 non-null    object\n",
      " 14  2014               1778 non-null   object\n",
      " 15  2013               1731 non-null   object\n",
      " 16  2012               1591 non-null   object\n",
      " 17  2011               1391 non-null   object\n",
      " 18  2010               1359 non-null   object\n",
      " 19  2009               1344 non-null   object\n",
      " 20  2008               1332 non-null   object\n",
      " 21  2007               1290 non-null   object\n",
      " 22  2006               1280 non-null   object\n",
      " 23  2005               1263 non-null   object\n",
      " 24  2004               1230 non-null   object\n",
      " 25  2003               1244 non-null   object\n",
      " 26  2002               1235 non-null   object\n",
      " 27  2001               1208 non-null   object\n",
      "dtypes: object(28)\n",
      "memory usage: 468.5+ KB\n"
     ]
    }
   ],
   "source": [
    "plants.info()"
   ]
  },
  {
   "cell_type": "code",
   "execution_count": 17,
   "metadata": {},
   "outputs": [],
   "source": [
    "def convert_to_float(series):\n",
    "\n",
    "    float_list = []\n",
    "\n",
    "    for i in series:\n",
    "        try:\n",
    "            float_list.append(float(i))\n",
    "\n",
    "        except:\n",
    "            float_list.append(float(0))\n",
    "    \n",
    "    return float_list"
   ]
  },
  {
   "cell_type": "code",
   "execution_count": 18,
   "metadata": {},
   "outputs": [],
   "source": [
    "plants['2014'] = convert_to_float(plants['2014'].fillna(0))\n",
    "plants['2013'] = convert_to_float(plants['2013'].fillna(0))\n",
    "plants['2012'] = convert_to_float(plants['2012'].fillna(0))\n",
    "plants['2011'] = convert_to_float(plants['2011'].fillna(0))\n",
    "plants['2010'] = convert_to_float(plants['2010'].fillna(0))\n",
    "plants['2009'] = convert_to_float(plants['2009'].fillna(0))\n",
    "plants['2008'] = convert_to_float(plants['2008'].fillna(0))\n",
    "plants['2007'] = convert_to_float(plants['2007'].fillna(0))\n",
    "plants['2006'] = convert_to_float(plants['2006'].fillna(0))\n",
    "plants['2005'] = convert_to_float(plants['2005'].fillna(0))\n",
    "plants['2004'] = convert_to_float(plants['2004'].fillna(0))\n",
    "plants['2003'] = convert_to_float(plants['2003'].fillna(0))\n",
    "plants['2002'] = convert_to_float(plants['2002'].fillna(0))\n",
    "plants['2001'] = convert_to_float(plants['2001'].fillna(0))"
   ]
  },
  {
   "cell_type": "code",
   "execution_count": 19,
   "metadata": {},
   "outputs": [
    {
     "name": "stdout",
     "output_type": "stream",
     "text": [
      "<class 'pandas.core.frame.DataFrame'>\n",
      "RangeIndex: 2141 entries, 0 to 2140\n",
      "Data columns (total 28 columns):\n",
      " #   Column             Non-Null Count  Dtype  \n",
      "---  ------             --------------  -----  \n",
      " 0   Plant Type Code    2140 non-null   object \n",
      " 1   RPS Eligible       2140 non-null   object \n",
      " 2   Primary Fuel Type  2139 non-null   object \n",
      " 3   Solar Thermal      2140 non-null   object \n",
      " 4   Small Hydro        2140 non-null   object \n",
      " 5   CEC Plant ID       2140 non-null   object \n",
      " 6   EIA Plant ID       2130 non-null   object \n",
      " 7   Plant Name         2140 non-null   object \n",
      " 8   Unit               2140 non-null   object \n",
      " 9   State              2140 non-null   object \n",
      " 10  County             2140 non-null   object \n",
      " 11  City               2078 non-null   object \n",
      " 12  Start Date         2140 non-null   object \n",
      " 13  Retire Date        271 non-null    object \n",
      " 14  2014               2141 non-null   float64\n",
      " 15  2013               2141 non-null   float64\n",
      " 16  2012               2141 non-null   float64\n",
      " 17  2011               2141 non-null   float64\n",
      " 18  2010               2141 non-null   float64\n",
      " 19  2009               2141 non-null   float64\n",
      " 20  2008               2141 non-null   float64\n",
      " 21  2007               2141 non-null   float64\n",
      " 22  2006               2141 non-null   float64\n",
      " 23  2005               2141 non-null   float64\n",
      " 24  2004               2141 non-null   float64\n",
      " 25  2003               2141 non-null   float64\n",
      " 26  2002               2141 non-null   float64\n",
      " 27  2001               2141 non-null   float64\n",
      "dtypes: float64(14), object(14)\n",
      "memory usage: 468.5+ KB\n"
     ]
    }
   ],
   "source": [
    "plants.info()"
   ]
  },
  {
   "cell_type": "markdown",
   "metadata": {},
   "source": [
    "### Convert date times, compute age, label status"
   ]
  },
  {
   "cell_type": "code",
   "execution_count": 20,
   "metadata": {},
   "outputs": [],
   "source": [
    "plants['Start Date'] = pd.to_datetime(plants['Start Date'])\n",
    "plants['Retire Date'] = pd.to_datetime(plants['Retire Date'])\n",
    "\n",
    "ages =[]\n",
    "status = []\n",
    "for i in range(plants.shape[0]):\n",
    "    if type(plants['Retire Date'].iloc[i]) == pd._libs.tslibs.timestamps.Timestamp:\n",
    "        ages.append(plants['Retire Date'].iloc[i] - plants['Start Date'].iloc[i])\n",
    "        status.append(0)\n",
    "    else:\n",
    "        ages.append(pd.Timestamp.now() - plants['Start Date'].iloc[i])\n",
    "        status.append(1)"
   ]
  },
  {
   "cell_type": "code",
   "execution_count": 21,
   "metadata": {},
   "outputs": [
    {
     "name": "stderr",
     "output_type": "stream",
     "text": [
      "/Users/Sam/opt/anaconda3/lib/python3.7/site-packages/ipykernel_launcher.py:5: SettingWithCopyWarning: \n",
      "A value is trying to be set on a copy of a slice from a DataFrame\n",
      "\n",
      "See the caveats in the documentation: https://pandas.pydata.org/pandas-docs/stable/user_guide/indexing.html#returning-a-view-versus-a-copy\n",
      "  \"\"\"\n",
      "/Users/Sam/opt/anaconda3/lib/python3.7/site-packages/pandas/core/indexing.py:671: SettingWithCopyWarning: \n",
      "A value is trying to be set on a copy of a slice from a DataFrame\n",
      "\n",
      "See the caveats in the documentation: https://pandas.pydata.org/pandas-docs/stable/user_guide/indexing.html#returning-a-view-versus-a-copy\n",
      "  self._setitem_with_indexer(indexer, value)\n"
     ]
    }
   ],
   "source": [
    "plants['Age'] = ages\n",
    "plants['Status'] = status\n",
    "\n",
    "for i in plants.index:\n",
    "    plants['Age'][i] = float(plants['Age'][i].days/365)"
   ]
  },
  {
   "cell_type": "code",
   "execution_count": 22,
   "metadata": {},
   "outputs": [
    {
     "data": {
      "text/plain": [
       "1    1870\n",
       "0     271\n",
       "Name: Status, dtype: int64"
      ]
     },
     "execution_count": 22,
     "metadata": {},
     "output_type": "execute_result"
    }
   ],
   "source": [
    "plants['Status'].value_counts()"
   ]
  },
  {
   "cell_type": "code",
   "execution_count": 23,
   "metadata": {},
   "outputs": [
    {
     "data": {
      "image/png": "[encoded data removed]",
      "text/plain": [
       "<Figure size 720x432 with 1 Axes>"
      ]
     },
     "metadata": {
      "needs_background": "light"
     },
     "output_type": "display_data"
    }
   ],
   "source": [
    "plt.figure(figsize=(10,6))\n",
    "plt.hist(plants[plants['Status']==0]['Age'],bins=30);"
   ]
  },
  {
   "cell_type": "code",
   "execution_count": 24,
   "metadata": {},
   "outputs": [
    {
     "data": {
      "image/png": "[encoded data removed]",
      "text/plain": [
       "<Figure size 720x432 with 1 Axes>"
      ]
     },
     "metadata": {
      "needs_background": "light"
     },
     "output_type": "display_data"
    }
   ],
   "source": [
    "plt.figure(figsize=(10,6))\n",
    "plt.hist(plants[plants['Status']==1]['Age'],bins=30);"
   ]
  },
  {
   "cell_type": "code",
   "execution_count": null,
   "metadata": {},
   "outputs": [],
   "source": []
  },
  {
   "cell_type": "code",
   "execution_count": 25,
   "metadata": {},
   "outputs": [
    {
     "name": "stdout",
     "output_type": "stream",
     "text": [
      "<class 'pandas.core.frame.DataFrame'>\n",
      "RangeIndex: 2141 entries, 0 to 2140\n",
      "Data columns (total 30 columns):\n",
      " #   Column             Non-Null Count  Dtype         \n",
      "---  ------             --------------  -----         \n",
      " 0   Plant Type Code    2140 non-null   object        \n",
      " 1   RPS Eligible       2140 non-null   object        \n",
      " 2   Primary Fuel Type  2139 non-null   object        \n",
      " 3   Solar Thermal      2140 non-null   object        \n",
      " 4   Small Hydro        2140 non-null   object        \n",
      " 5   CEC Plant ID       2140 non-null   object        \n",
      " 6   EIA Plant ID       2130 non-null   object        \n",
      " 7   Plant Name         2140 non-null   object        \n",
      " 8   Unit               2140 non-null   object        \n",
      " 9   State              2140 non-null   object        \n",
      " 10  County             2140 non-null   object        \n",
      " 11  City               2078 non-null   object        \n",
      " 12  Start Date         2140 non-null   datetime64[ns]\n",
      " 13  Retire Date        271 non-null    datetime64[ns]\n",
      " 14  2014               2141 non-null   float64       \n",
      " 15  2013               2141 non-null   float64       \n",
      " 16  2012               2141 non-null   float64       \n",
      " 17  2011               2141 non-null   float64       \n",
      " 18  2010               2141 non-null   float64       \n",
      " 19  2009               2141 non-null   float64       \n",
      " 20  2008               2141 non-null   float64       \n",
      " 21  2007               2141 non-null   float64       \n",
      " 22  2006               2141 non-null   float64       \n",
      " 23  2005               2141 non-null   float64       \n",
      " 24  2004               2141 non-null   float64       \n",
      " 25  2003               2141 non-null   float64       \n",
      " 26  2002               2141 non-null   float64       \n",
      " 27  2001               2141 non-null   float64       \n",
      " 28  Age                2140 non-null   object        \n",
      " 29  Status             2141 non-null   int64         \n",
      "dtypes: datetime64[ns](2), float64(14), int64(1), object(13)\n",
      "memory usage: 501.9+ KB\n"
     ]
    }
   ],
   "source": [
    "plants.info()"
   ]
  },
  {
   "cell_type": "code",
   "execution_count": 26,
   "metadata": {},
   "outputs": [],
   "source": [
    "gen_timeseries = plants.groupby('County').sum()"
   ]
  },
  {
   "cell_type": "code",
   "execution_count": 27,
   "metadata": {},
   "outputs": [],
   "source": [
    "gen_timeseries['County'] = gen_timeseries.index"
   ]
  },
  {
   "cell_type": "code",
   "execution_count": 28,
   "metadata": {},
   "outputs": [
    {
     "data": {
      "text/html": [
       "<div>\n",
       "<style scoped>\n",
       "    .dataframe tbody tr th:only-of-type {\n",
       "        vertical-align: middle;\n",
       "    }\n",
       "\n",
       "    .dataframe tbody tr th {\n",
       "        vertical-align: top;\n",
       "    }\n",
       "\n",
       "    .dataframe thead th {\n",
       "        text-align: right;\n",
       "    }\n",
       "</style>\n",
       "<table border=\"1\" class=\"dataframe\">\n",
       "  <thead>\n",
       "    <tr style=\"text-align: right;\">\n",
       "      <th></th>\n",
       "      <th>2014</th>\n",
       "      <th>2013</th>\n",
       "      <th>2012</th>\n",
       "      <th>2011</th>\n",
       "      <th>2010</th>\n",
       "      <th>2009</th>\n",
       "      <th>2008</th>\n",
       "      <th>2007</th>\n",
       "      <th>2006</th>\n",
       "      <th>2005</th>\n",
       "      <th>2004</th>\n",
       "      <th>2003</th>\n",
       "      <th>2002</th>\n",
       "      <th>2001</th>\n",
       "      <th>Status</th>\n",
       "      <th>County</th>\n",
       "    </tr>\n",
       "    <tr>\n",
       "      <th>newindex</th>\n",
       "      <th></th>\n",
       "      <th></th>\n",
       "      <th></th>\n",
       "      <th></th>\n",
       "      <th></th>\n",
       "      <th></th>\n",
       "      <th></th>\n",
       "      <th></th>\n",
       "      <th></th>\n",
       "      <th></th>\n",
       "      <th></th>\n",
       "      <th></th>\n",
       "      <th></th>\n",
       "      <th></th>\n",
       "      <th></th>\n",
       "      <th></th>\n",
       "    </tr>\n",
       "  </thead>\n",
       "  <tbody>\n",
       "    <tr>\n",
       "      <th>0</th>\n",
       "      <td>0.0</td>\n",
       "      <td>0.0</td>\n",
       "      <td>0.0</td>\n",
       "      <td>0.0</td>\n",
       "      <td>0.0</td>\n",
       "      <td>0.0</td>\n",
       "      <td>0.0</td>\n",
       "      <td>0.0</td>\n",
       "      <td>0.0</td>\n",
       "      <td>0.0</td>\n",
       "      <td>0.0</td>\n",
       "      <td>0.0</td>\n",
       "      <td>0.0</td>\n",
       "      <td>0.0</td>\n",
       "      <td>1</td>\n",
       "      <td>ALL</td>\n",
       "    </tr>\n",
       "    <tr>\n",
       "      <th>1</th>\n",
       "      <td>1181.3</td>\n",
       "      <td>1176.9</td>\n",
       "      <td>536.9</td>\n",
       "      <td>322.4</td>\n",
       "      <td>316.4</td>\n",
       "      <td>321.9</td>\n",
       "      <td>321.9</td>\n",
       "      <td>321.9</td>\n",
       "      <td>253.4</td>\n",
       "      <td>263.5</td>\n",
       "      <td>263.5</td>\n",
       "      <td>263.5</td>\n",
       "      <td>263.5</td>\n",
       "      <td>263.5</td>\n",
       "      <td>38</td>\n",
       "      <td>Alameda</td>\n",
       "    </tr>\n",
       "    <tr>\n",
       "      <th>2</th>\n",
       "      <td>251.0</td>\n",
       "      <td>248.0</td>\n",
       "      <td>221.0</td>\n",
       "      <td>237.4</td>\n",
       "      <td>237.4</td>\n",
       "      <td>242.7</td>\n",
       "      <td>242.7</td>\n",
       "      <td>245.7</td>\n",
       "      <td>241.6</td>\n",
       "      <td>244.6</td>\n",
       "      <td>244.6</td>\n",
       "      <td>244.6</td>\n",
       "      <td>262.6</td>\n",
       "      <td>259.6</td>\n",
       "      <td>19</td>\n",
       "      <td>Amador</td>\n",
       "    </tr>\n",
       "    <tr>\n",
       "      <th>3</th>\n",
       "      <td>1124.5</td>\n",
       "      <td>1124.5</td>\n",
       "      <td>1120.2</td>\n",
       "      <td>1134.5</td>\n",
       "      <td>1134.5</td>\n",
       "      <td>1135.0</td>\n",
       "      <td>1133.6</td>\n",
       "      <td>1135.0</td>\n",
       "      <td>1135.0</td>\n",
       "      <td>1140.9</td>\n",
       "      <td>1140.9</td>\n",
       "      <td>1141.6</td>\n",
       "      <td>1141.6</td>\n",
       "      <td>1272.1</td>\n",
       "      <td>42</td>\n",
       "      <td>Butte</td>\n",
       "    </tr>\n",
       "    <tr>\n",
       "      <th>4</th>\n",
       "      <td>297.3</td>\n",
       "      <td>297.3</td>\n",
       "      <td>287.3</td>\n",
       "      <td>285.5</td>\n",
       "      <td>285.5</td>\n",
       "      <td>285.5</td>\n",
       "      <td>285.5</td>\n",
       "      <td>285.5</td>\n",
       "      <td>534.6</td>\n",
       "      <td>534.6</td>\n",
       "      <td>534.6</td>\n",
       "      <td>285.5</td>\n",
       "      <td>285.5</td>\n",
       "      <td>285.5</td>\n",
       "      <td>16</td>\n",
       "      <td>Calaveras</td>\n",
       "    </tr>\n",
       "    <tr>\n",
       "      <th>5</th>\n",
       "      <td>721.1</td>\n",
       "      <td>721.1</td>\n",
       "      <td>721.1</td>\n",
       "      <td>721.1</td>\n",
       "      <td>721.1</td>\n",
       "      <td>29.1</td>\n",
       "      <td>29.1</td>\n",
       "      <td>29.0</td>\n",
       "      <td>29.0</td>\n",
       "      <td>29.0</td>\n",
       "      <td>29.0</td>\n",
       "      <td>29.0</td>\n",
       "      <td>29.0</td>\n",
       "      <td>29.0</td>\n",
       "      <td>4</td>\n",
       "      <td>Colusa</td>\n",
       "    </tr>\n",
       "    <tr>\n",
       "      <th>6</th>\n",
       "      <td>5062.6</td>\n",
       "      <td>5064.1</td>\n",
       "      <td>4914.6</td>\n",
       "      <td>4999.1</td>\n",
       "      <td>4989.1</td>\n",
       "      <td>5057.9</td>\n",
       "      <td>4441.1</td>\n",
       "      <td>4453.1</td>\n",
       "      <td>4422.7</td>\n",
       "      <td>4426.7</td>\n",
       "      <td>4443.7</td>\n",
       "      <td>4443.7</td>\n",
       "      <td>5048.4</td>\n",
       "      <td>4244.2</td>\n",
       "      <td>50</td>\n",
       "      <td>Contra Costa</td>\n",
       "    </tr>\n",
       "    <tr>\n",
       "      <th>7</th>\n",
       "      <td>764.7</td>\n",
       "      <td>764.7</td>\n",
       "      <td>764.7</td>\n",
       "      <td>764.7</td>\n",
       "      <td>764.7</td>\n",
       "      <td>738.7</td>\n",
       "      <td>738.7</td>\n",
       "      <td>738.7</td>\n",
       "      <td>738.7</td>\n",
       "      <td>738.7</td>\n",
       "      <td>738.7</td>\n",
       "      <td>738.7</td>\n",
       "      <td>738.7</td>\n",
       "      <td>738.7</td>\n",
       "      <td>16</td>\n",
       "      <td>El Dorado</td>\n",
       "    </tr>\n",
       "    <tr>\n",
       "      <th>8</th>\n",
       "      <td>3881.8</td>\n",
       "      <td>3824.5</td>\n",
       "      <td>3776.2</td>\n",
       "      <td>3707.1</td>\n",
       "      <td>3703.6</td>\n",
       "      <td>3665.4</td>\n",
       "      <td>3122.1</td>\n",
       "      <td>3122.1</td>\n",
       "      <td>3122.1</td>\n",
       "      <td>3025.8</td>\n",
       "      <td>2975.8</td>\n",
       "      <td>3000.8</td>\n",
       "      <td>3000.8</td>\n",
       "      <td>2831.8</td>\n",
       "      <td>85</td>\n",
       "      <td>Fresno</td>\n",
       "    </tr>\n",
       "    <tr>\n",
       "      <th>9</th>\n",
       "      <td>5.0</td>\n",
       "      <td>5.0</td>\n",
       "      <td>5.0</td>\n",
       "      <td>5.0</td>\n",
       "      <td>5.0</td>\n",
       "      <td>5.0</td>\n",
       "      <td>5.0</td>\n",
       "      <td>5.0</td>\n",
       "      <td>5.0</td>\n",
       "      <td>5.0</td>\n",
       "      <td>5.0</td>\n",
       "      <td>5.0</td>\n",
       "      <td>5.5</td>\n",
       "      <td>5.5</td>\n",
       "      <td>3</td>\n",
       "      <td>Glenn</td>\n",
       "    </tr>\n",
       "    <tr>\n",
       "      <th>10</th>\n",
       "      <td>228.3</td>\n",
       "      <td>228.3</td>\n",
       "      <td>228.3</td>\n",
       "      <td>228.3</td>\n",
       "      <td>161.5</td>\n",
       "      <td>184.5</td>\n",
       "      <td>184.5</td>\n",
       "      <td>204.5</td>\n",
       "      <td>204.5</td>\n",
       "      <td>204.5</td>\n",
       "      <td>204.5</td>\n",
       "      <td>204.5</td>\n",
       "      <td>232.5</td>\n",
       "      <td>232.5</td>\n",
       "      <td>15</td>\n",
       "      <td>Humboldt</td>\n",
       "    </tr>\n",
       "  </tbody>\n",
       "</table>\n",
       "</div>"
      ],
      "text/plain": [
       "            2014    2013    2012    2011    2010    2009    2008    2007  \\\n",
       "newindex                                                                   \n",
       "0            0.0     0.0     0.0     0.0     0.0     0.0     0.0     0.0   \n",
       "1         1181.3  1176.9   536.9   322.4   316.4   321.9   321.9   321.9   \n",
       "2          251.0   248.0   221.0   237.4   237.4   242.7   242.7   245.7   \n",
       "3         1124.5  1124.5  1120.2  1134.5  1134.5  1135.0  1133.6  1135.0   \n",
       "4          297.3   297.3   287.3   285.5   285.5   285.5   285.5   285.5   \n",
       "5          721.1   721.1   721.1   721.1   721.1    29.1    29.1    29.0   \n",
       "6         5062.6  5064.1  4914.6  4999.1  4989.1  5057.9  4441.1  4453.1   \n",
       "7          764.7   764.7   764.7   764.7   764.7   738.7   738.7   738.7   \n",
       "8         3881.8  3824.5  3776.2  3707.1  3703.6  3665.4  3122.1  3122.1   \n",
       "9            5.0     5.0     5.0     5.0     5.0     5.0     5.0     5.0   \n",
       "10         228.3   228.3   228.3   228.3   161.5   184.5   184.5   204.5   \n",
       "\n",
       "            2006    2005    2004    2003    2002    2001  Status        County  \n",
       "newindex                                                                        \n",
       "0            0.0     0.0     0.0     0.0     0.0     0.0       1           ALL  \n",
       "1          253.4   263.5   263.5   263.5   263.5   263.5      38       Alameda  \n",
       "2          241.6   244.6   244.6   244.6   262.6   259.6      19        Amador  \n",
       "3         1135.0  1140.9  1140.9  1141.6  1141.6  1272.1      42         Butte  \n",
       "4          534.6   534.6   534.6   285.5   285.5   285.5      16     Calaveras  \n",
       "5           29.0    29.0    29.0    29.0    29.0    29.0       4        Colusa  \n",
       "6         4422.7  4426.7  4443.7  4443.7  5048.4  4244.2      50  Contra Costa  \n",
       "7          738.7   738.7   738.7   738.7   738.7   738.7      16     El Dorado  \n",
       "8         3122.1  3025.8  2975.8  3000.8  3000.8  2831.8      85        Fresno  \n",
       "9            5.0     5.0     5.0     5.0     5.5     5.5       3         Glenn  \n",
       "10         204.5   204.5   204.5   204.5   232.5   232.5      15      Humboldt  "
      ]
     },
     "execution_count": 28,
     "metadata": {},
     "output_type": "execute_result"
    }
   ],
   "source": [
    "newindex = list(range(56))\n",
    "gen_timeseries['newindex'] = newindex\n",
    "gen_timeseries.set_index('newindex',inplace=True)\n",
    "gen_timeseries.head(11)"
   ]
  },
  {
   "cell_type": "code",
   "execution_count": 29,
   "metadata": {},
   "outputs": [
    {
     "data": {
      "text/plain": [
       "[<matplotlib.lines.Line2D at 0x115324950>]"
      ]
     },
     "execution_count": 29,
     "metadata": {},
     "output_type": "execute_result"
    },
    {
     "data": {
      "image/png": "[encoded data removed]",
      "text/plain": [
       "<Figure size 432x288 with 1 Axes>"
      ]
     },
     "metadata": {
      "needs_background": "light"
     },
     "output_type": "display_data"
    }
   ],
   "source": [
    "years = [2014,2013,2012,2011,2010,2009,2008,2007,2006,2005,2004,2003,2002,2001]\n",
    "plt.plot(years,gen_timeseries.iloc[10,0:14])"
   ]
  },
  {
   "cell_type": "code",
   "execution_count": 30,
   "metadata": {},
   "outputs": [
    {
     "name": "stdout",
     "output_type": "stream",
     "text": [
      "0.0\n",
      "0.0\n",
      "0.0\n",
      "66.79999999999995\n",
      "43.799999999999926\n",
      "43.799999999999926\n",
      "23.799999999999926\n",
      "23.799999999999926\n",
      "23.799999999999926\n",
      "23.799999999999926\n",
      "23.799999999999926\n",
      "-4.200000000000074\n",
      "-4.200000000000074\n"
     ]
    }
   ],
   "source": [
    "mark = 0\n",
    "diffs = []\n",
    "for i in range(13):\n",
    "    print(gen_timeseries.iloc[10,0] - gen_timeseries.iloc[10,i+1])"
   ]
  },
  {
   "cell_type": "markdown",
   "metadata": {},
   "source": [
    "PO2theSteeGress."
   ]
  },
  {
   "cell_type": "markdown",
   "metadata": {},
   "source": [
    "### Aggregate power by county and export"
   ]
  },
  {
   "cell_type": "code",
   "execution_count": 33,
   "metadata": {},
   "outputs": [],
   "source": [
    "county_gen = plants.groupby('County')['2014'].sum()"
   ]
  },
  {
   "cell_type": "code",
   "execution_count": 34,
   "metadata": {},
   "outputs": [],
   "source": [
    "county_gen = pd.DataFrame(county_gen.iloc[1:])"
   ]
  },
  {
   "cell_type": "code",
   "execution_count": 35,
   "metadata": {},
   "outputs": [
    {
     "data": {
      "text/html": [
       "<div>\n",
       "<style scoped>\n",
       "    .dataframe tbody tr th:only-of-type {\n",
       "        vertical-align: middle;\n",
       "    }\n",
       "\n",
       "    .dataframe tbody tr th {\n",
       "        vertical-align: top;\n",
       "    }\n",
       "\n",
       "    .dataframe thead th {\n",
       "        text-align: right;\n",
       "    }\n",
       "</style>\n",
       "<table border=\"1\" class=\"dataframe\">\n",
       "  <thead>\n",
       "    <tr style=\"text-align: right;\">\n",
       "      <th></th>\n",
       "      <th>2014</th>\n",
       "    </tr>\n",
       "    <tr>\n",
       "      <th>County</th>\n",
       "      <th></th>\n",
       "    </tr>\n",
       "  </thead>\n",
       "  <tbody>\n",
       "    <tr>\n",
       "      <th>Alameda</th>\n",
       "      <td>1181.3</td>\n",
       "    </tr>\n",
       "    <tr>\n",
       "      <th>Amador</th>\n",
       "      <td>251.0</td>\n",
       "    </tr>\n",
       "    <tr>\n",
       "      <th>Butte</th>\n",
       "      <td>1124.5</td>\n",
       "    </tr>\n",
       "    <tr>\n",
       "      <th>Calaveras</th>\n",
       "      <td>297.3</td>\n",
       "    </tr>\n",
       "    <tr>\n",
       "      <th>Colusa</th>\n",
       "      <td>721.1</td>\n",
       "    </tr>\n",
       "  </tbody>\n",
       "</table>\n",
       "</div>"
      ],
      "text/plain": [
       "             2014\n",
       "County           \n",
       "Alameda    1181.3\n",
       "Amador      251.0\n",
       "Butte      1124.5\n",
       "Calaveras   297.3\n",
       "Colusa      721.1"
      ]
     },
     "execution_count": 35,
     "metadata": {},
     "output_type": "execute_result"
    }
   ],
   "source": [
    "county_gen.head()"
   ]
  },
  {
   "cell_type": "code",
   "execution_count": 36,
   "metadata": {},
   "outputs": [],
   "source": [
    "county_gen['name'] = county_gen.index"
   ]
  },
  {
   "cell_type": "code",
   "execution_count": 37,
   "metadata": {},
   "outputs": [],
   "source": [
    "county_gen['nu_index'] = list(range(55))"
   ]
  },
  {
   "cell_type": "code",
   "execution_count": 38,
   "metadata": {},
   "outputs": [],
   "source": [
    "county_gen.set_index('nu_index',inplace=True)"
   ]
  },
  {
   "cell_type": "code",
   "execution_count": 39,
   "metadata": {},
   "outputs": [
    {
     "data": {
      "text/html": [
       "<div>\n",
       "<style scoped>\n",
       "    .dataframe tbody tr th:only-of-type {\n",
       "        vertical-align: middle;\n",
       "    }\n",
       "\n",
       "    .dataframe tbody tr th {\n",
       "        vertical-align: top;\n",
       "    }\n",
       "\n",
       "    .dataframe thead th {\n",
       "        text-align: right;\n",
       "    }\n",
       "</style>\n",
       "<table border=\"1\" class=\"dataframe\">\n",
       "  <thead>\n",
       "    <tr style=\"text-align: right;\">\n",
       "      <th></th>\n",
       "      <th>generation_14</th>\n",
       "      <th>name</th>\n",
       "    </tr>\n",
       "    <tr>\n",
       "      <th>nu_index</th>\n",
       "      <th></th>\n",
       "      <th></th>\n",
       "    </tr>\n",
       "  </thead>\n",
       "  <tbody>\n",
       "    <tr>\n",
       "      <th>0</th>\n",
       "      <td>1181.3</td>\n",
       "      <td>Alameda</td>\n",
       "    </tr>\n",
       "    <tr>\n",
       "      <th>1</th>\n",
       "      <td>251.0</td>\n",
       "      <td>Amador</td>\n",
       "    </tr>\n",
       "    <tr>\n",
       "      <th>2</th>\n",
       "      <td>1124.5</td>\n",
       "      <td>Butte</td>\n",
       "    </tr>\n",
       "    <tr>\n",
       "      <th>3</th>\n",
       "      <td>297.3</td>\n",
       "      <td>Calaveras</td>\n",
       "    </tr>\n",
       "    <tr>\n",
       "      <th>4</th>\n",
       "      <td>721.1</td>\n",
       "      <td>Colusa</td>\n",
       "    </tr>\n",
       "  </tbody>\n",
       "</table>\n",
       "</div>"
      ],
      "text/plain": [
       "          generation_14       name\n",
       "nu_index                          \n",
       "0                1181.3    Alameda\n",
       "1                 251.0     Amador\n",
       "2                1124.5      Butte\n",
       "3                 297.3  Calaveras\n",
       "4                 721.1     Colusa"
      ]
     },
     "execution_count": 39,
     "metadata": {},
     "output_type": "execute_result"
    }
   ],
   "source": [
    "county_gen.rename(columns={'2014':'generation_14'},inplace=True)\n",
    "county_gen.head()"
   ]
  },
  {
   "cell_type": "code",
   "execution_count": 40,
   "metadata": {},
   "outputs": [],
   "source": [
    "county_gen.to_csv('datasets/county_gen14.csv',index=False)"
   ]
  },
  {
   "cell_type": "markdown",
   "metadata": {},
   "source": [
    "### CGEC Powerplants"
   ]
  },
  {
   "cell_type": "code",
   "execution_count": 37,
   "metadata": {},
   "outputs": [],
   "source": [
    "cgec = pd.read_csv('datasets/California_Power_Plants.csv')"
   ]
  },
  {
   "cell_type": "code",
   "execution_count": 38,
   "metadata": {},
   "outputs": [
    {
     "data": {
      "text/plain": [
       "(2506, 56)"
      ]
     },
     "execution_count": 38,
     "metadata": {},
     "output_type": "execute_result"
    }
   ],
   "source": [
    "cgec.shape"
   ]
  },
  {
   "cell_type": "code",
   "execution_count": 39,
   "metadata": {},
   "outputs": [
    {
     "name": "stdout",
     "output_type": "stream",
     "text": [
      "<class 'pandas.core.frame.DataFrame'>\n",
      "RangeIndex: 2506 entries, 0 to 2505\n",
      "Data columns (total 56 columns):\n",
      " #   Column                        Non-Null Count  Dtype  \n",
      "---  ------                        --------------  -----  \n",
      " 0   OBJECTID_12_13                2506 non-null   int64  \n",
      " 1   Plant_ID                      2506 non-null   object \n",
      " 2   Plant_Alias                   1516 non-null   object \n",
      " 3   Plant_Label                   2506 non-null   object \n",
      " 4   MW                            2491 non-null   float64\n",
      " 5   Gross_MWh                     1565 non-null   float64\n",
      " 6   Net_MWh                       1548 non-null   float64\n",
      " 7   General_Fuel                  2504 non-null   object \n",
      " 8   Status                        2495 non-null   object \n",
      " 9   STEP_License_Status           197 non-null    object \n",
      " 10  Gen_Count                     1808 non-null   float64\n",
      " 11  Initial_Start_Date            1809 non-null   float64\n",
      " 12  Online_Year                   1810 non-null   float64\n",
      " 13  Retire_Date                   175 non-null    float64\n",
      " 14  Docket_ID                     197 non-null    object \n",
      " 15  CEC_Sited_Flag                2466 non-null   object \n",
      " 16  STEP_Project_Type             197 non-null    object \n",
      " 17  REAT_ID                       2182 non-null   object \n",
      " 18  WREGIS_ID                     116 non-null    object \n",
      " 19  County                        2495 non-null   object \n",
      " 20  State_                        2504 non-null   object \n",
      " 21  Peaker                        1820 non-null   float64\n",
      " 22  Renewable_Energy              2503 non-null   float64\n",
      " 23  CEC_Jurisdictional_Plant      2499 non-null   float64\n",
      " 24  CEC_Data_Source               1706 non-null   object \n",
      " 25  Wind_Resource                 213 non-null    object \n",
      " 26  LRA                           1775 non-null   object \n",
      " 27  Sub_Area                      1299 non-null   object \n",
      " 28  Service_Area                  2473 non-null   object \n",
      " 29  Service_Category              1984 non-null   object \n",
      " 30  Caliso_Balancing_Authorities  2472 non-null   object \n",
      " 31  Air_District                  2473 non-null   object \n",
      " 32  Air_Basin                     2473 non-null   object \n",
      " 33  Quad                          2475 non-null   object \n",
      " 34  Senate_District               2473 non-null   object \n",
      " 35  Assembly_District             2473 non-null   object \n",
      " 36  Congressional_District        2384 non-null   object \n",
      " 37  CES30_PercentileRange         2349 non-null   object \n",
      " 38  CES30_Percentile              2349 non-null   float64\n",
      " 39  Website                       1 non-null      object \n",
      " 40  CEC_Link                      128 non-null    object \n",
      " 41  Aerial                        2348 non-null   object \n",
      " 42  C_Comments                    98 non-null     object \n",
      " 43  Longitude                     2496 non-null   float64\n",
      " 44  Latitude                      2496 non-null   float64\n",
      " 45  Elevation                     2477 non-null   float64\n",
      " 46  Operation_Job                 99 non-null     float64\n",
      " 47  Property_Tax                  98 non-null     float64\n",
      " 48  Capacity_Factor               1548 non-null   float64\n",
      " 49  Income_Percent                2257 non-null   float64\n",
      " 50  Project_Location              2185 non-null   object \n",
      " 51  Creator                       2506 non-null   object \n",
      " 52  Creator_Date                  2506 non-null   int64  \n",
      " 53  Last_Editor                   2506 non-null   object \n",
      " 54  Last_Editor_Date              2506 non-null   int64  \n",
      " 55  GlobalID                      2506 non-null   object \n",
      "dtypes: float64(18), int64(3), object(35)\n",
      "memory usage: 1.1+ MB\n"
     ]
    }
   ],
   "source": [
    "cgec.info()"
   ]
  },
  {
   "cell_type": "code",
   "execution_count": 40,
   "metadata": {},
   "outputs": [
    {
     "data": {
      "text/plain": [
       "[<matplotlib.lines.Line2D at 0x1219b8150>]"
      ]
     },
     "execution_count": 40,
     "metadata": {},
     "output_type": "execute_result"
    },
    {
     "data": {
      "image/png": "[encoded data removed]",
      "text/plain": [
       "<Figure size 432x288 with 1 Axes>"
      ]
     },
     "metadata": {
      "needs_background": "light"
     },
     "output_type": "display_data"
    }
   ],
   "source": [
    "plt.plot(cgec['Longitude'],cgec['Latitude'],'k.')"
   ]
  },
  {
   "cell_type": "code",
   "execution_count": 41,
   "metadata": {},
   "outputs": [
    {
     "data": {
      "text/plain": [
       "Solar            903\n",
       "Gas              658\n",
       "Hydro            420\n",
       "Wind             213\n",
       "Landfill Gas      80\n",
       "Biomass           70\n",
       "Geothermal        55\n",
       "Digester Gas      29\n",
       "Coal              21\n",
       "Solar Thermal     19\n",
       "Battery           16\n",
       "MSW               16\n",
       "Nuclear            4\n",
       "Name: General_Fuel, dtype: int64"
      ]
     },
     "execution_count": 41,
     "metadata": {},
     "output_type": "execute_result"
    }
   ],
   "source": [
    "cgec['General_Fuel'].value_counts()"
   ]
  },
  {
   "cell_type": "code",
   "execution_count": 45,
   "metadata": {},
   "outputs": [],
   "source": [
    "county_portfolio = pd.pivot_table(cgec,values='MW',index='County',columns='General_Fuel',aggfunc=np.sum)\n",
    "county_portfolio.fillna(0,inplace=True)"
   ]
  },
  {
   "cell_type": "code",
   "execution_count": 48,
   "metadata": {},
   "outputs": [
    {
     "data": {
      "text/html": [
       "<div>\n",
       "<style scoped>\n",
       "    .dataframe tbody tr th:only-of-type {\n",
       "        vertical-align: middle;\n",
       "    }\n",
       "\n",
       "    .dataframe tbody tr th {\n",
       "        vertical-align: top;\n",
       "    }\n",
       "\n",
       "    .dataframe thead th {\n",
       "        text-align: right;\n",
       "    }\n",
       "</style>\n",
       "<table border=\"1\" class=\"dataframe\">\n",
       "  <thead>\n",
       "    <tr style=\"text-align: right;\">\n",
       "      <th>General_Fuel</th>\n",
       "      <th>Battery</th>\n",
       "      <th>Biomass</th>\n",
       "      <th>Coal</th>\n",
       "      <th>Digester Gas</th>\n",
       "      <th>Gas</th>\n",
       "      <th>Geothermal</th>\n",
       "      <th>Hydro</th>\n",
       "      <th>Landfill Gas</th>\n",
       "      <th>MSW</th>\n",
       "      <th>Nuclear</th>\n",
       "      <th>Solar</th>\n",
       "      <th>Solar Thermal</th>\n",
       "      <th>Wind</th>\n",
       "    </tr>\n",
       "    <tr>\n",
       "      <th>County</th>\n",
       "      <th></th>\n",
       "      <th></th>\n",
       "      <th></th>\n",
       "      <th></th>\n",
       "      <th></th>\n",
       "      <th></th>\n",
       "      <th></th>\n",
       "      <th></th>\n",
       "      <th></th>\n",
       "      <th></th>\n",
       "      <th></th>\n",
       "      <th></th>\n",
       "      <th></th>\n",
       "    </tr>\n",
       "  </thead>\n",
       "  <tbody>\n",
       "    <tr>\n",
       "      <th>Humboldt</th>\n",
       "      <td>0.0</td>\n",
       "      <td>109.3</td>\n",
       "      <td>0.0</td>\n",
       "      <td>0.0</td>\n",
       "      <td>168.080</td>\n",
       "      <td>0.0</td>\n",
       "      <td>1.53</td>\n",
       "      <td>0.00</td>\n",
       "      <td>0.0</td>\n",
       "      <td>65.28</td>\n",
       "      <td>0.000</td>\n",
       "      <td>0.0</td>\n",
       "      <td>0.0</td>\n",
       "    </tr>\n",
       "    <tr>\n",
       "      <th>Sacramento</th>\n",
       "      <td>0.0</td>\n",
       "      <td>10.5</td>\n",
       "      <td>0.0</td>\n",
       "      <td>0.0</td>\n",
       "      <td>1624.000</td>\n",
       "      <td>0.0</td>\n",
       "      <td>212.22</td>\n",
       "      <td>15.15</td>\n",
       "      <td>0.0</td>\n",
       "      <td>875.00</td>\n",
       "      <td>155.240</td>\n",
       "      <td>0.0</td>\n",
       "      <td>0.0</td>\n",
       "    </tr>\n",
       "    <tr>\n",
       "      <th>San Diego</th>\n",
       "      <td>37.5</td>\n",
       "      <td>103.5</td>\n",
       "      <td>0.0</td>\n",
       "      <td>14.5</td>\n",
       "      <td>4620.141</td>\n",
       "      <td>0.0</td>\n",
       "      <td>58.23</td>\n",
       "      <td>32.35</td>\n",
       "      <td>70.0</td>\n",
       "      <td>1127.00</td>\n",
       "      <td>112.235</td>\n",
       "      <td>0.0</td>\n",
       "      <td>182.0</td>\n",
       "    </tr>\n",
       "    <tr>\n",
       "      <th>San Luis Obispo</th>\n",
       "      <td>0.0</td>\n",
       "      <td>0.0</td>\n",
       "      <td>0.0</td>\n",
       "      <td>0.0</td>\n",
       "      <td>1356.300</td>\n",
       "      <td>0.0</td>\n",
       "      <td>0.90</td>\n",
       "      <td>1.50</td>\n",
       "      <td>0.0</td>\n",
       "      <td>2323.00</td>\n",
       "      <td>810.040</td>\n",
       "      <td>177.0</td>\n",
       "      <td>0.0</td>\n",
       "    </tr>\n",
       "  </tbody>\n",
       "</table>\n",
       "</div>"
      ],
      "text/plain": [
       "General_Fuel     Battery  Biomass  Coal  Digester Gas       Gas  Geothermal  \\\n",
       "County                                                                        \n",
       "Humboldt             0.0    109.3   0.0           0.0   168.080         0.0   \n",
       "Sacramento           0.0     10.5   0.0           0.0  1624.000         0.0   \n",
       "San Diego           37.5    103.5   0.0          14.5  4620.141         0.0   \n",
       "San Luis Obispo      0.0      0.0   0.0           0.0  1356.300         0.0   \n",
       "\n",
       "General_Fuel      Hydro  Landfill Gas   MSW  Nuclear    Solar  Solar Thermal  \\\n",
       "County                                                                         \n",
       "Humboldt           1.53          0.00   0.0    65.28    0.000            0.0   \n",
       "Sacramento       212.22         15.15   0.0   875.00  155.240            0.0   \n",
       "San Diego         58.23         32.35  70.0  1127.00  112.235            0.0   \n",
       "San Luis Obispo    0.90          1.50   0.0  2323.00  810.040          177.0   \n",
       "\n",
       "General_Fuel      Wind  \n",
       "County                  \n",
       "Humboldt           0.0  \n",
       "Sacramento         0.0  \n",
       "San Diego        182.0  \n",
       "San Luis Obispo    0.0  "
      ]
     },
     "execution_count": 48,
     "metadata": {},
     "output_type": "execute_result"
    }
   ],
   "source": [
    "county_portfolio[county_portfolio['Nuclear'] > 0]"
   ]
  },
  {
   "cell_type": "code",
   "execution_count": null,
   "metadata": {},
   "outputs": [],
   "source": []
  }
 ],
 "metadata": {
  "kernelspec": {
   "display_name": "Python 3",
   "language": "python",
   "name": "python3"
  },
  "language_info": {
   "codemirror_mode": {
    "name": "ipython",
    "version": 3
   },
   "file_extension": ".py",
   "mimetype": "text/x-python",
   "name": "python",
   "nbconvert_exporter": "python",
   "pygments_lexer": "ipython3",
   "version": "3.7.6"
  }
 },
 "nbformat": 4,
 "nbformat_minor": 4
}
