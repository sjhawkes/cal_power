{
 "cells": [
  {
   "cell_type": "code",
   "execution_count": 14,
   "metadata": {},
   "outputs": [],
   "source": [
    "import pandas as pd\n",
    "import numpy as np\n",
    "import matplotlib.pyplot as plt"
   ]
  },
  {
   "cell_type": "markdown",
   "metadata": {},
   "source": [
    "### County ID"
   ]
  },
  {
   "cell_type": "code",
   "execution_count": 15,
   "metadata": {},
   "outputs": [
    {
     "name": "stdout",
     "output_type": "stream",
     "text": [
      "(43934, 7)\n"
     ]
    },
    {
     "data": {
      "text/html": [
       "<div>\n",
       "<style scoped>\n",
       "    .dataframe tbody tr th:only-of-type {\n",
       "        vertical-align: middle;\n",
       "    }\n",
       "\n",
       "    .dataframe tbody tr th {\n",
       "        vertical-align: top;\n",
       "    }\n",
       "\n",
       "    .dataframe thead th {\n",
       "        text-align: right;\n",
       "    }\n",
       "</style>\n",
       "<table border=\"1\" class=\"dataframe\">\n",
       "  <thead>\n",
       "    <tr style=\"text-align: right;\">\n",
       "      <th></th>\n",
       "      <th>Summary Level</th>\n",
       "      <th>State Code</th>\n",
       "      <th>County Code</th>\n",
       "      <th>Subdivision Code</th>\n",
       "      <th>Place Code</th>\n",
       "      <th>City Code</th>\n",
       "      <th>Name</th>\n",
       "    </tr>\n",
       "  </thead>\n",
       "  <tbody>\n",
       "    <tr>\n",
       "      <th>0</th>\n",
       "      <td>010</td>\n",
       "      <td>00</td>\n",
       "      <td>000</td>\n",
       "      <td>00000</td>\n",
       "      <td>00000</td>\n",
       "      <td>00000</td>\n",
       "      <td>United States</td>\n",
       "    </tr>\n",
       "    <tr>\n",
       "      <th>1</th>\n",
       "      <td>040</td>\n",
       "      <td>01</td>\n",
       "      <td>000</td>\n",
       "      <td>00000</td>\n",
       "      <td>00000</td>\n",
       "      <td>00000</td>\n",
       "      <td>Alabama</td>\n",
       "    </tr>\n",
       "    <tr>\n",
       "      <th>2</th>\n",
       "      <td>050</td>\n",
       "      <td>01</td>\n",
       "      <td>001</td>\n",
       "      <td>00000</td>\n",
       "      <td>00000</td>\n",
       "      <td>00000</td>\n",
       "      <td>Autauga County</td>\n",
       "    </tr>\n",
       "    <tr>\n",
       "      <th>3</th>\n",
       "      <td>050</td>\n",
       "      <td>01</td>\n",
       "      <td>003</td>\n",
       "      <td>00000</td>\n",
       "      <td>00000</td>\n",
       "      <td>00000</td>\n",
       "      <td>Baldwin County</td>\n",
       "    </tr>\n",
       "    <tr>\n",
       "      <th>4</th>\n",
       "      <td>050</td>\n",
       "      <td>01</td>\n",
       "      <td>005</td>\n",
       "      <td>00000</td>\n",
       "      <td>00000</td>\n",
       "      <td>00000</td>\n",
       "      <td>Barbour County</td>\n",
       "    </tr>\n",
       "  </tbody>\n",
       "</table>\n",
       "</div>"
      ],
      "text/plain": [
       "  Summary Level State Code County Code Subdivision Code Place Code City Code  \\\n",
       "0           010         00         000            00000      00000     00000   \n",
       "1           040         01         000            00000      00000     00000   \n",
       "2           050         01         001            00000      00000     00000   \n",
       "3           050         01         003            00000      00000     00000   \n",
       "4           050         01         005            00000      00000     00000   \n",
       "\n",
       "             Name  \n",
       "0   United States  \n",
       "1         Alabama  \n",
       "2  Autauga County  \n",
       "3  Baldwin County  \n",
       "4  Barbour County  "
      ]
     },
     "execution_count": 15,
     "metadata": {},
     "output_type": "execute_result"
    }
   ],
   "source": [
    "cnty_id = pd.read_csv('./datasets/county_id.csv',dtype='str')\n",
    "print(cnty_id.shape)\n",
    "cnty_id.head()"
   ]
  },
  {
   "cell_type": "markdown",
   "metadata": {},
   "source": [
    "### Population"
   ]
  },
  {
   "cell_type": "code",
   "execution_count": 16,
   "metadata": {},
   "outputs": [
    {
     "name": "stdout",
     "output_type": "stream",
     "text": [
      "(58, 3)\n"
     ]
    },
    {
     "data": {
      "text/html": [
       "<div>\n",
       "<style scoped>\n",
       "    .dataframe tbody tr th:only-of-type {\n",
       "        vertical-align: middle;\n",
       "    }\n",
       "\n",
       "    .dataframe tbody tr th {\n",
       "        vertical-align: top;\n",
       "    }\n",
       "\n",
       "    .dataframe thead th {\n",
       "        text-align: right;\n",
       "    }\n",
       "</style>\n",
       "<table border=\"1\" class=\"dataframe\">\n",
       "  <thead>\n",
       "    <tr style=\"text-align: right;\">\n",
       "      <th></th>\n",
       "      <th>CTYNAME</th>\n",
       "      <th>Pop</th>\n",
       "      <th>GrowthRate</th>\n",
       "    </tr>\n",
       "  </thead>\n",
       "  <tbody>\n",
       "    <tr>\n",
       "      <th>0</th>\n",
       "      <td>Los Angeles County</td>\n",
       "      <td>10105518</td>\n",
       "      <td>2.8820</td>\n",
       "    </tr>\n",
       "    <tr>\n",
       "      <th>1</th>\n",
       "      <td>San Diego County</td>\n",
       "      <td>3343364</td>\n",
       "      <td>7.7356</td>\n",
       "    </tr>\n",
       "    <tr>\n",
       "      <th>2</th>\n",
       "      <td>Orange County</td>\n",
       "      <td>3185968</td>\n",
       "      <td>5.6160</td>\n",
       "    </tr>\n",
       "    <tr>\n",
       "      <th>3</th>\n",
       "      <td>Riverside County</td>\n",
       "      <td>2450758</td>\n",
       "      <td>11.3145</td>\n",
       "    </tr>\n",
       "    <tr>\n",
       "      <th>4</th>\n",
       "      <td>San Bernardino County</td>\n",
       "      <td>2171603</td>\n",
       "      <td>6.4037</td>\n",
       "    </tr>\n",
       "  </tbody>\n",
       "</table>\n",
       "</div>"
      ],
      "text/plain": [
       "                 CTYNAME       Pop  GrowthRate\n",
       "0     Los Angeles County  10105518      2.8820\n",
       "1       San Diego County   3343364      7.7356\n",
       "2          Orange County   3185968      5.6160\n",
       "3       Riverside County   2450758     11.3145\n",
       "4  San Bernardino County   2171603      6.4037"
      ]
     },
     "execution_count": 16,
     "metadata": {},
     "output_type": "execute_result"
    }
   ],
   "source": [
    "pop = pd.read_csv('datasets/county_census.csv')\n",
    "print(pop.shape)\n",
    "pop.head()"
   ]
  },
  {
   "cell_type": "markdown",
   "metadata": {},
   "source": [
    "PO2theSteeGress."
   ]
  },
  {
   "cell_type": "markdown",
   "metadata": {},
   "source": [
    "### CGEC Powerplants"
   ]
  },
  {
   "cell_type": "code",
   "execution_count": 20,
   "metadata": {},
   "outputs": [],
   "source": [
    "cgec = pd.read_csv('datasets/California_Power_Plants.csv')"
   ]
  },
  {
   "cell_type": "code",
   "execution_count": 21,
   "metadata": {},
   "outputs": [
    {
     "data": {
      "text/plain": [
       "(2506, 56)"
      ]
     },
     "execution_count": 21,
     "metadata": {},
     "output_type": "execute_result"
    }
   ],
   "source": [
    "cgec.shape"
   ]
  },
  {
   "cell_type": "code",
   "execution_count": 22,
   "metadata": {},
   "outputs": [
    {
     "name": "stdout",
     "output_type": "stream",
     "text": [
      "<class 'pandas.core.frame.DataFrame'>\n",
      "RangeIndex: 2506 entries, 0 to 2505\n",
      "Data columns (total 56 columns):\n",
      " #   Column                        Non-Null Count  Dtype  \n",
      "---  ------                        --------------  -----  \n",
      " 0   OBJECTID_12_13                2506 non-null   int64  \n",
      " 1   Plant_ID                      2506 non-null   object \n",
      " 2   Plant_Alias                   1516 non-null   object \n",
      " 3   Plant_Label                   2506 non-null   object \n",
      " 4   MW                            2491 non-null   float64\n",
      " 5   Gross_MWh                     1565 non-null   float64\n",
      " 6   Net_MWh                       1548 non-null   float64\n",
      " 7   General_Fuel                  2504 non-null   object \n",
      " 8   Status                        2495 non-null   object \n",
      " 9   STEP_License_Status           197 non-null    object \n",
      " 10  Gen_Count                     1808 non-null   float64\n",
      " 11  Initial_Start_Date            1809 non-null   float64\n",
      " 12  Online_Year                   1810 non-null   float64\n",
      " 13  Retire_Date                   175 non-null    float64\n",
      " 14  Docket_ID                     197 non-null    object \n",
      " 15  CEC_Sited_Flag                2466 non-null   object \n",
      " 16  STEP_Project_Type             197 non-null    object \n",
      " 17  REAT_ID                       2182 non-null   object \n",
      " 18  WREGIS_ID                     116 non-null    object \n",
      " 19  County                        2495 non-null   object \n",
      " 20  State_                        2504 non-null   object \n",
      " 21  Peaker                        1820 non-null   float64\n",
      " 22  Renewable_Energy              2503 non-null   float64\n",
      " 23  CEC_Jurisdictional_Plant      2499 non-null   float64\n",
      " 24  CEC_Data_Source               1706 non-null   object \n",
      " 25  Wind_Resource                 213 non-null    object \n",
      " 26  LRA                           1775 non-null   object \n",
      " 27  Sub_Area                      1299 non-null   object \n",
      " 28  Service_Area                  2473 non-null   object \n",
      " 29  Service_Category              1984 non-null   object \n",
      " 30  Caliso_Balancing_Authorities  2472 non-null   object \n",
      " 31  Air_District                  2473 non-null   object \n",
      " 32  Air_Basin                     2473 non-null   object \n",
      " 33  Quad                          2475 non-null   object \n",
      " 34  Senate_District               2473 non-null   object \n",
      " 35  Assembly_District             2473 non-null   object \n",
      " 36  Congressional_District        2384 non-null   object \n",
      " 37  CES30_PercentileRange         2349 non-null   object \n",
      " 38  CES30_Percentile              2349 non-null   float64\n",
      " 39  Website                       1 non-null      object \n",
      " 40  CEC_Link                      128 non-null    object \n",
      " 41  Aerial                        2348 non-null   object \n",
      " 42  C_Comments                    98 non-null     object \n",
      " 43  Longitude                     2496 non-null   float64\n",
      " 44  Latitude                      2496 non-null   float64\n",
      " 45  Elevation                     2477 non-null   float64\n",
      " 46  Operation_Job                 99 non-null     float64\n",
      " 47  Property_Tax                  98 non-null     float64\n",
      " 48  Capacity_Factor               1548 non-null   float64\n",
      " 49  Income_Percent                2257 non-null   float64\n",
      " 50  Project_Location              2185 non-null   object \n",
      " 51  Creator                       2506 non-null   object \n",
      " 52  Creator_Date                  2506 non-null   int64  \n",
      " 53  Last_Editor                   2506 non-null   object \n",
      " 54  Last_Editor_Date              2506 non-null   int64  \n",
      " 55  GlobalID                      2506 non-null   object \n",
      "dtypes: float64(18), int64(3), object(35)\n",
      "memory usage: 1.1+ MB\n"
     ]
    }
   ],
   "source": [
    "cgec.info()"
   ]
  },
  {
   "cell_type": "code",
   "execution_count": 23,
   "metadata": {},
   "outputs": [
    {
     "data": {
      "text/plain": [
       "CA    2481\n",
       "NV      11\n",
       "AZ       5\n",
       "MX       3\n",
       "UT       3\n",
       "NM       1\n",
       "Name: State_, dtype: int64"
      ]
     },
     "execution_count": 23,
     "metadata": {},
     "output_type": "execute_result"
    }
   ],
   "source": [
    "cgec['State_'].value_counts()"
   ]
  },
  {
   "cell_type": "code",
   "execution_count": 24,
   "metadata": {},
   "outputs": [
    {
     "data": {
      "text/html": [
       "<div>\n",
       "<style scoped>\n",
       "    .dataframe tbody tr th:only-of-type {\n",
       "        vertical-align: middle;\n",
       "    }\n",
       "\n",
       "    .dataframe tbody tr th {\n",
       "        vertical-align: top;\n",
       "    }\n",
       "\n",
       "    .dataframe thead th {\n",
       "        text-align: right;\n",
       "    }\n",
       "</style>\n",
       "<table border=\"1\" class=\"dataframe\">\n",
       "  <thead>\n",
       "    <tr style=\"text-align: right;\">\n",
       "      <th></th>\n",
       "      <th>Plant_ID</th>\n",
       "      <th>Plant_Label</th>\n",
       "      <th>MW</th>\n",
       "      <th>General_Fuel</th>\n",
       "      <th>Status</th>\n",
       "      <th>Initial_Start_Date</th>\n",
       "      <th>State_</th>\n",
       "      <th>County</th>\n",
       "      <th>Latitude</th>\n",
       "      <th>Longitude</th>\n",
       "      <th>Renewable_Energy</th>\n",
       "      <th>Service_Area</th>\n",
       "      <th>Income_Percent</th>\n",
       "      <th>CES30_Percentile</th>\n",
       "    </tr>\n",
       "  </thead>\n",
       "  <tbody>\n",
       "    <tr>\n",
       "      <th>0</th>\n",
       "      <td>W0464</td>\n",
       "      <td>El Cabo</td>\n",
       "      <td>298.2</td>\n",
       "      <td>Wind</td>\n",
       "      <td>Operating</td>\n",
       "      <td>NaN</td>\n",
       "      <td>NM</td>\n",
       "      <td>Torrance</td>\n",
       "      <td>34.651112</td>\n",
       "      <td>-105.461670</td>\n",
       "      <td>1.0</td>\n",
       "      <td>NaN</td>\n",
       "      <td>NaN</td>\n",
       "      <td>NaN</td>\n",
       "    </tr>\n",
       "    <tr>\n",
       "      <th>1</th>\n",
       "      <td>G0178</td>\n",
       "      <td>Downieville</td>\n",
       "      <td>0.0</td>\n",
       "      <td>Gas</td>\n",
       "      <td>Retired</td>\n",
       "      <td>9.466848e+11</td>\n",
       "      <td>CA</td>\n",
       "      <td>Sierra</td>\n",
       "      <td>39.570290</td>\n",
       "      <td>-120.821224</td>\n",
       "      <td>0.0</td>\n",
       "      <td>Pacific Gas &amp; Electric Company</td>\n",
       "      <td>69.0</td>\n",
       "      <td>38.0</td>\n",
       "    </tr>\n",
       "    <tr>\n",
       "      <th>2</th>\n",
       "      <td>H0429</td>\n",
       "      <td>Salmon Creek</td>\n",
       "      <td>0.5</td>\n",
       "      <td>Hydro</td>\n",
       "      <td>Operating</td>\n",
       "      <td>NaN</td>\n",
       "      <td>CA</td>\n",
       "      <td>Sierra</td>\n",
       "      <td>39.610712</td>\n",
       "      <td>-120.606095</td>\n",
       "      <td>1.0</td>\n",
       "      <td>Pacific Gas &amp; Electric Company</td>\n",
       "      <td>69.0</td>\n",
       "      <td>38.0</td>\n",
       "    </tr>\n",
       "    <tr>\n",
       "      <th>3</th>\n",
       "      <td>H0226</td>\n",
       "      <td>Lower Haypress</td>\n",
       "      <td>5.0</td>\n",
       "      <td>Hydro</td>\n",
       "      <td>Operating</td>\n",
       "      <td>5.996160e+11</td>\n",
       "      <td>CA</td>\n",
       "      <td>Sierra</td>\n",
       "      <td>39.565701</td>\n",
       "      <td>-120.581694</td>\n",
       "      <td>1.0</td>\n",
       "      <td>Pacific Gas &amp; Electric Company</td>\n",
       "      <td>69.0</td>\n",
       "      <td>38.0</td>\n",
       "    </tr>\n",
       "    <tr>\n",
       "      <th>4</th>\n",
       "      <td>H0623</td>\n",
       "      <td>Middle Haypress</td>\n",
       "      <td>5.0</td>\n",
       "      <td>Hydro</td>\n",
       "      <td>Operating</td>\n",
       "      <td>5.969376e+11</td>\n",
       "      <td>CA</td>\n",
       "      <td>Sierra</td>\n",
       "      <td>39.565721</td>\n",
       "      <td>-120.596900</td>\n",
       "      <td>1.0</td>\n",
       "      <td>Pacific Gas &amp; Electric Company</td>\n",
       "      <td>69.0</td>\n",
       "      <td>38.0</td>\n",
       "    </tr>\n",
       "  </tbody>\n",
       "</table>\n",
       "</div>"
      ],
      "text/plain": [
       "  Plant_ID      Plant_Label     MW General_Fuel     Status  \\\n",
       "0    W0464          El Cabo  298.2         Wind  Operating   \n",
       "1    G0178      Downieville    0.0          Gas    Retired   \n",
       "2    H0429     Salmon Creek    0.5        Hydro  Operating   \n",
       "3    H0226   Lower Haypress    5.0        Hydro  Operating   \n",
       "4    H0623  Middle Haypress    5.0        Hydro  Operating   \n",
       "\n",
       "   Initial_Start_Date State_    County   Latitude   Longitude  \\\n",
       "0                 NaN     NM  Torrance  34.651112 -105.461670   \n",
       "1        9.466848e+11     CA    Sierra  39.570290 -120.821224   \n",
       "2                 NaN     CA    Sierra  39.610712 -120.606095   \n",
       "3        5.996160e+11     CA    Sierra  39.565701 -120.581694   \n",
       "4        5.969376e+11     CA    Sierra  39.565721 -120.596900   \n",
       "\n",
       "   Renewable_Energy                    Service_Area  Income_Percent  \\\n",
       "0               1.0                             NaN             NaN   \n",
       "1               0.0  Pacific Gas & Electric Company            69.0   \n",
       "2               1.0  Pacific Gas & Electric Company            69.0   \n",
       "3               1.0  Pacific Gas & Electric Company            69.0   \n",
       "4               1.0  Pacific Gas & Electric Company            69.0   \n",
       "\n",
       "   CES30_Percentile  \n",
       "0               NaN  \n",
       "1              38.0  \n",
       "2              38.0  \n",
       "3              38.0  \n",
       "4              38.0  "
      ]
     },
     "execution_count": 24,
     "metadata": {},
     "output_type": "execute_result"
    }
   ],
   "source": [
    "plants = cgec[['Plant_ID','Plant_Label','MW','General_Fuel','Status','Initial_Start_Date','State_','County','Latitude','Longitude','Renewable_Energy','Service_Area','Income_Percent','CES30_Percentile']]\n",
    "plants.head()"
   ]
  },
  {
   "cell_type": "code",
   "execution_count": 25,
   "metadata": {},
   "outputs": [
    {
     "data": {
      "text/plain": [
       "<matplotlib.axes._subplots.AxesSubplot at 0x11b738810>"
      ]
     },
     "execution_count": 25,
     "metadata": {},
     "output_type": "execute_result"
    },
    {
     "data": {
      "image/png": "[encoded data removed]",
      "text/plain": [
       "<Figure size 432x288 with 1 Axes>"
      ]
     },
     "metadata": {
      "needs_background": "light"
     },
     "output_type": "display_data"
    }
   ],
   "source": [
    "plants[(plants['General_Fuel']=='Solar') & (plants['Status']=='Operating') & (plants['MW']>=50)]['MW'].hist(bins=30)"
   ]
  },
  {
   "cell_type": "code",
   "execution_count": 26,
   "metadata": {},
   "outputs": [
    {
     "data": {
      "text/plain": [
       "12712.589167999999"
      ]
     },
     "execution_count": 26,
     "metadata": {},
     "output_type": "execute_result"
    }
   ],
   "source": [
    "plants[(plants['General_Fuel']=='Solar') & (plants['Status']=='Operating')]['MW'].sum()"
   ]
  },
  {
   "cell_type": "code",
   "execution_count": 27,
   "metadata": {},
   "outputs": [
    {
     "data": {
      "text/plain": [
       "7536.17"
      ]
     },
     "execution_count": 27,
     "metadata": {},
     "output_type": "execute_result"
    }
   ],
   "source": [
    "plants[(plants['General_Fuel']=='Solar') & (plants['Status']=='Operating') & (plants['MW']>=100)]['MW'].sum()"
   ]
  },
  {
   "cell_type": "markdown",
   "metadata": {},
   "source": [
    "### Solar and wind plants"
   ]
  },
  {
   "cell_type": "code",
   "execution_count": 28,
   "metadata": {},
   "outputs": [],
   "source": [
    "solar = cgec[(cgec['General_Fuel']=='Solar') & (cgec['Status']=='Operating')]"
   ]
  },
  {
   "cell_type": "code",
   "execution_count": 110,
   "metadata": {},
   "outputs": [],
   "source": [
    "solar.to_csv('datasets/solar_plants.csv',index=False)"
   ]
  },
  {
   "cell_type": "markdown",
   "metadata": {},
   "source": [
    "### County Portfolios"
   ]
  },
  {
   "cell_type": "code",
   "execution_count": 8,
   "metadata": {},
   "outputs": [],
   "source": [
    "county_portfolio = pd.pivot_table(cgec,values='MW',index='County',columns='General_Fuel',aggfunc=np.sum)\n",
    "county_portfolio.fillna(0,inplace=True)"
   ]
  },
  {
   "cell_type": "code",
   "execution_count": 17,
   "metadata": {},
   "outputs": [],
   "source": [
    "county_portfolio['Total'] = [county_portfolio.iloc[i].sum() for i in range(county_portfolio.shape[0])]"
   ]
  },
  {
   "cell_type": "code",
   "execution_count": 18,
   "metadata": {},
   "outputs": [
    {
     "data": {
      "text/html": [
       "<div>\n",
       "<style scoped>\n",
       "    .dataframe tbody tr th:only-of-type {\n",
       "        vertical-align: middle;\n",
       "    }\n",
       "\n",
       "    .dataframe tbody tr th {\n",
       "        vertical-align: top;\n",
       "    }\n",
       "\n",
       "    .dataframe thead th {\n",
       "        text-align: right;\n",
       "    }\n",
       "</style>\n",
       "<table border=\"1\" class=\"dataframe\">\n",
       "  <thead>\n",
       "    <tr style=\"text-align: right;\">\n",
       "      <th>General_Fuel</th>\n",
       "      <th>Battery</th>\n",
       "      <th>Biomass</th>\n",
       "      <th>Coal</th>\n",
       "      <th>Digester Gas</th>\n",
       "      <th>Gas</th>\n",
       "      <th>Geothermal</th>\n",
       "      <th>Hydro</th>\n",
       "      <th>Landfill Gas</th>\n",
       "      <th>MSW</th>\n",
       "      <th>Nuclear</th>\n",
       "      <th>Solar</th>\n",
       "      <th>Solar Thermal</th>\n",
       "      <th>Wind</th>\n",
       "      <th>Total</th>\n",
       "    </tr>\n",
       "    <tr>\n",
       "      <th>County</th>\n",
       "      <th></th>\n",
       "      <th></th>\n",
       "      <th></th>\n",
       "      <th></th>\n",
       "      <th></th>\n",
       "      <th></th>\n",
       "      <th></th>\n",
       "      <th></th>\n",
       "      <th></th>\n",
       "      <th></th>\n",
       "      <th></th>\n",
       "      <th></th>\n",
       "      <th></th>\n",
       "      <th></th>\n",
       "    </tr>\n",
       "  </thead>\n",
       "  <tbody>\n",
       "    <tr>\n",
       "      <th>Alameda</th>\n",
       "      <td>1.4</td>\n",
       "      <td>0.00</td>\n",
       "      <td>0.0</td>\n",
       "      <td>11.05</td>\n",
       "      <td>3675.925</td>\n",
       "      <td>0.0</td>\n",
       "      <td>1.250</td>\n",
       "      <td>13.94</td>\n",
       "      <td>0.000</td>\n",
       "      <td>0.0</td>\n",
       "      <td>18.803</td>\n",
       "      <td>0.0</td>\n",
       "      <td>786.33</td>\n",
       "      <td>4508.698</td>\n",
       "    </tr>\n",
       "    <tr>\n",
       "      <th>Alpine</th>\n",
       "      <td>0.0</td>\n",
       "      <td>0.00</td>\n",
       "      <td>0.0</td>\n",
       "      <td>0.00</td>\n",
       "      <td>7.150</td>\n",
       "      <td>0.0</td>\n",
       "      <td>0.000</td>\n",
       "      <td>0.00</td>\n",
       "      <td>0.000</td>\n",
       "      <td>0.0</td>\n",
       "      <td>0.000</td>\n",
       "      <td>0.0</td>\n",
       "      <td>0.00</td>\n",
       "      <td>7.150</td>\n",
       "    </tr>\n",
       "    <tr>\n",
       "      <th>Amador</th>\n",
       "      <td>0.0</td>\n",
       "      <td>40.50</td>\n",
       "      <td>18.4</td>\n",
       "      <td>0.00</td>\n",
       "      <td>92.500</td>\n",
       "      <td>0.0</td>\n",
       "      <td>243.055</td>\n",
       "      <td>0.00</td>\n",
       "      <td>0.000</td>\n",
       "      <td>0.0</td>\n",
       "      <td>1.500</td>\n",
       "      <td>0.0</td>\n",
       "      <td>0.00</td>\n",
       "      <td>395.955</td>\n",
       "    </tr>\n",
       "    <tr>\n",
       "      <th>Beaver</th>\n",
       "      <td>0.0</td>\n",
       "      <td>0.00</td>\n",
       "      <td>0.0</td>\n",
       "      <td>0.00</td>\n",
       "      <td>0.000</td>\n",
       "      <td>0.0</td>\n",
       "      <td>0.000</td>\n",
       "      <td>0.00</td>\n",
       "      <td>0.000</td>\n",
       "      <td>0.0</td>\n",
       "      <td>0.000</td>\n",
       "      <td>0.0</td>\n",
       "      <td>203.50</td>\n",
       "      <td>203.500</td>\n",
       "    </tr>\n",
       "    <tr>\n",
       "      <th>Butte</th>\n",
       "      <td>0.0</td>\n",
       "      <td>14.88</td>\n",
       "      <td>0.0</td>\n",
       "      <td>5.00</td>\n",
       "      <td>8.400</td>\n",
       "      <td>0.0</td>\n",
       "      <td>1105.733</td>\n",
       "      <td>0.00</td>\n",
       "      <td>0.085</td>\n",
       "      <td>0.0</td>\n",
       "      <td>7.450</td>\n",
       "      <td>0.0</td>\n",
       "      <td>0.00</td>\n",
       "      <td>1141.548</td>\n",
       "    </tr>\n",
       "  </tbody>\n",
       "</table>\n",
       "</div>"
      ],
      "text/plain": [
       "General_Fuel  Battery  Biomass  Coal  Digester Gas       Gas  Geothermal  \\\n",
       "County                                                                     \n",
       "Alameda           1.4     0.00   0.0         11.05  3675.925         0.0   \n",
       "Alpine            0.0     0.00   0.0          0.00     7.150         0.0   \n",
       "Amador            0.0    40.50  18.4          0.00    92.500         0.0   \n",
       "Beaver            0.0     0.00   0.0          0.00     0.000         0.0   \n",
       "Butte             0.0    14.88   0.0          5.00     8.400         0.0   \n",
       "\n",
       "General_Fuel     Hydro  Landfill Gas    MSW  Nuclear   Solar  Solar Thermal  \\\n",
       "County                                                                        \n",
       "Alameda          1.250         13.94  0.000      0.0  18.803            0.0   \n",
       "Alpine           0.000          0.00  0.000      0.0   0.000            0.0   \n",
       "Amador         243.055          0.00  0.000      0.0   1.500            0.0   \n",
       "Beaver           0.000          0.00  0.000      0.0   0.000            0.0   \n",
       "Butte         1105.733          0.00  0.085      0.0   7.450            0.0   \n",
       "\n",
       "General_Fuel    Wind     Total  \n",
       "County                          \n",
       "Alameda       786.33  4508.698  \n",
       "Alpine          0.00     7.150  \n",
       "Amador          0.00   395.955  \n",
       "Beaver        203.50   203.500  \n",
       "Butte           0.00  1141.548  "
      ]
     },
     "execution_count": 18,
     "metadata": {},
     "output_type": "execute_result"
    }
   ],
   "source": [
    "county_portfolio.head()"
   ]
  },
  {
   "cell_type": "code",
   "execution_count": 33,
   "metadata": {},
   "outputs": [
    {
     "data": {
      "text/html": [
       "<div>\n",
       "<style scoped>\n",
       "    .dataframe tbody tr th:only-of-type {\n",
       "        vertical-align: middle;\n",
       "    }\n",
       "\n",
       "    .dataframe tbody tr th {\n",
       "        vertical-align: top;\n",
       "    }\n",
       "\n",
       "    .dataframe thead th {\n",
       "        text-align: right;\n",
       "    }\n",
       "</style>\n",
       "<table border=\"1\" class=\"dataframe\">\n",
       "  <thead>\n",
       "    <tr style=\"text-align: right;\">\n",
       "      <th>General_Fuel</th>\n",
       "      <th>Battery</th>\n",
       "      <th>Biomass</th>\n",
       "      <th>Coal</th>\n",
       "      <th>Digester Gas</th>\n",
       "      <th>Gas</th>\n",
       "      <th>Geothermal</th>\n",
       "      <th>Hydro</th>\n",
       "      <th>Landfill Gas</th>\n",
       "      <th>MSW</th>\n",
       "      <th>Nuclear</th>\n",
       "      <th>Solar</th>\n",
       "      <th>Solar Thermal</th>\n",
       "      <th>Wind</th>\n",
       "      <th>Total</th>\n",
       "    </tr>\n",
       "    <tr>\n",
       "      <th>State_</th>\n",
       "      <th></th>\n",
       "      <th></th>\n",
       "      <th></th>\n",
       "      <th></th>\n",
       "      <th></th>\n",
       "      <th></th>\n",
       "      <th></th>\n",
       "      <th></th>\n",
       "      <th></th>\n",
       "      <th></th>\n",
       "      <th></th>\n",
       "      <th></th>\n",
       "      <th></th>\n",
       "      <th></th>\n",
       "    </tr>\n",
       "  </thead>\n",
       "  <tbody>\n",
       "    <tr>\n",
       "      <th>AZ</th>\n",
       "      <td>0.0</td>\n",
       "      <td>0.0</td>\n",
       "      <td>0.0</td>\n",
       "      <td>0.0</td>\n",
       "      <td>0.0</td>\n",
       "      <td>0.0</td>\n",
       "      <td>0.0</td>\n",
       "      <td>0.0</td>\n",
       "      <td>0.0</td>\n",
       "      <td>0.0</td>\n",
       "      <td>854.0</td>\n",
       "      <td>0.0</td>\n",
       "      <td>0.0</td>\n",
       "      <td>854.0</td>\n",
       "    </tr>\n",
       "    <tr>\n",
       "      <th>CA</th>\n",
       "      <td>134.0</td>\n",
       "      <td>1361.0</td>\n",
       "      <td>769.0</td>\n",
       "      <td>217.0</td>\n",
       "      <td>68786.0</td>\n",
       "      <td>3307.0</td>\n",
       "      <td>14111.0</td>\n",
       "      <td>431.0</td>\n",
       "      <td>157.0</td>\n",
       "      <td>4390.0</td>\n",
       "      <td>14246.0</td>\n",
       "      <td>1752.0</td>\n",
       "      <td>9478.0</td>\n",
       "      <td>119139.0</td>\n",
       "    </tr>\n",
       "    <tr>\n",
       "      <th>MX</th>\n",
       "      <td>0.0</td>\n",
       "      <td>0.0</td>\n",
       "      <td>0.0</td>\n",
       "      <td>0.0</td>\n",
       "      <td>2034.0</td>\n",
       "      <td>0.0</td>\n",
       "      <td>0.0</td>\n",
       "      <td>0.0</td>\n",
       "      <td>0.0</td>\n",
       "      <td>0.0</td>\n",
       "      <td>0.0</td>\n",
       "      <td>0.0</td>\n",
       "      <td>155.0</td>\n",
       "      <td>2189.0</td>\n",
       "    </tr>\n",
       "    <tr>\n",
       "      <th>NM</th>\n",
       "      <td>0.0</td>\n",
       "      <td>0.0</td>\n",
       "      <td>0.0</td>\n",
       "      <td>0.0</td>\n",
       "      <td>0.0</td>\n",
       "      <td>0.0</td>\n",
       "      <td>0.0</td>\n",
       "      <td>0.0</td>\n",
       "      <td>0.0</td>\n",
       "      <td>0.0</td>\n",
       "      <td>0.0</td>\n",
       "      <td>0.0</td>\n",
       "      <td>298.0</td>\n",
       "      <td>298.0</td>\n",
       "    </tr>\n",
       "    <tr>\n",
       "      <th>NV</th>\n",
       "      <td>0.0</td>\n",
       "      <td>0.0</td>\n",
       "      <td>818.0</td>\n",
       "      <td>0.0</td>\n",
       "      <td>536.0</td>\n",
       "      <td>60.0</td>\n",
       "      <td>2335.0</td>\n",
       "      <td>0.0</td>\n",
       "      <td>0.0</td>\n",
       "      <td>0.0</td>\n",
       "      <td>766.0</td>\n",
       "      <td>0.0</td>\n",
       "      <td>0.0</td>\n",
       "      <td>4515.0</td>\n",
       "    </tr>\n",
       "    <tr>\n",
       "      <th>UT</th>\n",
       "      <td>0.0</td>\n",
       "      <td>0.0</td>\n",
       "      <td>1800.0</td>\n",
       "      <td>0.0</td>\n",
       "      <td>0.0</td>\n",
       "      <td>0.0</td>\n",
       "      <td>0.0</td>\n",
       "      <td>0.0</td>\n",
       "      <td>0.0</td>\n",
       "      <td>0.0</td>\n",
       "      <td>0.0</td>\n",
       "      <td>0.0</td>\n",
       "      <td>304.0</td>\n",
       "      <td>2104.0</td>\n",
       "    </tr>\n",
       "  </tbody>\n",
       "</table>\n",
       "</div>"
      ],
      "text/plain": [
       "General_Fuel  Battery  Biomass    Coal  Digester Gas      Gas  Geothermal  \\\n",
       "State_                                                                      \n",
       "AZ                0.0      0.0     0.0           0.0      0.0         0.0   \n",
       "CA              134.0   1361.0   769.0         217.0  68786.0      3307.0   \n",
       "MX                0.0      0.0     0.0           0.0   2034.0         0.0   \n",
       "NM                0.0      0.0     0.0           0.0      0.0         0.0   \n",
       "NV                0.0      0.0   818.0           0.0    536.0        60.0   \n",
       "UT                0.0      0.0  1800.0           0.0      0.0         0.0   \n",
       "\n",
       "General_Fuel    Hydro  Landfill Gas    MSW  Nuclear    Solar  Solar Thermal  \\\n",
       "State_                                                                        \n",
       "AZ                0.0           0.0    0.0      0.0    854.0            0.0   \n",
       "CA            14111.0         431.0  157.0   4390.0  14246.0         1752.0   \n",
       "MX                0.0           0.0    0.0      0.0      0.0            0.0   \n",
       "NM                0.0           0.0    0.0      0.0      0.0            0.0   \n",
       "NV             2335.0           0.0    0.0      0.0    766.0            0.0   \n",
       "UT                0.0           0.0    0.0      0.0      0.0            0.0   \n",
       "\n",
       "General_Fuel    Wind     Total  \n",
       "State_                          \n",
       "AZ               0.0     854.0  \n",
       "CA            9478.0  119139.0  \n",
       "MX             155.0    2189.0  \n",
       "NM             298.0     298.0  \n",
       "NV               0.0    4515.0  \n",
       "UT             304.0    2104.0  "
      ]
     },
     "execution_count": 33,
     "metadata": {},
     "output_type": "execute_result"
    }
   ],
   "source": [
    "state_portfolio"
   ]
  },
  {
   "cell_type": "code",
   "execution_count": 35,
   "metadata": {},
   "outputs": [],
   "source": [
    "county_solar = solar.groupby(by='County')['MW'].sum()"
   ]
  },
  {
   "cell_type": "code",
   "execution_count": 47,
   "metadata": {},
   "outputs": [],
   "source": [
    "top_counties=county_solar[county_solar>100]"
   ]
  },
  {
   "cell_type": "code",
   "execution_count": 49,
   "metadata": {},
   "outputs": [
    {
     "data": {
      "text/plain": [
       "0.966304160131839"
      ]
     },
     "execution_count": 49,
     "metadata": {},
     "output_type": "execute_result"
    }
   ],
   "source": [
    "top_counties.sum()/county_solar.sum()"
   ]
  },
  {
   "cell_type": "code",
   "execution_count": 50,
   "metadata": {},
   "outputs": [
    {
     "data": {
      "text/plain": [
       "17"
      ]
     },
     "execution_count": 50,
     "metadata": {},
     "output_type": "execute_result"
    }
   ],
   "source": [
    "len(top_counties)"
   ]
  },
  {
   "cell_type": "markdown",
   "metadata": {},
   "source": [
    "# 17 counties account for 96 percent of solar production\n",
    "- use DBScan to cluster and get UV predictions for each cluster"
   ]
  },
  {
   "cell_type": "code",
   "execution_count": 61,
   "metadata": {},
   "outputs": [],
   "source": [
    "main_solar = solar[(solar['County']==top_counties.index[0]) |\n",
    "                   (solar['County']==top_counties.index[1]) |\n",
    "                   (solar['County']==top_counties.index[2]) |\n",
    "                   (solar['County']==top_counties.index[3]) |\n",
    "                   (solar['County']==top_counties.index[4]) |\n",
    "                   (solar['County']==top_counties.index[5]) |\n",
    "                   (solar['County']==top_counties.index[6]) |\n",
    "                   (solar['County']==top_counties.index[7]) |\n",
    "                   (solar['County']==top_counties.index[8]) |\n",
    "                   (solar['County']==top_counties.index[9]) |\n",
    "                   (solar['County']==top_counties.index[10]) |\n",
    "                   (solar['County']==top_counties.index[11]) |\n",
    "                   (solar['County']==top_counties.index[12]) |\n",
    "                   (solar['County']==top_counties.index[13]) |\n",
    "                   (solar['County']==top_counties.index[14]) |\n",
    "                   (solar['County']==top_counties.index[15]) |\n",
    "                   (solar['County']==top_counties.index[16])\n",
    "                  ]"
   ]
  },
  {
   "cell_type": "code",
   "execution_count": 64,
   "metadata": {},
   "outputs": [
    {
     "data": {
      "text/plain": [
       "Los Angeles        139\n",
       "Kern                94\n",
       "San Bernardino      90\n",
       "Riverside           67\n",
       "Fresno              53\n",
       "Imperial            45\n",
       "Sacramento          41\n",
       "Tulare              34\n",
       "San Diego           33\n",
       "Kings               25\n",
       "Monterey            12\n",
       "San Luis Obispo     12\n",
       "Merced              11\n",
       "San Benito           5\n",
       "Clark                5\n",
       "Maricopa             4\n",
       "Yuma                 1\n",
       "Name: County, dtype: int64"
      ]
     },
     "execution_count": 64,
     "metadata": {},
     "output_type": "execute_result"
    }
   ],
   "source": [
    "main_solar['County'].value_counts()"
   ]
  },
  {
   "cell_type": "markdown",
   "metadata": {},
   "source": [
    "### Use Clustering to group nearby power plants that should experience similar weather"
   ]
  },
  {
   "cell_type": "code",
   "execution_count": 91,
   "metadata": {},
   "outputs": [
    {
     "name": "stderr",
     "output_type": "stream",
     "text": [
      "/Users/Sam/opt/anaconda3/lib/python3.7/site-packages/ipykernel_launcher.py:3: MatplotlibDeprecationWarning: Adding an axes using the same arguments as a previous axes currently reuses the earlier instance.  In a future version, a new instance will always be created and returned.  Meanwhile, this warning can be suppressed, and the future behavior ensured, by passing a unique label to each axes instance.\n",
      "  This is separate from the ipykernel package so we can avoid doing imports until\n"
     ]
    },
    {
     "data": {
      "image/png": "[encoded data removed]",
      "text/plain": [
       "<Figure size 720x720 with 1 Axes>"
      ]
     },
     "metadata": {
      "needs_background": "light"
     },
     "output_type": "display_data"
    }
   ],
   "source": [
    "plt.figure(figsize=(10,10))\n",
    "plt.plot(main_solar['Longitude'],main_solar['Latitude'],'k.')\n",
    "plt.axes().set_aspect('equal')"
   ]
  },
  {
   "cell_type": "code",
   "execution_count": 113,
   "metadata": {},
   "outputs": [],
   "source": [
    "from sklearn.cluster import KMeans"
   ]
  },
  {
   "cell_type": "code",
   "execution_count": 122,
   "metadata": {},
   "outputs": [
    {
     "data": {
      "text/plain": [
       "KMeans(algorithm='auto', copy_x=True, init='k-means++', max_iter=300,\n",
       "       n_clusters=30, n_init=10, n_jobs=None, precompute_distances='auto',\n",
       "       random_state=2020, tol=0.0001, verbose=0)"
      ]
     },
     "execution_count": 122,
     "metadata": {},
     "output_type": "execute_result"
    }
   ],
   "source": [
    "X = main_solar[['Longitude','Latitude']]\n",
    "\n",
    "km = KMeans(n_clusters=30,random_state=2020)\n",
    "km.fit(X)"
   ]
  },
  {
   "cell_type": "code",
   "execution_count": 123,
   "metadata": {},
   "outputs": [
    {
     "name": "stderr",
     "output_type": "stream",
     "text": [
      "/Users/Sam/opt/anaconda3/lib/python3.7/site-packages/ipykernel_launcher.py:1: SettingWithCopyWarning: \n",
      "A value is trying to be set on a copy of a slice from a DataFrame.\n",
      "Try using .loc[row_indexer,col_indexer] = value instead\n",
      "\n",
      "See the caveats in the documentation: https://pandas.pydata.org/pandas-docs/stable/user_guide/indexing.html#returning-a-view-versus-a-copy\n",
      "  \"\"\"Entry point for launching an IPython kernel.\n"
     ]
    }
   ],
   "source": [
    "main_solar['cluster'] = km.labels_"
   ]
  },
  {
   "cell_type": "code",
   "execution_count": 124,
   "metadata": {},
   "outputs": [],
   "source": [
    "def rgb_calc(minn,maxx,val):\n",
    "    \n",
    "    scaled = (val-minn)/(maxx-minn)\n",
    "\n",
    "    if scaled <= 0.25:\n",
    "        r = 1\n",
    "        g = 4*scaled\n",
    "        b = 0\n",
    "\n",
    "    if scaled > 0.25 and scaled <= 0.5:\n",
    "        r = (-4)*scaled+2;\n",
    "        g = 1\n",
    "        b = 0\n",
    "\n",
    "    if scaled > 0.5 and scaled <= 0.75:\n",
    "        r = 0\n",
    "        g = 1\n",
    "        b = 4*scaled-2\n",
    "\n",
    "    if scaled > 0.75:\n",
    "        r = 0\n",
    "        g = (-4)*scaled+4\n",
    "        b = 1\n",
    "\n",
    "    return [r,g,b]"
   ]
  },
  {
   "cell_type": "code",
   "execution_count": 125,
   "metadata": {},
   "outputs": [
    {
     "name": "stderr",
     "output_type": "stream",
     "text": [
      "/Users/Sam/opt/anaconda3/lib/python3.7/site-packages/ipykernel_launcher.py:1: SettingWithCopyWarning: \n",
      "A value is trying to be set on a copy of a slice from a DataFrame.\n",
      "Try using .loc[row_indexer,col_indexer] = value instead\n",
      "\n",
      "See the caveats in the documentation: https://pandas.pydata.org/pandas-docs/stable/user_guide/indexing.html#returning-a-view-versus-a-copy\n",
      "  \"\"\"Entry point for launching an IPython kernel.\n"
     ]
    }
   ],
   "source": [
    "main_solar['color'] = main_solar['cluster'].map(lambda p: rgb_calc(0,29,p))"
   ]
  },
  {
   "cell_type": "code",
   "execution_count": 128,
   "metadata": {},
   "outputs": [
    {
     "name": "stderr",
     "output_type": "stream",
     "text": [
      "/Users/Sam/opt/anaconda3/lib/python3.7/site-packages/ipykernel_launcher.py:4: MatplotlibDeprecationWarning: Adding an axes using the same arguments as a previous axes currently reuses the earlier instance.  In a future version, a new instance will always be created and returned.  Meanwhile, this warning can be suppressed, and the future behavior ensured, by passing a unique label to each axes instance.\n",
      "  after removing the cwd from sys.path.\n"
     ]
    },
    {
     "data": {
      "image/png": "[encoded data removed]",
      "text/plain": [
       "<Figure size 720x720 with 1 Axes>"
      ]
     },
     "metadata": {
      "needs_background": "light"
     },
     "output_type": "display_data"
    }
   ],
   "source": [
    "plt.figure(figsize=(10,10))\n",
    "plt.scatter(main_solar['Longitude'],main_solar['Latitude'],c=main_solar['color'])\n",
    "plt.plot(km.cluster_centers_[:,0],km.cluster_centers_[:,1],'k*',markersize=8)\n",
    "plt.axes().set_aspect('equal')"
   ]
  },
  {
   "cell_type": "code",
   "execution_count": 90,
   "metadata": {},
   "outputs": [],
   "source": [
    "main_solar.to_csv('datasets/main_solar.csv',index=False)"
   ]
  },
  {
   "cell_type": "code",
   "execution_count": 143,
   "metadata": {},
   "outputs": [],
   "source": [
    "solar_clusters = main_solar.groupby('cluster').sum()"
   ]
  },
  {
   "cell_type": "code",
   "execution_count": 144,
   "metadata": {},
   "outputs": [
    {
     "data": {
      "text/html": [
       "<div>\n",
       "<style scoped>\n",
       "    .dataframe tbody tr th:only-of-type {\n",
       "        vertical-align: middle;\n",
       "    }\n",
       "\n",
       "    .dataframe tbody tr th {\n",
       "        vertical-align: top;\n",
       "    }\n",
       "\n",
       "    .dataframe thead th {\n",
       "        text-align: right;\n",
       "    }\n",
       "</style>\n",
       "<table border=\"1\" class=\"dataframe\">\n",
       "  <thead>\n",
       "    <tr style=\"text-align: right;\">\n",
       "      <th></th>\n",
       "      <th>OBJECTID_12_13</th>\n",
       "      <th>MW</th>\n",
       "      <th>Gross_MWh</th>\n",
       "      <th>Net_MWh</th>\n",
       "      <th>Gen_Count</th>\n",
       "      <th>Initial_Start_Date</th>\n",
       "      <th>Online_Year</th>\n",
       "      <th>Retire_Date</th>\n",
       "      <th>Peaker</th>\n",
       "      <th>Renewable_Energy</th>\n",
       "      <th>...</th>\n",
       "      <th>CES30_Percentile</th>\n",
       "      <th>Longitude</th>\n",
       "      <th>Latitude</th>\n",
       "      <th>Elevation</th>\n",
       "      <th>Operation_Job</th>\n",
       "      <th>Property_Tax</th>\n",
       "      <th>Capacity_Factor</th>\n",
       "      <th>Income_Percent</th>\n",
       "      <th>Creator_Date</th>\n",
       "      <th>Last_Editor_Date</th>\n",
       "    </tr>\n",
       "    <tr>\n",
       "      <th>cluster</th>\n",
       "      <th></th>\n",
       "      <th></th>\n",
       "      <th></th>\n",
       "      <th></th>\n",
       "      <th></th>\n",
       "      <th></th>\n",
       "      <th></th>\n",
       "      <th></th>\n",
       "      <th></th>\n",
       "      <th></th>\n",
       "      <th></th>\n",
       "      <th></th>\n",
       "      <th></th>\n",
       "      <th></th>\n",
       "      <th></th>\n",
       "      <th></th>\n",
       "      <th></th>\n",
       "      <th></th>\n",
       "      <th></th>\n",
       "      <th></th>\n",
       "      <th></th>\n",
       "    </tr>\n",
       "  </thead>\n",
       "  <tbody>\n",
       "    <tr>\n",
       "      <th>0</th>\n",
       "      <td>55212</td>\n",
       "      <td>766.100000</td>\n",
       "      <td>1821107.91</td>\n",
       "      <td>1808823.0</td>\n",
       "      <td>24.0</td>\n",
       "      <td>2.997173e+13</td>\n",
       "      <td>42307.0</td>\n",
       "      <td>0.000000e+00</td>\n",
       "      <td>0.0</td>\n",
       "      <td>21.0</td>\n",
       "      <td>...</td>\n",
       "      <td>1787.0</td>\n",
       "      <td>-2525.589929</td>\n",
       "      <td>767.417073</td>\n",
       "      <td>1486.457875</td>\n",
       "      <td>0.0</td>\n",
       "      <td>0.0</td>\n",
       "      <td>4.863680</td>\n",
       "      <td>943.0</td>\n",
       "      <td>33203141636826</td>\n",
       "      <td>33203141636826</td>\n",
       "    </tr>\n",
       "    <tr>\n",
       "      <th>1</th>\n",
       "      <td>24924</td>\n",
       "      <td>103.090000</td>\n",
       "      <td>101733.00</td>\n",
       "      <td>101688.0</td>\n",
       "      <td>19.0</td>\n",
       "      <td>2.557181e+13</td>\n",
       "      <td>38228.0</td>\n",
       "      <td>0.000000e+00</td>\n",
       "      <td>0.0</td>\n",
       "      <td>21.0</td>\n",
       "      <td>...</td>\n",
       "      <td>1449.0</td>\n",
       "      <td>-2461.490470</td>\n",
       "      <td>714.009797</td>\n",
       "      <td>7938.945555</td>\n",
       "      <td>0.0</td>\n",
       "      <td>0.0</td>\n",
       "      <td>2.724656</td>\n",
       "      <td>1417.0</td>\n",
       "      <td>33203141636826</td>\n",
       "      <td>33203141636826</td>\n",
       "    </tr>\n",
       "    <tr>\n",
       "      <th>2</th>\n",
       "      <td>163505</td>\n",
       "      <td>1637.707195</td>\n",
       "      <td>3116941.95</td>\n",
       "      <td>3109055.0</td>\n",
       "      <td>26.0</td>\n",
       "      <td>3.308368e+13</td>\n",
       "      <td>46343.0</td>\n",
       "      <td>0.000000e+00</td>\n",
       "      <td>0.0</td>\n",
       "      <td>47.0</td>\n",
       "      <td>...</td>\n",
       "      <td>3243.0</td>\n",
       "      <td>-5433.771418</td>\n",
       "      <td>1545.611685</td>\n",
       "      <td>1077.304956</td>\n",
       "      <td>0.0</td>\n",
       "      <td>0.0</td>\n",
       "      <td>6.046989</td>\n",
       "      <td>2590.0</td>\n",
       "      <td>74311793187182</td>\n",
       "      <td>74311793187182</td>\n",
       "    </tr>\n",
       "    <tr>\n",
       "      <th>3</th>\n",
       "      <td>307123</td>\n",
       "      <td>2308.260000</td>\n",
       "      <td>6015824.65</td>\n",
       "      <td>5936662.0</td>\n",
       "      <td>81.0</td>\n",
       "      <td>1.164037e+14</td>\n",
       "      <td>163197.0</td>\n",
       "      <td>0.000000e+00</td>\n",
       "      <td>0.0</td>\n",
       "      <td>83.0</td>\n",
       "      <td>...</td>\n",
       "      <td>3113.0</td>\n",
       "      <td>-9818.625140</td>\n",
       "      <td>2884.126963</td>\n",
       "      <td>63439.840042</td>\n",
       "      <td>0.0</td>\n",
       "      <td>0.0</td>\n",
       "      <td>21.155754</td>\n",
       "      <td>5827.0</td>\n",
       "      <td>131231464564598</td>\n",
       "      <td>131231464564598</td>\n",
       "    </tr>\n",
       "    <tr>\n",
       "      <th>4</th>\n",
       "      <td>36643</td>\n",
       "      <td>155.110000</td>\n",
       "      <td>292688.56</td>\n",
       "      <td>291896.0</td>\n",
       "      <td>41.0</td>\n",
       "      <td>5.224452e+13</td>\n",
       "      <td>80446.0</td>\n",
       "      <td>1.364688e+12</td>\n",
       "      <td>0.0</td>\n",
       "      <td>41.0</td>\n",
       "      <td>...</td>\n",
       "      <td>1977.0</td>\n",
       "      <td>-4973.471031</td>\n",
       "      <td>1575.795607</td>\n",
       "      <td>1170.949729</td>\n",
       "      <td>0.0</td>\n",
       "      <td>0.0</td>\n",
       "      <td>8.030027</td>\n",
       "      <td>4874.0</td>\n",
       "      <td>64825181290946</td>\n",
       "      <td>64825181290946</td>\n",
       "    </tr>\n",
       "  </tbody>\n",
       "</table>\n",
       "<p>5 rows × 21 columns</p>\n",
       "</div>"
      ],
      "text/plain": [
       "         OBJECTID_12_13           MW   Gross_MWh    Net_MWh  Gen_Count  \\\n",
       "cluster                                                                  \n",
       "0                 55212   766.100000  1821107.91  1808823.0       24.0   \n",
       "1                 24924   103.090000   101733.00   101688.0       19.0   \n",
       "2                163505  1637.707195  3116941.95  3109055.0       26.0   \n",
       "3                307123  2308.260000  6015824.65  5936662.0       81.0   \n",
       "4                 36643   155.110000   292688.56   291896.0       41.0   \n",
       "\n",
       "         Initial_Start_Date  Online_Year   Retire_Date  Peaker  \\\n",
       "cluster                                                          \n",
       "0              2.997173e+13      42307.0  0.000000e+00     0.0   \n",
       "1              2.557181e+13      38228.0  0.000000e+00     0.0   \n",
       "2              3.308368e+13      46343.0  0.000000e+00     0.0   \n",
       "3              1.164037e+14     163197.0  0.000000e+00     0.0   \n",
       "4              5.224452e+13      80446.0  1.364688e+12     0.0   \n",
       "\n",
       "         Renewable_Energy  ...  CES30_Percentile    Longitude     Latitude  \\\n",
       "cluster                    ...                                               \n",
       "0                    21.0  ...            1787.0 -2525.589929   767.417073   \n",
       "1                    21.0  ...            1449.0 -2461.490470   714.009797   \n",
       "2                    47.0  ...            3243.0 -5433.771418  1545.611685   \n",
       "3                    83.0  ...            3113.0 -9818.625140  2884.126963   \n",
       "4                    41.0  ...            1977.0 -4973.471031  1575.795607   \n",
       "\n",
       "            Elevation  Operation_Job  Property_Tax  Capacity_Factor  \\\n",
       "cluster                                                               \n",
       "0         1486.457875            0.0           0.0         4.863680   \n",
       "1         7938.945555            0.0           0.0         2.724656   \n",
       "2         1077.304956            0.0           0.0         6.046989   \n",
       "3        63439.840042            0.0           0.0        21.155754   \n",
       "4         1170.949729            0.0           0.0         8.030027   \n",
       "\n",
       "         Income_Percent     Creator_Date  Last_Editor_Date  \n",
       "cluster                                                     \n",
       "0                 943.0   33203141636826    33203141636826  \n",
       "1                1417.0   33203141636826    33203141636826  \n",
       "2                2590.0   74311793187182    74311793187182  \n",
       "3                5827.0  131231464564598   131231464564598  \n",
       "4                4874.0   64825181290946    64825181290946  \n",
       "\n",
       "[5 rows x 21 columns]"
      ]
     },
     "execution_count": 144,
     "metadata": {},
     "output_type": "execute_result"
    }
   ],
   "source": [
    "solar_clusters.head()"
   ]
  },
  {
   "cell_type": "code",
   "execution_count": 145,
   "metadata": {},
   "outputs": [],
   "source": [
    "solar_clusters['Longitude'] = km.cluster_centers_[:,0]"
   ]
  },
  {
   "cell_type": "code",
   "execution_count": 146,
   "metadata": {},
   "outputs": [],
   "source": [
    "solar_clusters['Latitude'] = km.cluster_centers_[:,1]"
   ]
  },
  {
   "cell_type": "code",
   "execution_count": 147,
   "metadata": {},
   "outputs": [],
   "source": [
    "solar_clusters = solar_clusters[['Longitude','Latitude','MW']]"
   ]
  },
  {
   "cell_type": "code",
   "execution_count": 148,
   "metadata": {},
   "outputs": [
    {
     "data": {
      "text/html": [
       "<div>\n",
       "<style scoped>\n",
       "    .dataframe tbody tr th:only-of-type {\n",
       "        vertical-align: middle;\n",
       "    }\n",
       "\n",
       "    .dataframe tbody tr th {\n",
       "        vertical-align: top;\n",
       "    }\n",
       "\n",
       "    .dataframe thead th {\n",
       "        text-align: right;\n",
       "    }\n",
       "</style>\n",
       "<table border=\"1\" class=\"dataframe\">\n",
       "  <thead>\n",
       "    <tr style=\"text-align: right;\">\n",
       "      <th></th>\n",
       "      <th>Longitude</th>\n",
       "      <th>Latitude</th>\n",
       "      <th>MW</th>\n",
       "    </tr>\n",
       "    <tr>\n",
       "      <th>cluster</th>\n",
       "      <th></th>\n",
       "      <th></th>\n",
       "      <th></th>\n",
       "    </tr>\n",
       "  </thead>\n",
       "  <tbody>\n",
       "    <tr>\n",
       "      <th>0</th>\n",
       "      <td>-120.266187</td>\n",
       "      <td>36.543670</td>\n",
       "      <td>766.100000</td>\n",
       "    </tr>\n",
       "    <tr>\n",
       "      <th>1</th>\n",
       "      <td>-117.213832</td>\n",
       "      <td>34.000467</td>\n",
       "      <td>103.090000</td>\n",
       "    </tr>\n",
       "    <tr>\n",
       "      <th>2</th>\n",
       "      <td>-115.612158</td>\n",
       "      <td>32.885355</td>\n",
       "      <td>1637.707195</td>\n",
       "    </tr>\n",
       "    <tr>\n",
       "      <th>3</th>\n",
       "      <td>-118.296688</td>\n",
       "      <td>34.748518</td>\n",
       "      <td>2308.260000</td>\n",
       "    </tr>\n",
       "    <tr>\n",
       "      <th>4</th>\n",
       "      <td>-121.304171</td>\n",
       "      <td>38.434039</td>\n",
       "      <td>155.110000</td>\n",
       "    </tr>\n",
       "  </tbody>\n",
       "</table>\n",
       "</div>"
      ],
      "text/plain": [
       "          Longitude   Latitude           MW\n",
       "cluster                                    \n",
       "0       -120.266187  36.543670   766.100000\n",
       "1       -117.213832  34.000467   103.090000\n",
       "2       -115.612158  32.885355  1637.707195\n",
       "3       -118.296688  34.748518  2308.260000\n",
       "4       -121.304171  38.434039   155.110000"
      ]
     },
     "execution_count": 148,
     "metadata": {},
     "output_type": "execute_result"
    }
   ],
   "source": [
    "solar_clusters.head()"
   ]
  },
  {
   "cell_type": "code",
   "execution_count": 158,
   "metadata": {},
   "outputs": [
    {
     "name": "stderr",
     "output_type": "stream",
     "text": [
      "/Users/Sam/opt/anaconda3/lib/python3.7/site-packages/ipykernel_launcher.py:4: MatplotlibDeprecationWarning: Adding an axes using the same arguments as a previous axes currently reuses the earlier instance.  In a future version, a new instance will always be created and returned.  Meanwhile, this warning can be suppressed, and the future behavior ensured, by passing a unique label to each axes instance.\n",
      "  after removing the cwd from sys.path.\n"
     ]
    },
    {
     "data": {
      "image/png": "[encoded data removed]",
      "text/plain": [
       "<Figure size 720x720 with 1 Axes>"
      ]
     },
     "metadata": {
      "needs_background": "light"
     },
     "output_type": "display_data"
    }
   ],
   "source": [
    "plt.figure(figsize=(10,10))\n",
    "plt.scatter(main_solar['Longitude'],main_solar['Latitude'],c=main_solar['color'],s=14)\n",
    "plt.plot(solar_clusters['Longitude'],solar_clusters['Latitude'],'k*',markersize=8)\n",
    "plt.axes().set_aspect('equal')"
   ]
  },
  {
   "cell_type": "code",
   "execution_count": 152,
   "metadata": {},
   "outputs": [],
   "source": [
    "solar_clusters.to_csv('datasets/solar_clusters.csv',index=False)"
   ]
  },
  {
   "cell_type": "markdown",
   "metadata": {},
   "source": [
    "### Wind Clusters"
   ]
  },
  {
   "cell_type": "code",
   "execution_count": 163,
   "metadata": {},
   "outputs": [
    {
     "name": "stdout",
     "output_type": "stream",
     "text": [
      "(157, 56)\n"
     ]
    },
    {
     "data": {
      "text/html": [
       "<div>\n",
       "<style scoped>\n",
       "    .dataframe tbody tr th:only-of-type {\n",
       "        vertical-align: middle;\n",
       "    }\n",
       "\n",
       "    .dataframe tbody tr th {\n",
       "        vertical-align: top;\n",
       "    }\n",
       "\n",
       "    .dataframe thead th {\n",
       "        text-align: right;\n",
       "    }\n",
       "</style>\n",
       "<table border=\"1\" class=\"dataframe\">\n",
       "  <thead>\n",
       "    <tr style=\"text-align: right;\">\n",
       "      <th></th>\n",
       "      <th>OBJECTID_12_13</th>\n",
       "      <th>Plant_ID</th>\n",
       "      <th>Plant_Alias</th>\n",
       "      <th>Plant_Label</th>\n",
       "      <th>MW</th>\n",
       "      <th>Gross_MWh</th>\n",
       "      <th>Net_MWh</th>\n",
       "      <th>General_Fuel</th>\n",
       "      <th>Status</th>\n",
       "      <th>STEP_License_Status</th>\n",
       "      <th>...</th>\n",
       "      <th>Operation_Job</th>\n",
       "      <th>Property_Tax</th>\n",
       "      <th>Capacity_Factor</th>\n",
       "      <th>Income_Percent</th>\n",
       "      <th>Project_Location</th>\n",
       "      <th>Creator</th>\n",
       "      <th>Creator_Date</th>\n",
       "      <th>Last_Editor</th>\n",
       "      <th>Last_Editor_Date</th>\n",
       "      <th>GlobalID</th>\n",
       "    </tr>\n",
       "  </thead>\n",
       "  <tbody>\n",
       "    <tr>\n",
       "      <th>0</th>\n",
       "      <td>1</td>\n",
       "      <td>W0464</td>\n",
       "      <td>NaN</td>\n",
       "      <td>El Cabo</td>\n",
       "      <td>298.20</td>\n",
       "      <td>NaN</td>\n",
       "      <td>NaN</td>\n",
       "      <td>Wind</td>\n",
       "      <td>Operating</td>\n",
       "      <td>NaN</td>\n",
       "      <td>...</td>\n",
       "      <td>NaN</td>\n",
       "      <td>NaN</td>\n",
       "      <td>NaN</td>\n",
       "      <td>NaN</td>\n",
       "      <td>NaN</td>\n",
       "      <td>cecgis</td>\n",
       "      <td>1581101982706</td>\n",
       "      <td>cecgis</td>\n",
       "      <td>1581101982706</td>\n",
       "      <td>0da84d14-5867-4396-8004-5ce07b6d6dd9</td>\n",
       "    </tr>\n",
       "    <tr>\n",
       "      <th>347</th>\n",
       "      <td>352</td>\n",
       "      <td>W0317</td>\n",
       "      <td></td>\n",
       "      <td>Antelope Valley - Poppy</td>\n",
       "      <td>0.01</td>\n",
       "      <td>NaN</td>\n",
       "      <td>NaN</td>\n",
       "      <td>Wind</td>\n",
       "      <td>Operating</td>\n",
       "      <td>NaN</td>\n",
       "      <td>...</td>\n",
       "      <td>NaN</td>\n",
       "      <td>NaN</td>\n",
       "      <td>NaN</td>\n",
       "      <td>85.0</td>\n",
       "      <td>Neither Low Income Nor Disadvantaged Community</td>\n",
       "      <td>cecgis</td>\n",
       "      <td>1581101982706</td>\n",
       "      <td>cecgis</td>\n",
       "      <td>1581101982706</td>\n",
       "      <td>a1070e9f-10fd-4a4d-bfee-08ce3894783f</td>\n",
       "    </tr>\n",
       "  </tbody>\n",
       "</table>\n",
       "<p>2 rows × 56 columns</p>\n",
       "</div>"
      ],
      "text/plain": [
       "     OBJECTID_12_13 Plant_ID Plant_Alias              Plant_Label      MW  \\\n",
       "0                 1    W0464         NaN                  El Cabo  298.20   \n",
       "347             352    W0317              Antelope Valley - Poppy    0.01   \n",
       "\n",
       "     Gross_MWh  Net_MWh General_Fuel     Status STEP_License_Status  ...  \\\n",
       "0          NaN      NaN         Wind  Operating                 NaN  ...   \n",
       "347        NaN      NaN         Wind  Operating                 NaN  ...   \n",
       "\n",
       "     Operation_Job  Property_Tax  Capacity_Factor  Income_Percent  \\\n",
       "0              NaN           NaN              NaN             NaN   \n",
       "347            NaN           NaN              NaN            85.0   \n",
       "\n",
       "                                   Project_Location Creator   Creator_Date  \\\n",
       "0                                               NaN  cecgis  1581101982706   \n",
       "347  Neither Low Income Nor Disadvantaged Community  cecgis  1581101982706   \n",
       "\n",
       "    Last_Editor Last_Editor_Date                              GlobalID  \n",
       "0        cecgis    1581101982706  0da84d14-5867-4396-8004-5ce07b6d6dd9  \n",
       "347      cecgis    1581101982706  a1070e9f-10fd-4a4d-bfee-08ce3894783f  \n",
       "\n",
       "[2 rows x 56 columns]"
      ]
     },
     "execution_count": 163,
     "metadata": {},
     "output_type": "execute_result"
    }
   ],
   "source": [
    "wind = cgec[(cgec['General_Fuel']=='Wind') & (cgec['Status']=='Operating')]\n",
    "print(wind.shape)\n",
    "wind.head(2)"
   ]
  },
  {
   "cell_type": "code",
   "execution_count": 166,
   "metadata": {},
   "outputs": [
    {
     "data": {
      "text/plain": [
       "County\n",
       "Kern              3526.140\n",
       "Solano            1044.330\n",
       "Riverside          687.850\n",
       "Alameda            497.130\n",
       "Torrance           298.200\n",
       "Imperial           265.440\n",
       "Beaver             203.500\n",
       "San Diego          182.000\n",
       "Contra Costa       116.200\n",
       "Shasta             101.200\n",
       "Millard            100.500\n",
       "Merced              18.650\n",
       "San Bernardino       9.015\n",
       "Monterey             3.850\n",
       "San Joaquin          3.500\n",
       "Los Angeles          1.894\n",
       "Tehama               1.000\n",
       "Yolo                 1.000\n",
       "Name: MW, dtype: float64"
      ]
     },
     "execution_count": 166,
     "metadata": {},
     "output_type": "execute_result"
    }
   ],
   "source": [
    "wind.groupby('County')['MW'].sum().sort_values(ascending=False)"
   ]
  },
  {
   "cell_type": "code",
   "execution_count": null,
   "metadata": {},
   "outputs": [],
   "source": []
  }
 ],
 "metadata": {
  "kernelspec": {
   "display_name": "Python 3",
   "language": "python",
   "name": "python3"
  },
  "language_info": {
   "codemirror_mode": {
    "name": "ipython",
    "version": 3
   },
   "file_extension": ".py",
   "mimetype": "text/x-python",
   "name": "python",
   "nbconvert_exporter": "python",
   "pygments_lexer": "ipython3",
   "version": "3.7.6"
  }
 },
 "nbformat": 4,
 "nbformat_minor": 4
}
