{
 "cells": [
  {
   "cell_type": "markdown",
   "metadata": {},
   "source": [
    "# CAISO Demand Scraper\n",
    "\n",
    "This notebook contains code for downloading and aggregating California electrical demand data from the California Independent System Operator (CAISO) website. The data come in daily time-series files at 5 minute intervals with columns for hour-ahead forecast, total demand, and net demand (demand minus renewables).\n",
    "\n",
    "To collect new data you will need to do the following steps:\n",
    "1. <a href='#date_range'>Set the date range you want new data over</a>\n",
    "2. <a href='#downloads_path'>Specify a path to your downloads folder for the aggregating function</a> \n",
    "3. <a href='#download_data'>Download data</a>\n",
    "4. <a href='#aggregate_data'>Aggregate data</a>"
   ]
  },
  {
   "cell_type": "markdown",
   "metadata": {},
   "source": [
    "### Imports"
   ]
  },
  {
   "cell_type": "code",
   "execution_count": 1,
   "metadata": {},
   "outputs": [],
   "source": [
    "import pandas as pd\n",
    "from selenium import webdriver \n",
    "from webdriver_manager.chrome import ChromeDriverManager\n",
    "from time import sleep"
   ]
  },
  {
   "cell_type": "markdown",
   "metadata": {},
   "source": [
    "### Functions"
   ]
  },
  {
   "cell_type": "markdown",
   "metadata": {},
   "source": [
    "#### Demand Scraper"
   ]
  },
  {
   "cell_type": "code",
   "execution_count": 2,
   "metadata": {},
   "outputs": [],
   "source": [
    "def download_demand(date_list):\n",
    "    # Instantiate chrome environment\n",
    "    driver = webdriver.Chrome(ChromeDriverManager().install())\n",
    "\n",
    "    # Go to this caiso page\n",
    "    driver.get('http://caiso.com/TodaysOutlook/Pages/default.aspx')\n",
    "    \n",
    "    date_xpath = \"//input[@type = 'text' and @class ='form-control date demand-date']\"\n",
    "    \n",
    "    rest = 30\n",
    "    count = 0\n",
    "    \n",
    "    for date in dates:\n",
    "        \n",
    "        # Go to the date toggle box, clear the input\n",
    "        driver.find_element_by_xpath(date_xpath).clear()\n",
    "\n",
    "        # Type in the date of your choice!\n",
    "        driver.find_element_by_xpath(date_xpath).send_keys(date)\n",
    "\n",
    "        # This clicks enter\n",
    "        driver.find_element_by_xpath(date_xpath).send_keys(u'\\ue007') \n",
    "        \n",
    "        # This clicks the renewable trend's data button\n",
    "        driver.find_element_by_xpath(\"//button[@id='dropdownMenu1']\").click()\n",
    "\n",
    "        # This clicks the supply trend's download csv\n",
    "        driver.find_element_by_xpath(\"//a[@id='downloadDemandCSV']\").click()\n",
    "\n",
    "        count += 1 \n",
    "        \n",
    "        # sleep function:  rest every 30 files to not get booted off of site\n",
    "        if count > rest:\n",
    "            count = 0\n",
    "            sleep(120)\n",
    "    \n",
    "    # sleep for 1 second to allow final download, then close browser\n",
    "    sleep(1)\n",
    "    driver.close()"
   ]
  },
  {
   "cell_type": "markdown",
   "metadata": {},
   "source": [
    "#### Demand aggregation"
   ]
  },
  {
   "cell_type": "code",
   "execution_count": 3,
   "metadata": {},
   "outputs": [],
   "source": [
    "def agg_dem(file):\n",
    "    times = []\n",
    "    forecast = []\n",
    "    demand = []\n",
    "    net_demand = []\n",
    "\n",
    "    for t in file.columns[1:-2]:\n",
    "        times.append(file.columns[0][-10:] + 'T' + t)\n",
    "        forecast.append(file[t][0])\n",
    "        demand.append(file[t][1])\n",
    "        net_demand.append(file[t][2])\n",
    "            \n",
    "    nu_df = pd.DataFrame({'date':times,'forecast':forecast,'demand':demand,'net_demand':net_demand})\n",
    "    nu_df['date'] = pd.to_datetime(nu_df['date'])  \n",
    "    return nu_df   "
   ]
  },
  {
   "cell_type": "markdown",
   "metadata": {},
   "source": [
    "### Set date range and downloads path\n",
    "\n",
    "<a id='date_range'></a>\n",
    "\n",
    "<a id='downloads_path'></a>"
   ]
  },
  {
   "cell_type": "code",
   "execution_count": 4,
   "metadata": {},
   "outputs": [],
   "source": [
    "##### EDIT THIS CELL ######\n",
    "\n",
    "# Set starting and ending dates\n",
    "early_date = '06/01/2020'\n",
    "later_date = '06/03/2020'\n",
    "\n",
    "# Set path to downloads folder (this sample is the default for Mac OS)\n",
    "downloads_path = '~/Downloads/'"
   ]
  },
  {
   "cell_type": "code",
   "execution_count": 5,
   "metadata": {},
   "outputs": [],
   "source": [
    "# Define list of dates between specified start and end\n",
    "dates = pd.date_range(early_date, later_date).tolist()\n",
    "dates = [date.strftime(\"%m/%d/%Y\") for date in dates]\n",
    "\n",
    "# reformat date range to match downloaded file format\n",
    "files = [downloads_path+'CAISO-demand-'+day[-4:]+day[:2]+day[3:5]+'.csv' for day in dates]"
   ]
  },
  {
   "cell_type": "markdown",
   "metadata": {},
   "source": [
    "### Download data\n",
    "\n",
    "<a id='download_data'></a>"
   ]
  },
  {
   "cell_type": "code",
   "execution_count": 6,
   "metadata": {},
   "outputs": [
    {
     "name": "stderr",
     "output_type": "stream",
     "text": [
      "[WDM] - Cache is valid for [04/06/2020]\n",
      "[WDM] - Looking for [chromedriver 83.0.4103.39 mac64] driver in cache \n",
      "[WDM] - Driver found in cache [/Users/Sam/.wdm/drivers/chromedriver/83.0.4103.39/mac64/chromedriver]\n"
     ]
    },
    {
     "name": "stdout",
     "output_type": "stream",
     "text": [
      " \n"
     ]
    }
   ],
   "source": [
    "download_demand(dates)"
   ]
  },
  {
   "cell_type": "markdown",
   "metadata": {},
   "source": [
    "### Aggregate data to pandas dataframe, export to CSV\n",
    "\n",
    "<a id='aggregate_data'></a>"
   ]
  },
  {
   "cell_type": "code",
   "execution_count": 7,
   "metadata": {},
   "outputs": [],
   "source": [
    "# allocate space for aggregate data\n",
    "demand_series = []\n",
    "\n",
    "for file in files:\n",
    "    nu_df = agg_dem(pd.read_csv(file))\n",
    "    demand_series.append(nu_df)\n",
    "    \n",
    "demand = pd.concat(demand_series)\n",
    "\n",
    "demand.to_csv('../datasets/sample_demand_series.csv',index=False)"
   ]
  }
 ],
 "metadata": {
  "kernelspec": {
   "display_name": "Python 3",
   "language": "python",
   "name": "python3"
  },
  "language_info": {
   "codemirror_mode": {
    "name": "ipython",
    "version": 3
   },
   "file_extension": ".py",
   "mimetype": "text/x-python",
   "name": "python",
   "nbconvert_exporter": "python",
   "pygments_lexer": "ipython3",
   "version": "3.7.6"
  }
 },
 "nbformat": 4,
 "nbformat_minor": 4
}
