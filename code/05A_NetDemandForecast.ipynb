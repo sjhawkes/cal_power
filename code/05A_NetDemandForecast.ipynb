{
 "cells": [
  {
   "cell_type": "markdown",
   "metadata": {},
   "source": [
    "# Net Demand Forecast"
   ]
  },
  {
   "cell_type": "markdown",
   "metadata": {},
   "source": [
    "### Imports"
   ]
  },
  {
   "cell_type": "code",
   "execution_count": 64,
   "metadata": {},
   "outputs": [],
   "source": [
    "import pandas as pd\n",
    "import matplotlib.pyplot as plt\n",
    "import numpy as np\n",
    "from sklearn.metrics import mean_squared_error"
   ]
  },
  {
   "cell_type": "markdown",
   "metadata": {},
   "source": [
    "### Read in predictions of demand, solar output, and wind output"
   ]
  },
  {
   "cell_type": "code",
   "execution_count": 65,
   "metadata": {},
   "outputs": [],
   "source": [
    "demand = pd.read_csv('../datasets/demand_predictions.csv')\n",
    "solar = pd.read_csv('../datasets/solar_prediction.csv')\n",
    "wind = pd.read_csv('../datasets/wind_prediction.csv')"
   ]
  },
  {
   "cell_type": "code",
   "execution_count": 66,
   "metadata": {},
   "outputs": [
    {
     "data": {
      "text/html": [
       "<div>\n",
       "<style scoped>\n",
       "    .dataframe tbody tr th:only-of-type {\n",
       "        vertical-align: middle;\n",
       "    }\n",
       "\n",
       "    .dataframe tbody tr th {\n",
       "        vertical-align: top;\n",
       "    }\n",
       "\n",
       "    .dataframe thead th {\n",
       "        text-align: right;\n",
       "    }\n",
       "</style>\n",
       "<table border=\"1\" class=\"dataframe\">\n",
       "  <thead>\n",
       "    <tr style=\"text-align: right;\">\n",
       "      <th></th>\n",
       "      <th>date</th>\n",
       "      <th>demand</th>\n",
       "    </tr>\n",
       "  </thead>\n",
       "  <tbody>\n",
       "    <tr>\n",
       "      <th>165</th>\n",
       "      <td>2020-05-21 21:00:00</td>\n",
       "      <td>26427.913024</td>\n",
       "    </tr>\n",
       "    <tr>\n",
       "      <th>166</th>\n",
       "      <td>2020-05-21 22:00:00</td>\n",
       "      <td>24683.404685</td>\n",
       "    </tr>\n",
       "    <tr>\n",
       "      <th>167</th>\n",
       "      <td>2020-05-21 23:00:00</td>\n",
       "      <td>22923.274018</td>\n",
       "    </tr>\n",
       "  </tbody>\n",
       "</table>\n",
       "</div>"
      ],
      "text/plain": [
       "                    date        demand\n",
       "165  2020-05-21 21:00:00  26427.913024\n",
       "166  2020-05-21 22:00:00  24683.404685\n",
       "167  2020-05-21 23:00:00  22923.274018"
      ]
     },
     "execution_count": 66,
     "metadata": {},
     "output_type": "execute_result"
    }
   ],
   "source": [
    "demand.rename(columns={'Unnamed: 0':'date','0':'demand'},inplace=True)\n",
    "demand.tail(3)"
   ]
  },
  {
   "cell_type": "code",
   "execution_count": 67,
   "metadata": {},
   "outputs": [
    {
     "data": {
      "text/html": [
       "<div>\n",
       "<style scoped>\n",
       "    .dataframe tbody tr th:only-of-type {\n",
       "        vertical-align: middle;\n",
       "    }\n",
       "\n",
       "    .dataframe tbody tr th {\n",
       "        vertical-align: top;\n",
       "    }\n",
       "\n",
       "    .dataframe thead th {\n",
       "        text-align: right;\n",
       "    }\n",
       "</style>\n",
       "<table border=\"1\" class=\"dataframe\">\n",
       "  <thead>\n",
       "    <tr style=\"text-align: right;\">\n",
       "      <th></th>\n",
       "      <th>date</th>\n",
       "      <th>solar_prediction</th>\n",
       "    </tr>\n",
       "  </thead>\n",
       "  <tbody>\n",
       "    <tr>\n",
       "      <th>161</th>\n",
       "      <td>2020-05-21 21:00:00</td>\n",
       "      <td>3.098171</td>\n",
       "    </tr>\n",
       "    <tr>\n",
       "      <th>162</th>\n",
       "      <td>2020-05-21 22:00:00</td>\n",
       "      <td>3.098171</td>\n",
       "    </tr>\n",
       "    <tr>\n",
       "      <th>163</th>\n",
       "      <td>2020-05-21 23:00:00</td>\n",
       "      <td>3.098171</td>\n",
       "    </tr>\n",
       "  </tbody>\n",
       "</table>\n",
       "</div>"
      ],
      "text/plain": [
       "                    date  solar_prediction\n",
       "161  2020-05-21 21:00:00          3.098171\n",
       "162  2020-05-21 22:00:00          3.098171\n",
       "163  2020-05-21 23:00:00          3.098171"
      ]
     },
     "execution_count": 67,
     "metadata": {},
     "output_type": "execute_result"
    }
   ],
   "source": [
    "solar.tail(3)"
   ]
  },
  {
   "cell_type": "code",
   "execution_count": 68,
   "metadata": {},
   "outputs": [
    {
     "data": {
      "text/html": [
       "<div>\n",
       "<style scoped>\n",
       "    .dataframe tbody tr th:only-of-type {\n",
       "        vertical-align: middle;\n",
       "    }\n",
       "\n",
       "    .dataframe tbody tr th {\n",
       "        vertical-align: top;\n",
       "    }\n",
       "\n",
       "    .dataframe thead th {\n",
       "        text-align: right;\n",
       "    }\n",
       "</style>\n",
       "<table border=\"1\" class=\"dataframe\">\n",
       "  <thead>\n",
       "    <tr style=\"text-align: right;\">\n",
       "      <th></th>\n",
       "      <th>date</th>\n",
       "      <th>wind_prediction</th>\n",
       "    </tr>\n",
       "  </thead>\n",
       "  <tbody>\n",
       "    <tr>\n",
       "      <th>161</th>\n",
       "      <td>2020-05-21 21:00:00</td>\n",
       "      <td>1842.028590</td>\n",
       "    </tr>\n",
       "    <tr>\n",
       "      <th>162</th>\n",
       "      <td>2020-05-21 22:00:00</td>\n",
       "      <td>2040.498334</td>\n",
       "    </tr>\n",
       "    <tr>\n",
       "      <th>163</th>\n",
       "      <td>2020-05-21 23:00:00</td>\n",
       "      <td>2283.806863</td>\n",
       "    </tr>\n",
       "  </tbody>\n",
       "</table>\n",
       "</div>"
      ],
      "text/plain": [
       "                    date  wind_prediction\n",
       "161  2020-05-21 21:00:00      1842.028590\n",
       "162  2020-05-21 22:00:00      2040.498334\n",
       "163  2020-05-21 23:00:00      2283.806863"
      ]
     },
     "execution_count": 68,
     "metadata": {},
     "output_type": "execute_result"
    }
   ],
   "source": [
    "wind.tail(3)"
   ]
  },
  {
   "cell_type": "markdown",
   "metadata": {},
   "source": [
    "### Merge predictions"
   ]
  },
  {
   "cell_type": "code",
   "execution_count": 78,
   "metadata": {},
   "outputs": [
    {
     "name": "stdout",
     "output_type": "stream",
     "text": [
      "(164, 4)\n"
     ]
    },
    {
     "data": {
      "text/html": [
       "<div>\n",
       "<style scoped>\n",
       "    .dataframe tbody tr th:only-of-type {\n",
       "        vertical-align: middle;\n",
       "    }\n",
       "\n",
       "    .dataframe tbody tr th {\n",
       "        vertical-align: top;\n",
       "    }\n",
       "\n",
       "    .dataframe thead th {\n",
       "        text-align: right;\n",
       "    }\n",
       "</style>\n",
       "<table border=\"1\" class=\"dataframe\">\n",
       "  <thead>\n",
       "    <tr style=\"text-align: right;\">\n",
       "      <th></th>\n",
       "      <th>date</th>\n",
       "      <th>demand</th>\n",
       "      <th>solar_prediction</th>\n",
       "      <th>wind_prediction</th>\n",
       "    </tr>\n",
       "  </thead>\n",
       "  <tbody>\n",
       "    <tr>\n",
       "      <th>161</th>\n",
       "      <td>2020-05-21 21:00:00</td>\n",
       "      <td>26427.913024</td>\n",
       "      <td>3.098171</td>\n",
       "      <td>1842.028590</td>\n",
       "    </tr>\n",
       "    <tr>\n",
       "      <th>162</th>\n",
       "      <td>2020-05-21 22:00:00</td>\n",
       "      <td>24683.404685</td>\n",
       "      <td>3.098171</td>\n",
       "      <td>2040.498334</td>\n",
       "    </tr>\n",
       "    <tr>\n",
       "      <th>163</th>\n",
       "      <td>2020-05-21 23:00:00</td>\n",
       "      <td>22923.274018</td>\n",
       "      <td>3.098171</td>\n",
       "      <td>2283.806863</td>\n",
       "    </tr>\n",
       "  </tbody>\n",
       "</table>\n",
       "</div>"
      ],
      "text/plain": [
       "                    date        demand  solar_prediction  wind_prediction\n",
       "161  2020-05-21 21:00:00  26427.913024          3.098171      1842.028590\n",
       "162  2020-05-21 22:00:00  24683.404685          3.098171      2040.498334\n",
       "163  2020-05-21 23:00:00  22923.274018          3.098171      2283.806863"
      ]
     },
     "execution_count": 78,
     "metadata": {},
     "output_type": "execute_result"
    }
   ],
   "source": [
    "predictions = demand.merge(solar,how='inner',on='date')\n",
    "predictions = predictions.merge(wind,how='inner',on='date')\n",
    "print(predictions.shape)\n",
    "predictions.tail(3)"
   ]
  },
  {
   "cell_type": "markdown",
   "metadata": {},
   "source": [
    "### Calculate net demand forecast"
   ]
  },
  {
   "cell_type": "code",
   "execution_count": 79,
   "metadata": {},
   "outputs": [
    {
     "data": {
      "text/html": [
       "<div>\n",
       "<style scoped>\n",
       "    .dataframe tbody tr th:only-of-type {\n",
       "        vertical-align: middle;\n",
       "    }\n",
       "\n",
       "    .dataframe tbody tr th {\n",
       "        vertical-align: top;\n",
       "    }\n",
       "\n",
       "    .dataframe thead th {\n",
       "        text-align: right;\n",
       "    }\n",
       "</style>\n",
       "<table border=\"1\" class=\"dataframe\">\n",
       "  <thead>\n",
       "    <tr style=\"text-align: right;\">\n",
       "      <th></th>\n",
       "      <th>demand</th>\n",
       "      <th>solar_prediction</th>\n",
       "      <th>wind_prediction</th>\n",
       "      <th>aggregate</th>\n",
       "      <th>net_demand_prediction</th>\n",
       "    </tr>\n",
       "    <tr>\n",
       "      <th>date</th>\n",
       "      <th></th>\n",
       "      <th></th>\n",
       "      <th></th>\n",
       "      <th></th>\n",
       "      <th></th>\n",
       "    </tr>\n",
       "  </thead>\n",
       "  <tbody>\n",
       "    <tr>\n",
       "      <th>2020-05-15 04:00:00</th>\n",
       "      <td>19726.376705</td>\n",
       "      <td>3.098171</td>\n",
       "      <td>3159.794258</td>\n",
       "      <td>3162.892428</td>\n",
       "      <td>16563.484277</td>\n",
       "    </tr>\n",
       "    <tr>\n",
       "      <th>2020-05-15 05:00:00</th>\n",
       "      <td>20429.428291</td>\n",
       "      <td>3.098171</td>\n",
       "      <td>3408.533372</td>\n",
       "      <td>3411.631543</td>\n",
       "      <td>17017.796748</td>\n",
       "    </tr>\n",
       "    <tr>\n",
       "      <th>2020-05-15 06:00:00</th>\n",
       "      <td>20986.243994</td>\n",
       "      <td>3.098171</td>\n",
       "      <td>3283.478098</td>\n",
       "      <td>3286.576269</td>\n",
       "      <td>17699.667725</td>\n",
       "    </tr>\n",
       "  </tbody>\n",
       "</table>\n",
       "</div>"
      ],
      "text/plain": [
       "                           demand  solar_prediction  wind_prediction  \\\n",
       "date                                                                   \n",
       "2020-05-15 04:00:00  19726.376705          3.098171      3159.794258   \n",
       "2020-05-15 05:00:00  20429.428291          3.098171      3408.533372   \n",
       "2020-05-15 06:00:00  20986.243994          3.098171      3283.478098   \n",
       "\n",
       "                       aggregate  net_demand_prediction  \n",
       "date                                                     \n",
       "2020-05-15 04:00:00  3162.892428           16563.484277  \n",
       "2020-05-15 05:00:00  3411.631543           17017.796748  \n",
       "2020-05-15 06:00:00  3286.576269           17699.667725  "
      ]
     },
     "execution_count": 79,
     "metadata": {},
     "output_type": "execute_result"
    }
   ],
   "source": [
    "predictions['aggregate'] = predictions['solar_prediction']+predictions['wind_prediction']\n",
    "predictions['net_demand_prediction'] = predictions['demand'] - predictions['aggregate']\n",
    "predictions['date'] = pd.to_datetime(predictions['date'])\n",
    "predictions.set_index('date',inplace=True)\n",
    "predictions.head(3)"
   ]
  },
  {
   "cell_type": "markdown",
   "metadata": {},
   "source": [
    "### Read in supply data to evaluate forecast"
   ]
  },
  {
   "cell_type": "code",
   "execution_count": 80,
   "metadata": {},
   "outputs": [
    {
     "name": "stdout",
     "output_type": "stream",
     "text": [
      "(18492, 5)\n"
     ]
    },
    {
     "data": {
      "text/html": [
       "<div>\n",
       "<style scoped>\n",
       "    .dataframe tbody tr th:only-of-type {\n",
       "        vertical-align: middle;\n",
       "    }\n",
       "\n",
       "    .dataframe tbody tr th {\n",
       "        vertical-align: top;\n",
       "    }\n",
       "\n",
       "    .dataframe thead th {\n",
       "        text-align: right;\n",
       "    }\n",
       "</style>\n",
       "<table border=\"1\" class=\"dataframe\">\n",
       "  <thead>\n",
       "    <tr style=\"text-align: right;\">\n",
       "      <th></th>\n",
       "      <th>gas</th>\n",
       "      <th>hydro</th>\n",
       "      <th>renewables</th>\n",
       "      <th>imports</th>\n",
       "      <th>total</th>\n",
       "    </tr>\n",
       "    <tr>\n",
       "      <th>date</th>\n",
       "      <th></th>\n",
       "      <th></th>\n",
       "      <th></th>\n",
       "      <th></th>\n",
       "      <th></th>\n",
       "    </tr>\n",
       "  </thead>\n",
       "  <tbody>\n",
       "    <tr>\n",
       "      <th>2018-04-12 00:00:00</th>\n",
       "      <td>5928.75</td>\n",
       "      <td>3046.000000</td>\n",
       "      <td>5940.333333</td>\n",
       "      <td>5525.083333</td>\n",
       "      <td>20440.166667</td>\n",
       "    </tr>\n",
       "    <tr>\n",
       "      <th>2018-04-12 01:00:00</th>\n",
       "      <td>5429.75</td>\n",
       "      <td>2690.333333</td>\n",
       "      <td>5762.000000</td>\n",
       "      <td>5913.666667</td>\n",
       "      <td>19795.750000</td>\n",
       "    </tr>\n",
       "    <tr>\n",
       "      <th>2018-04-12 02:00:00</th>\n",
       "      <td>5029.25</td>\n",
       "      <td>2702.250000</td>\n",
       "      <td>5772.750000</td>\n",
       "      <td>5854.500000</td>\n",
       "      <td>19358.750000</td>\n",
       "    </tr>\n",
       "  </tbody>\n",
       "</table>\n",
       "</div>"
      ],
      "text/plain": [
       "                         gas        hydro   renewables      imports  \\\n",
       "date                                                                  \n",
       "2018-04-12 00:00:00  5928.75  3046.000000  5940.333333  5525.083333   \n",
       "2018-04-12 01:00:00  5429.75  2690.333333  5762.000000  5913.666667   \n",
       "2018-04-12 02:00:00  5029.25  2702.250000  5772.750000  5854.500000   \n",
       "\n",
       "                            total  \n",
       "date                               \n",
       "2018-04-12 00:00:00  20440.166667  \n",
       "2018-04-12 01:00:00  19795.750000  \n",
       "2018-04-12 02:00:00  19358.750000  "
      ]
     },
     "execution_count": 80,
     "metadata": {},
     "output_type": "execute_result"
    }
   ],
   "source": [
    "sup = pd.read_csv('../datasets/time_series/supply_series.csv')\n",
    "sup['date'] = pd.to_datetime(sup['date'])\n",
    "sup.set_index('date', inplace=True)\n",
    "sup_hrly = sup.resample('H').mean()\n",
    "print(sup_hrly.shape)\n",
    "sup_hrly.head(3)"
   ]
  },
  {
   "cell_type": "code",
   "execution_count": 81,
   "metadata": {},
   "outputs": [
    {
     "name": "stdout",
     "output_type": "stream",
     "text": [
      "(18504, 5)\n"
     ]
    },
    {
     "data": {
      "text/html": [
       "<div>\n",
       "<style scoped>\n",
       "    .dataframe tbody tr th:only-of-type {\n",
       "        vertical-align: middle;\n",
       "    }\n",
       "\n",
       "    .dataframe tbody tr th {\n",
       "        vertical-align: top;\n",
       "    }\n",
       "\n",
       "    .dataframe thead th {\n",
       "        text-align: right;\n",
       "    }\n",
       "</style>\n",
       "<table border=\"1\" class=\"dataframe\">\n",
       "  <thead>\n",
       "    <tr style=\"text-align: right;\">\n",
       "      <th></th>\n",
       "      <th>solar</th>\n",
       "      <th>wind</th>\n",
       "      <th>geothermal</th>\n",
       "      <th>biomass</th>\n",
       "      <th>biogas</th>\n",
       "    </tr>\n",
       "    <tr>\n",
       "      <th>date</th>\n",
       "      <th></th>\n",
       "      <th></th>\n",
       "      <th></th>\n",
       "      <th></th>\n",
       "      <th></th>\n",
       "    </tr>\n",
       "  </thead>\n",
       "  <tbody>\n",
       "    <tr>\n",
       "      <th>2018-04-12 00:00:00</th>\n",
       "      <td>0.0</td>\n",
       "      <td>4334.916667</td>\n",
       "      <td>688.250000</td>\n",
       "      <td>243.166667</td>\n",
       "      <td>241.333333</td>\n",
       "    </tr>\n",
       "    <tr>\n",
       "      <th>2018-04-12 01:00:00</th>\n",
       "      <td>0.0</td>\n",
       "      <td>4197.000000</td>\n",
       "      <td>654.750000</td>\n",
       "      <td>236.916667</td>\n",
       "      <td>241.083333</td>\n",
       "    </tr>\n",
       "    <tr>\n",
       "      <th>2018-04-12 02:00:00</th>\n",
       "      <td>0.0</td>\n",
       "      <td>4250.583333</td>\n",
       "      <td>643.916667</td>\n",
       "      <td>238.333333</td>\n",
       "      <td>242.500000</td>\n",
       "    </tr>\n",
       "  </tbody>\n",
       "</table>\n",
       "</div>"
      ],
      "text/plain": [
       "                     solar         wind  geothermal     biomass      biogas\n",
       "date                                                                       \n",
       "2018-04-12 00:00:00    0.0  4334.916667  688.250000  243.166667  241.333333\n",
       "2018-04-12 01:00:00    0.0  4197.000000  654.750000  236.916667  241.083333\n",
       "2018-04-12 02:00:00    0.0  4250.583333  643.916667  238.333333  242.500000"
      ]
     },
     "execution_count": 81,
     "metadata": {},
     "output_type": "execute_result"
    }
   ],
   "source": [
    "ren = pd.read_csv('../datasets/time_series/renewables_series.csv')\n",
    "ren['date'] = pd.to_datetime(ren['date'])\n",
    "ren.set_index('date', inplace=True)\n",
    "ren_hrly = ren.resample('H').mean()\n",
    "print(ren_hrly.shape)\n",
    "ren_hrly.head(3)"
   ]
  },
  {
   "cell_type": "markdown",
   "metadata": {},
   "source": [
    "### Merge predictions with supply"
   ]
  },
  {
   "cell_type": "code",
   "execution_count": 82,
   "metadata": {},
   "outputs": [
    {
     "data": {
      "text/html": [
       "<div>\n",
       "<style scoped>\n",
       "    .dataframe tbody tr th:only-of-type {\n",
       "        vertical-align: middle;\n",
       "    }\n",
       "\n",
       "    .dataframe tbody tr th {\n",
       "        vertical-align: top;\n",
       "    }\n",
       "\n",
       "    .dataframe thead th {\n",
       "        text-align: right;\n",
       "    }\n",
       "</style>\n",
       "<table border=\"1\" class=\"dataframe\">\n",
       "  <thead>\n",
       "    <tr style=\"text-align: right;\">\n",
       "      <th></th>\n",
       "      <th>demand</th>\n",
       "      <th>solar_prediction</th>\n",
       "      <th>wind_prediction</th>\n",
       "      <th>aggregate</th>\n",
       "      <th>net_demand_prediction</th>\n",
       "      <th>gas</th>\n",
       "      <th>hydro</th>\n",
       "      <th>renewables</th>\n",
       "      <th>imports</th>\n",
       "      <th>total</th>\n",
       "      <th>solar</th>\n",
       "      <th>wind</th>\n",
       "      <th>geothermal</th>\n",
       "      <th>biomass</th>\n",
       "      <th>biogas</th>\n",
       "    </tr>\n",
       "    <tr>\n",
       "      <th>date</th>\n",
       "      <th></th>\n",
       "      <th></th>\n",
       "      <th></th>\n",
       "      <th></th>\n",
       "      <th></th>\n",
       "      <th></th>\n",
       "      <th></th>\n",
       "      <th></th>\n",
       "      <th></th>\n",
       "      <th></th>\n",
       "      <th></th>\n",
       "      <th></th>\n",
       "      <th></th>\n",
       "      <th></th>\n",
       "      <th></th>\n",
       "    </tr>\n",
       "  </thead>\n",
       "  <tbody>\n",
       "    <tr>\n",
       "      <th>2020-05-15 04:00:00</th>\n",
       "      <td>19726.376705</td>\n",
       "      <td>3.098171</td>\n",
       "      <td>3159.794258</td>\n",
       "      <td>3162.892428</td>\n",
       "      <td>16563.484277</td>\n",
       "      <td>2750.75</td>\n",
       "      <td>2228.833333</td>\n",
       "      <td>4946.333333</td>\n",
       "      <td>8824.000000</td>\n",
       "      <td>18749.916667</td>\n",
       "      <td>-35.666667</td>\n",
       "      <td>3256.166667</td>\n",
       "      <td>899.416667</td>\n",
       "      <td>308.666667</td>\n",
       "      <td>211.333333</td>\n",
       "    </tr>\n",
       "    <tr>\n",
       "      <th>2020-05-15 05:00:00</th>\n",
       "      <td>20429.428291</td>\n",
       "      <td>3.098171</td>\n",
       "      <td>3408.533372</td>\n",
       "      <td>3411.631543</td>\n",
       "      <td>17017.796748</td>\n",
       "      <td>2815.00</td>\n",
       "      <td>2468.833333</td>\n",
       "      <td>5023.916667</td>\n",
       "      <td>8986.583333</td>\n",
       "      <td>19294.333333</td>\n",
       "      <td>-32.916667</td>\n",
       "      <td>3322.000000</td>\n",
       "      <td>902.250000</td>\n",
       "      <td>309.500000</td>\n",
       "      <td>211.333333</td>\n",
       "    </tr>\n",
       "    <tr>\n",
       "      <th>2020-05-15 06:00:00</th>\n",
       "      <td>20986.243994</td>\n",
       "      <td>3.098171</td>\n",
       "      <td>3283.478098</td>\n",
       "      <td>3286.576269</td>\n",
       "      <td>17699.667725</td>\n",
       "      <td>2977.00</td>\n",
       "      <td>2600.083333</td>\n",
       "      <td>6095.416667</td>\n",
       "      <td>8152.750000</td>\n",
       "      <td>19825.250000</td>\n",
       "      <td>1160.166667</td>\n",
       "      <td>3209.666667</td>\n",
       "      <td>901.833333</td>\n",
       "      <td>313.833333</td>\n",
       "      <td>210.333333</td>\n",
       "    </tr>\n",
       "  </tbody>\n",
       "</table>\n",
       "</div>"
      ],
      "text/plain": [
       "                           demand  solar_prediction  wind_prediction  \\\n",
       "date                                                                   \n",
       "2020-05-15 04:00:00  19726.376705          3.098171      3159.794258   \n",
       "2020-05-15 05:00:00  20429.428291          3.098171      3408.533372   \n",
       "2020-05-15 06:00:00  20986.243994          3.098171      3283.478098   \n",
       "\n",
       "                       aggregate  net_demand_prediction      gas        hydro  \\\n",
       "date                                                                            \n",
       "2020-05-15 04:00:00  3162.892428           16563.484277  2750.75  2228.833333   \n",
       "2020-05-15 05:00:00  3411.631543           17017.796748  2815.00  2468.833333   \n",
       "2020-05-15 06:00:00  3286.576269           17699.667725  2977.00  2600.083333   \n",
       "\n",
       "                      renewables      imports         total        solar  \\\n",
       "date                                                                       \n",
       "2020-05-15 04:00:00  4946.333333  8824.000000  18749.916667   -35.666667   \n",
       "2020-05-15 05:00:00  5023.916667  8986.583333  19294.333333   -32.916667   \n",
       "2020-05-15 06:00:00  6095.416667  8152.750000  19825.250000  1160.166667   \n",
       "\n",
       "                            wind  geothermal     biomass      biogas  \n",
       "date                                                                  \n",
       "2020-05-15 04:00:00  3256.166667  899.416667  308.666667  211.333333  \n",
       "2020-05-15 05:00:00  3322.000000  902.250000  309.500000  211.333333  \n",
       "2020-05-15 06:00:00  3209.666667  901.833333  313.833333  210.333333  "
      ]
     },
     "execution_count": 82,
     "metadata": {},
     "output_type": "execute_result"
    }
   ],
   "source": [
    "predictions = predictions.merge(sup_hrly,how='inner',left_index=True,right_index=True)\n",
    "predictions = predictions.merge(ren_hrly,how='inner',left_index=True,right_index=True)\n",
    "predictions.head(3)"
   ]
  },
  {
   "cell_type": "markdown",
   "metadata": {},
   "source": [
    "### Calculate true net demand\n",
    "- add hydro, gas, imports, and all renewables but solar and wind"
   ]
  },
  {
   "cell_type": "code",
   "execution_count": 83,
   "metadata": {},
   "outputs": [],
   "source": [
    "predictions['net_demand_true'] = predictions['hydro']+predictions['gas']+predictions['imports']+predictions['geothermal']+predictions['biomass']+predictions['biogas']"
   ]
  },
  {
   "cell_type": "markdown",
   "metadata": {},
   "source": [
    "### Evaluate prediction"
   ]
  },
  {
   "cell_type": "code",
   "execution_count": 85,
   "metadata": {},
   "outputs": [
    {
     "name": "stdout",
     "output_type": "stream",
     "text": [
      "RMSE = 3323.6600437697975\n"
     ]
    },
    {
     "data": {
      "image/png": "[encoded data removed]",
      "text/plain": [
       "<Figure size 720x504 with 1 Axes>"
      ]
     },
     "metadata": {
      "needs_background": "light"
     },
     "output_type": "display_data"
    }
   ],
   "source": [
    "print(f\"RMSE = {np.sqrt(mean_squared_error(predictions['net_demand_true'],predictions['net_demand_prediction']))}\")\n",
    "plt.figure(figsize=(10,7))\n",
    "plt.plot(predictions.index,predictions['net_demand_prediction'],'r-',label='predicted')\n",
    "plt.plot(predictions.index,predictions['net_demand_true'],'k-',label='true')\n",
    "plt.legend();"
   ]
  },
  {
   "cell_type": "code",
   "execution_count": null,
   "metadata": {},
   "outputs": [],
   "source": []
  }
 ],
 "metadata": {
  "kernelspec": {
   "display_name": "Python 3",
   "language": "python",
   "name": "python3"
  },
  "language_info": {
   "codemirror_mode": {
    "name": "ipython",
    "version": 3
   },
   "file_extension": ".py",
   "mimetype": "text/x-python",
   "name": "python",
   "nbconvert_exporter": "python",
   "pygments_lexer": "ipython3",
   "version": "3.7.6"
  }
 },
 "nbformat": 4,
 "nbformat_minor": 4
}
