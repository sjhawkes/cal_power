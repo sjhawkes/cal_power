{
 "cells": [
  {
   "cell_type": "markdown",
   "metadata": {},
   "source": [
    "# Kmeans clustering of wind farms\n",
    "Read in a file of 137 operating wind farms that produce 79% of California's wind power and group into 7 <a href='#clusters'>clusters</a> that will have similar weather forecasts."
   ]
  },
  {
   "cell_type": "markdown",
   "metadata": {},
   "source": [
    "### Imports"
   ]
  },
  {
   "cell_type": "code",
   "execution_count": 1,
   "metadata": {},
   "outputs": [],
   "source": [
    "from sklearn.cluster import KMeans\n",
    "import pandas as pd\n",
    "import matplotlib.pyplot as plt"
   ]
  },
  {
   "cell_type": "markdown",
   "metadata": {},
   "source": [
    "#### Define color mapping function"
   ]
  },
  {
   "cell_type": "code",
   "execution_count": 2,
   "metadata": {},
   "outputs": [],
   "source": [
    "def rgb_calc(minn,maxx,val):\n",
    "    scaled = (val-minn)/(maxx-minn)\n",
    "    if scaled <= 0.25:\n",
    "        return [1,4*scaled,0]\n",
    "    if scaled > 0.25 and scaled <= 0.5:\n",
    "        return [(-4)*scaled+2,1,0]\n",
    "    if scaled > 0.5 and scaled <= 0.75:\n",
    "        return [0,1,4*scaled-2]\n",
    "    if scaled > 0.75:\n",
    "        return [0,(-4)*scaled+4,1]\n",
    "    else:\n",
    "        return [0,0,0]"
   ]
  },
  {
   "cell_type": "markdown",
   "metadata": {},
   "source": [
    "### Read in data"
   ]
  },
  {
   "cell_type": "code",
   "execution_count": 3,
   "metadata": {},
   "outputs": [
    {
     "name": "stdout",
     "output_type": "stream",
     "text": [
      "(137, 56)\n"
     ]
    },
    {
     "data": {
      "text/html": [
       "<div>\n",
       "<style scoped>\n",
       "    .dataframe tbody tr th:only-of-type {\n",
       "        vertical-align: middle;\n",
       "    }\n",
       "\n",
       "    .dataframe tbody tr th {\n",
       "        vertical-align: top;\n",
       "    }\n",
       "\n",
       "    .dataframe thead th {\n",
       "        text-align: right;\n",
       "    }\n",
       "</style>\n",
       "<table border=\"1\" class=\"dataframe\">\n",
       "  <thead>\n",
       "    <tr style=\"text-align: right;\">\n",
       "      <th></th>\n",
       "      <th>OBJECTID_12_13</th>\n",
       "      <th>Plant_ID</th>\n",
       "      <th>Plant_Alias</th>\n",
       "      <th>Plant_Label</th>\n",
       "      <th>MW</th>\n",
       "      <th>Gross_MWh</th>\n",
       "      <th>Net_MWh</th>\n",
       "      <th>General_Fuel</th>\n",
       "      <th>Status</th>\n",
       "      <th>STEP_License_Status</th>\n",
       "      <th>...</th>\n",
       "      <th>Operation_Job</th>\n",
       "      <th>Property_Tax</th>\n",
       "      <th>Capacity_Factor</th>\n",
       "      <th>Income_Percent</th>\n",
       "      <th>Project_Location</th>\n",
       "      <th>Creator</th>\n",
       "      <th>Creator_Date</th>\n",
       "      <th>Last_Editor</th>\n",
       "      <th>Last_Editor_Date</th>\n",
       "      <th>GlobalID</th>\n",
       "    </tr>\n",
       "  </thead>\n",
       "  <tbody>\n",
       "    <tr>\n",
       "      <th>0</th>\n",
       "      <td>1</td>\n",
       "      <td>W0464</td>\n",
       "      <td>NaN</td>\n",
       "      <td>El Cabo</td>\n",
       "      <td>298.2</td>\n",
       "      <td>NaN</td>\n",
       "      <td>NaN</td>\n",
       "      <td>Wind</td>\n",
       "      <td>Operating</td>\n",
       "      <td>NaN</td>\n",
       "      <td>...</td>\n",
       "      <td>NaN</td>\n",
       "      <td>NaN</td>\n",
       "      <td>NaN</td>\n",
       "      <td>NaN</td>\n",
       "      <td>NaN</td>\n",
       "      <td>cecgis</td>\n",
       "      <td>1581101982706</td>\n",
       "      <td>cecgis</td>\n",
       "      <td>1581101982706</td>\n",
       "      <td>0da84d14-5867-4396-8004-5ce07b6d6dd9</td>\n",
       "    </tr>\n",
       "    <tr>\n",
       "      <th>1</th>\n",
       "      <td>674</td>\n",
       "      <td>W0359</td>\n",
       "      <td>Kumeyaay; Kumeyaay Wind; Kumeyaay Wind Energy ...</td>\n",
       "      <td>Kumeyaay</td>\n",
       "      <td>50.0</td>\n",
       "      <td>155200.97</td>\n",
       "      <td>155201.0</td>\n",
       "      <td>Wind</td>\n",
       "      <td>Operating</td>\n",
       "      <td>NaN</td>\n",
       "      <td>...</td>\n",
       "      <td>NaN</td>\n",
       "      <td>NaN</td>\n",
       "      <td>0.353372</td>\n",
       "      <td>66.0</td>\n",
       "      <td>Neither Low Income Nor Disadvantaged Community</td>\n",
       "      <td>cecgis</td>\n",
       "      <td>1581101982706</td>\n",
       "      <td>cecgis</td>\n",
       "      <td>1581101982706</td>\n",
       "      <td>d4ee4d2f-7253-4169-805b-6f41da49f232</td>\n",
       "    </tr>\n",
       "    <tr>\n",
       "      <th>2</th>\n",
       "      <td>675</td>\n",
       "      <td>W0390</td>\n",
       "      <td>NaN</td>\n",
       "      <td>Golden Acorn Casino</td>\n",
       "      <td>1.0</td>\n",
       "      <td>4113.98</td>\n",
       "      <td>4114.0</td>\n",
       "      <td>Wind</td>\n",
       "      <td>Operating</td>\n",
       "      <td>NaN</td>\n",
       "      <td>...</td>\n",
       "      <td>NaN</td>\n",
       "      <td>NaN</td>\n",
       "      <td>0.468352</td>\n",
       "      <td>66.0</td>\n",
       "      <td>Neither Low Income Nor Disadvantaged Community</td>\n",
       "      <td>cecgis</td>\n",
       "      <td>1581101982706</td>\n",
       "      <td>cecgis</td>\n",
       "      <td>1581101982706</td>\n",
       "      <td>f0db0dca-a275-4cbc-a2b9-b066daec8060</td>\n",
       "    </tr>\n",
       "  </tbody>\n",
       "</table>\n",
       "<p>3 rows × 56 columns</p>\n",
       "</div>"
      ],
      "text/plain": [
       "   OBJECTID_12_13 Plant_ID                                        Plant_Alias  \\\n",
       "0               1    W0464                                                NaN   \n",
       "1             674    W0359  Kumeyaay; Kumeyaay Wind; Kumeyaay Wind Energy ...   \n",
       "2             675    W0390                                                NaN   \n",
       "\n",
       "           Plant_Label     MW  Gross_MWh   Net_MWh General_Fuel     Status  \\\n",
       "0              El Cabo  298.2        NaN       NaN         Wind  Operating   \n",
       "1             Kumeyaay   50.0  155200.97  155201.0         Wind  Operating   \n",
       "2  Golden Acorn Casino    1.0    4113.98    4114.0         Wind  Operating   \n",
       "\n",
       "   STEP_License_Status  ...  Operation_Job  Property_Tax  Capacity_Factor  \\\n",
       "0                  NaN  ...            NaN           NaN              NaN   \n",
       "1                  NaN  ...            NaN           NaN         0.353372   \n",
       "2                  NaN  ...            NaN           NaN         0.468352   \n",
       "\n",
       "   Income_Percent                                Project_Location Creator  \\\n",
       "0             NaN                                             NaN  cecgis   \n",
       "1            66.0  Neither Low Income Nor Disadvantaged Community  cecgis   \n",
       "2            66.0  Neither Low Income Nor Disadvantaged Community  cecgis   \n",
       "\n",
       "    Creator_Date Last_Editor Last_Editor_Date  \\\n",
       "0  1581101982706      cecgis    1581101982706   \n",
       "1  1581101982706      cecgis    1581101982706   \n",
       "2  1581101982706      cecgis    1581101982706   \n",
       "\n",
       "                               GlobalID  \n",
       "0  0da84d14-5867-4396-8004-5ce07b6d6dd9  \n",
       "1  d4ee4d2f-7253-4169-805b-6f41da49f232  \n",
       "2  f0db0dca-a275-4cbc-a2b9-b066daec8060  \n",
       "\n",
       "[3 rows x 56 columns]"
      ]
     },
     "execution_count": 3,
     "metadata": {},
     "output_type": "execute_result"
    }
   ],
   "source": [
    "main_wind = pd.read_csv('../datasets/main_wind.csv')\n",
    "print(main_wind.shape)\n",
    "main_wind.head(3)"
   ]
  },
  {
   "cell_type": "markdown",
   "metadata": {},
   "source": [
    "### Fit KMeans cluster model with 30 clusters"
   ]
  },
  {
   "cell_type": "code",
   "execution_count": 4,
   "metadata": {},
   "outputs": [
    {
     "data": {
      "text/plain": [
       "KMeans(algorithm='auto', copy_x=True, init='k-means++', max_iter=300,\n",
       "       n_clusters=7, n_init=10, n_jobs=None, precompute_distances='auto',\n",
       "       random_state=2020, tol=0.0001, verbose=0)"
      ]
     },
     "execution_count": 4,
     "metadata": {},
     "output_type": "execute_result"
    }
   ],
   "source": [
    "X = main_wind[['Longitude','Latitude']]\n",
    "\n",
    "km = KMeans(n_clusters=7,random_state=2020)\n",
    "km.fit(X)"
   ]
  },
  {
   "cell_type": "markdown",
   "metadata": {},
   "source": [
    "### Label plants with cluster number and assign a plotting color"
   ]
  },
  {
   "cell_type": "code",
   "execution_count": 5,
   "metadata": {},
   "outputs": [],
   "source": [
    "main_wind['cluster'] = km.labels_\n",
    "main_wind['color'] = main_wind['cluster'].map(lambda p: rgb_calc(0,29,p))"
   ]
  },
  {
   "cell_type": "markdown",
   "metadata": {},
   "source": [
    "<a id=\"clusters\"><a>\n",
    "\n",
    "### Visualize clusters"
   ]
  },
  {
   "cell_type": "code",
   "execution_count": 6,
   "metadata": {},
   "outputs": [
    {
     "data": {
      "image/png": "[encoded data removed]",
      "text/plain": [
       "<Figure size 720x504 with 1 Axes>"
      ]
     },
     "metadata": {
      "needs_background": "light"
     },
     "output_type": "display_data"
    }
   ],
   "source": [
    "fig, ax = plt.subplots(figsize=(10,7))\n",
    "ax.scatter(main_wind['Longitude'],main_wind['Latitude'],c=main_wind['color'],s=14)\n",
    "ax.plot(km.cluster_centers_[:,0],km.cluster_centers_[:,1],'k*',markersize=8)\n",
    "ax.set_aspect('equal')\n",
    "plt.title('Wind Farm Clusters',fontsize=20)\n",
    "plt.xlabel('Longitude',fontsize=16)\n",
    "plt.ylabel('Latitude',fontsize=16);"
   ]
  },
  {
   "cell_type": "markdown",
   "metadata": {},
   "source": [
    "#### Wind Farm Clusters\n",
    "- Each color denotes a new cluster\n",
    "- The black stars show the cluster centroids\n",
    "- Each centroid will be used to collect windspeed data to predict generated output for the given cluster"
   ]
  },
  {
   "cell_type": "markdown",
   "metadata": {},
   "source": [
    "### Group solar plants by cluster and aggregate total capacity in MW"
   ]
  },
  {
   "cell_type": "code",
   "execution_count": 7,
   "metadata": {},
   "outputs": [
    {
     "name": "stdout",
     "output_type": "stream",
     "text": [
      "(7, 3)\n"
     ]
    },
    {
     "data": {
      "text/html": [
       "<div>\n",
       "<style scoped>\n",
       "    .dataframe tbody tr th:only-of-type {\n",
       "        vertical-align: middle;\n",
       "    }\n",
       "\n",
       "    .dataframe tbody tr th {\n",
       "        vertical-align: top;\n",
       "    }\n",
       "\n",
       "    .dataframe thead th {\n",
       "        text-align: right;\n",
       "    }\n",
       "</style>\n",
       "<table border=\"1\" class=\"dataframe\">\n",
       "  <thead>\n",
       "    <tr style=\"text-align: right;\">\n",
       "      <th></th>\n",
       "      <th>Longitude</th>\n",
       "      <th>Latitude</th>\n",
       "      <th>MW</th>\n",
       "    </tr>\n",
       "    <tr>\n",
       "      <th>cluster</th>\n",
       "      <th></th>\n",
       "      <th></th>\n",
       "      <th></th>\n",
       "    </tr>\n",
       "  </thead>\n",
       "  <tbody>\n",
       "    <tr>\n",
       "      <th>0</th>\n",
       "      <td>-118.320799</td>\n",
       "      <td>35.062432</td>\n",
       "      <td>3526.14</td>\n",
       "    </tr>\n",
       "    <tr>\n",
       "      <th>1</th>\n",
       "      <td>-121.736003</td>\n",
       "      <td>37.920458</td>\n",
       "      <td>1657.66</td>\n",
       "    </tr>\n",
       "    <tr>\n",
       "      <th>2</th>\n",
       "      <td>-116.606149</td>\n",
       "      <td>33.918124</td>\n",
       "      <td>687.85</td>\n",
       "    </tr>\n",
       "    <tr>\n",
       "      <th>3</th>\n",
       "      <td>-112.935725</td>\n",
       "      <td>38.571090</td>\n",
       "      <td>304.00</td>\n",
       "    </tr>\n",
       "    <tr>\n",
       "      <th>4</th>\n",
       "      <td>-105.461670</td>\n",
       "      <td>34.651112</td>\n",
       "      <td>298.20</td>\n",
       "    </tr>\n",
       "  </tbody>\n",
       "</table>\n",
       "</div>"
      ],
      "text/plain": [
       "          Longitude   Latitude       MW\n",
       "cluster                                \n",
       "0       -118.320799  35.062432  3526.14\n",
       "1       -121.736003  37.920458  1657.66\n",
       "2       -116.606149  33.918124   687.85\n",
       "3       -112.935725  38.571090   304.00\n",
       "4       -105.461670  34.651112   298.20"
      ]
     },
     "execution_count": 7,
     "metadata": {},
     "output_type": "execute_result"
    }
   ],
   "source": [
    "wind_clusters = main_wind.groupby('cluster').sum()\n",
    "wind_clusters['Longitude'] = km.cluster_centers_[:,0]\n",
    "wind_clusters['Latitude'] = km.cluster_centers_[:,1]\n",
    "wind_clusters = wind_clusters[['Longitude','Latitude','MW']]\n",
    "print(wind_clusters.shape)\n",
    "wind_clusters.head()"
   ]
  },
  {
   "cell_type": "markdown",
   "metadata": {},
   "source": [
    "### Export data"
   ]
  },
  {
   "cell_type": "code",
   "execution_count": 8,
   "metadata": {},
   "outputs": [],
   "source": [
    "# wind_clusters.to_csv('../datasets/wind_clusters.csv',index=False)"
   ]
  }
 ],
 "metadata": {
  "kernelspec": {
   "display_name": "Python 3",
   "language": "python",
   "name": "python3"
  },
  "language_info": {
   "codemirror_mode": {
    "name": "ipython",
    "version": 3
   },
   "file_extension": ".py",
   "mimetype": "text/x-python",
   "name": "python",
   "nbconvert_exporter": "python",
   "pygments_lexer": "ipython3",
   "version": "3.7.6"
  }
 },
 "nbformat": 4,
 "nbformat_minor": 4
}
