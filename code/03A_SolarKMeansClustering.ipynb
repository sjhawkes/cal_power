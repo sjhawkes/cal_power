{
 "cells": [
  {
   "cell_type": "markdown",
   "metadata": {},
   "source": [
    "# Kmeans clustering of solar plants\n",
    "Read in a file of 671 operating solar plants that produce 96% of California's solar power and group into 30 <a href='#clusters'>clusters</a> that will have similar weather forecasts."
   ]
  },
  {
   "cell_type": "markdown",
   "metadata": {},
   "source": [
    "### Imports"
   ]
  },
  {
   "cell_type": "code",
   "execution_count": 1,
   "metadata": {},
   "outputs": [],
   "source": [
    "from sklearn.cluster import KMeans\n",
    "import pandas as pd\n",
    "import matplotlib.pyplot as plt"
   ]
  },
  {
   "cell_type": "markdown",
   "metadata": {},
   "source": [
    "#### Define color mapping function"
   ]
  },
  {
   "cell_type": "code",
   "execution_count": 2,
   "metadata": {},
   "outputs": [],
   "source": [
    "def rgb_calc(minn,maxx,val):\n",
    "    scaled = (val-minn)/(maxx-minn)\n",
    "    if scaled <= 0.25:\n",
    "        return [1,4*scaled,0]\n",
    "    if scaled > 0.25 and scaled <= 0.5:\n",
    "        return [(-4)*scaled+2,1,0]\n",
    "    if scaled > 0.5 and scaled <= 0.75:\n",
    "        return [0,1,4*scaled-2]\n",
    "    if scaled > 0.75:\n",
    "        return [0,(-4)*scaled+4,1]\n",
    "    else:\n",
    "        return [0,0,0]"
   ]
  },
  {
   "cell_type": "markdown",
   "metadata": {},
   "source": [
    "### Read in data"
   ]
  },
  {
   "cell_type": "code",
   "execution_count": 3,
   "metadata": {},
   "outputs": [
    {
     "name": "stdout",
     "output_type": "stream",
     "text": [
      "(671, 58)\n"
     ]
    },
    {
     "data": {
      "text/html": [
       "<div>\n",
       "<style scoped>\n",
       "    .dataframe tbody tr th:only-of-type {\n",
       "        vertical-align: middle;\n",
       "    }\n",
       "\n",
       "    .dataframe tbody tr th {\n",
       "        vertical-align: top;\n",
       "    }\n",
       "\n",
       "    .dataframe thead th {\n",
       "        text-align: right;\n",
       "    }\n",
       "</style>\n",
       "<table border=\"1\" class=\"dataframe\">\n",
       "  <thead>\n",
       "    <tr style=\"text-align: right;\">\n",
       "      <th></th>\n",
       "      <th>OBJECTID_12_13</th>\n",
       "      <th>Plant_ID</th>\n",
       "      <th>Plant_Alias</th>\n",
       "      <th>Plant_Label</th>\n",
       "      <th>MW</th>\n",
       "      <th>Gross_MWh</th>\n",
       "      <th>Net_MWh</th>\n",
       "      <th>General_Fuel</th>\n",
       "      <th>Status</th>\n",
       "      <th>STEP_License_Status</th>\n",
       "      <th>...</th>\n",
       "      <th>Capacity_Factor</th>\n",
       "      <th>Income_Percent</th>\n",
       "      <th>Project_Location</th>\n",
       "      <th>Creator</th>\n",
       "      <th>Creator_Date</th>\n",
       "      <th>Last_Editor</th>\n",
       "      <th>Last_Editor_Date</th>\n",
       "      <th>GlobalID</th>\n",
       "      <th>cluster</th>\n",
       "      <th>color</th>\n",
       "    </tr>\n",
       "  </thead>\n",
       "  <tbody>\n",
       "    <tr>\n",
       "      <th>0</th>\n",
       "      <td>9</td>\n",
       "      <td>S0155</td>\n",
       "      <td>Fleshman Solar Farm</td>\n",
       "      <td>Kost (Fleshman Solar Farm)</td>\n",
       "      <td>3.00</td>\n",
       "      <td>5556.0</td>\n",
       "      <td>5531.0</td>\n",
       "      <td>Solar</td>\n",
       "      <td>Operating</td>\n",
       "      <td>NaN</td>\n",
       "      <td>...</td>\n",
       "      <td>0.209889</td>\n",
       "      <td>64.0</td>\n",
       "      <td>Neither Low Income Nor Disadvantaged Community</td>\n",
       "      <td>cecgis</td>\n",
       "      <td>1581101982706</td>\n",
       "      <td>cecgis</td>\n",
       "      <td>1581101982706</td>\n",
       "      <td>c9bd60cc-014a-4b05-bef0-5d7e909fc82a</td>\n",
       "      <td>4</td>\n",
       "      <td>[1, 0.5517241379310345, 0]</td>\n",
       "    </tr>\n",
       "    <tr>\n",
       "      <th>1</th>\n",
       "      <td>11</td>\n",
       "      <td>S0284</td>\n",
       "      <td>Bruceville Holdings LLC; Bruceville Rd. Solar ...</td>\n",
       "      <td>RE Bruceville Solar 1</td>\n",
       "      <td>6.65</td>\n",
       "      <td>11418.0</td>\n",
       "      <td>11418.0</td>\n",
       "      <td>Solar</td>\n",
       "      <td>Operating</td>\n",
       "      <td>NaN</td>\n",
       "      <td>...</td>\n",
       "      <td>0.195468</td>\n",
       "      <td>122.0</td>\n",
       "      <td>Neither Low Income Nor Disadvantaged Community</td>\n",
       "      <td>cecgis</td>\n",
       "      <td>1581101982706</td>\n",
       "      <td>cecgis</td>\n",
       "      <td>1581101982706</td>\n",
       "      <td>7af0837e-dd75-45f4-8d2a-8abe7483ffc0</td>\n",
       "      <td>4</td>\n",
       "      <td>[1, 0.5517241379310345, 0]</td>\n",
       "    </tr>\n",
       "    <tr>\n",
       "      <th>2</th>\n",
       "      <td>12</td>\n",
       "      <td>S0154</td>\n",
       "      <td>Lawrence Solar Farm Pam</td>\n",
       "      <td>Point Pleasant (Lawrence Solar Farm)</td>\n",
       "      <td>1.00</td>\n",
       "      <td>1786.0</td>\n",
       "      <td>1775.0</td>\n",
       "      <td>Solar</td>\n",
       "      <td>Operating</td>\n",
       "      <td>NaN</td>\n",
       "      <td>...</td>\n",
       "      <td>0.202072</td>\n",
       "      <td>122.0</td>\n",
       "      <td>Neither Low Income Nor Disadvantaged Community</td>\n",
       "      <td>cecgis</td>\n",
       "      <td>1581101982706</td>\n",
       "      <td>cecgis</td>\n",
       "      <td>1581101982706</td>\n",
       "      <td>da8f27d0-4782-4134-a53d-c7e45010414b</td>\n",
       "      <td>4</td>\n",
       "      <td>[1, 0.5517241379310345, 0]</td>\n",
       "    </tr>\n",
       "  </tbody>\n",
       "</table>\n",
       "<p>3 rows × 58 columns</p>\n",
       "</div>"
      ],
      "text/plain": [
       "   OBJECTID_12_13 Plant_ID                                        Plant_Alias  \\\n",
       "0               9    S0155                                Fleshman Solar Farm   \n",
       "1              11    S0284  Bruceville Holdings LLC; Bruceville Rd. Solar ...   \n",
       "2              12    S0154                            Lawrence Solar Farm Pam   \n",
       "\n",
       "                            Plant_Label    MW  Gross_MWh  Net_MWh  \\\n",
       "0            Kost (Fleshman Solar Farm)  3.00     5556.0   5531.0   \n",
       "1                 RE Bruceville Solar 1  6.65    11418.0  11418.0   \n",
       "2  Point Pleasant (Lawrence Solar Farm)  1.00     1786.0   1775.0   \n",
       "\n",
       "  General_Fuel     Status STEP_License_Status  ...  Capacity_Factor  \\\n",
       "0        Solar  Operating                 NaN  ...         0.209889   \n",
       "1        Solar  Operating                 NaN  ...         0.195468   \n",
       "2        Solar  Operating                 NaN  ...         0.202072   \n",
       "\n",
       "   Income_Percent                                Project_Location  Creator  \\\n",
       "0            64.0  Neither Low Income Nor Disadvantaged Community   cecgis   \n",
       "1           122.0  Neither Low Income Nor Disadvantaged Community   cecgis   \n",
       "2           122.0  Neither Low Income Nor Disadvantaged Community   cecgis   \n",
       "\n",
       "    Creator_Date Last_Editor Last_Editor_Date  \\\n",
       "0  1581101982706      cecgis    1581101982706   \n",
       "1  1581101982706      cecgis    1581101982706   \n",
       "2  1581101982706      cecgis    1581101982706   \n",
       "\n",
       "                               GlobalID  cluster                       color  \n",
       "0  c9bd60cc-014a-4b05-bef0-5d7e909fc82a        4  [1, 0.5517241379310345, 0]  \n",
       "1  7af0837e-dd75-45f4-8d2a-8abe7483ffc0        4  [1, 0.5517241379310345, 0]  \n",
       "2  da8f27d0-4782-4134-a53d-c7e45010414b        4  [1, 0.5517241379310345, 0]  \n",
       "\n",
       "[3 rows x 58 columns]"
      ]
     },
     "execution_count": 3,
     "metadata": {},
     "output_type": "execute_result"
    }
   ],
   "source": [
    "main_solar = pd.read_csv('../datasets/main_solar.csv')\n",
    "print(main_solar.shape)\n",
    "main_solar.head(3)"
   ]
  },
  {
   "cell_type": "markdown",
   "metadata": {},
   "source": [
    "### Fit KMeans cluster model with 30 clusters"
   ]
  },
  {
   "cell_type": "code",
   "execution_count": 4,
   "metadata": {},
   "outputs": [
    {
     "data": {
      "text/plain": [
       "KMeans(algorithm='auto', copy_x=True, init='k-means++', max_iter=300,\n",
       "       n_clusters=30, n_init=10, n_jobs=None, precompute_distances='auto',\n",
       "       random_state=2020, tol=0.0001, verbose=0)"
      ]
     },
     "execution_count": 4,
     "metadata": {},
     "output_type": "execute_result"
    }
   ],
   "source": [
    "X = main_solar[['Longitude','Latitude']]\n",
    "\n",
    "km = KMeans(n_clusters=30,random_state=2020)\n",
    "km.fit(X)"
   ]
  },
  {
   "cell_type": "markdown",
   "metadata": {},
   "source": [
    "### Label plants with cluster number and assign a plotting color"
   ]
  },
  {
   "cell_type": "code",
   "execution_count": 5,
   "metadata": {},
   "outputs": [],
   "source": [
    "main_solar['cluster'] = km.labels_\n",
    "main_solar['color'] = main_solar['cluster'].map(lambda p: rgb_calc(0,29,p))"
   ]
  },
  {
   "cell_type": "markdown",
   "metadata": {},
   "source": [
    "<a id=\"clusters\"><a>\n",
    "\n",
    "### Visulize clusters"
   ]
  },
  {
   "cell_type": "code",
   "execution_count": 6,
   "metadata": {},
   "outputs": [
    {
     "data": {
      "image/png": "[encoded data removed]",
      "text/plain": [
       "<Figure size 720x504 with 1 Axes>"
      ]
     },
     "metadata": {
      "needs_background": "light"
     },
     "output_type": "display_data"
    }
   ],
   "source": [
    "fig, ax = plt.subplots(figsize=(10,7))\n",
    "ax.scatter(main_solar['Longitude'],main_solar['Latitude'],c=main_solar['color'],s=14)\n",
    "ax.plot(km.cluster_centers_[:,0],km.cluster_centers_[:,1],'k*',markersize=8)\n",
    "ax.set_aspect('equal')\n",
    "plt.title('Solar Plant Clusters',fontsize=20)\n",
    "plt.xlabel('Longitude',fontsize=16)\n",
    "plt.ylabel('Latitude',fontsize=16);"
   ]
  },
  {
   "cell_type": "markdown",
   "metadata": {},
   "source": [
    "#### Solar Plant Clusters\n",
    "- Each color denotes a new cluster\n",
    "- The black stars show the cluster centroids\n",
    "- Each centroid will be used to collect UV index data to predict solar output for the given cluster"
   ]
  },
  {
   "cell_type": "markdown",
   "metadata": {},
   "source": [
    "### Group solar plants by cluster and aggregate total capacity in MW"
   ]
  },
  {
   "cell_type": "code",
   "execution_count": 7,
   "metadata": {},
   "outputs": [
    {
     "name": "stdout",
     "output_type": "stream",
     "text": [
      "(30, 3)\n"
     ]
    },
    {
     "data": {
      "text/html": [
       "<div>\n",
       "<style scoped>\n",
       "    .dataframe tbody tr th:only-of-type {\n",
       "        vertical-align: middle;\n",
       "    }\n",
       "\n",
       "    .dataframe tbody tr th {\n",
       "        vertical-align: top;\n",
       "    }\n",
       "\n",
       "    .dataframe thead th {\n",
       "        text-align: right;\n",
       "    }\n",
       "</style>\n",
       "<table border=\"1\" class=\"dataframe\">\n",
       "  <thead>\n",
       "    <tr style=\"text-align: right;\">\n",
       "      <th></th>\n",
       "      <th>Longitude</th>\n",
       "      <th>Latitude</th>\n",
       "      <th>MW</th>\n",
       "    </tr>\n",
       "    <tr>\n",
       "      <th>cluster</th>\n",
       "      <th></th>\n",
       "      <th></th>\n",
       "      <th></th>\n",
       "    </tr>\n",
       "  </thead>\n",
       "  <tbody>\n",
       "    <tr>\n",
       "      <th>0</th>\n",
       "      <td>-120.266187</td>\n",
       "      <td>36.543670</td>\n",
       "      <td>766.100000</td>\n",
       "    </tr>\n",
       "    <tr>\n",
       "      <th>1</th>\n",
       "      <td>-117.213832</td>\n",
       "      <td>34.000467</td>\n",
       "      <td>103.090000</td>\n",
       "    </tr>\n",
       "    <tr>\n",
       "      <th>2</th>\n",
       "      <td>-115.612158</td>\n",
       "      <td>32.885355</td>\n",
       "      <td>1637.707195</td>\n",
       "    </tr>\n",
       "    <tr>\n",
       "      <th>3</th>\n",
       "      <td>-118.296688</td>\n",
       "      <td>34.748518</td>\n",
       "      <td>2308.260000</td>\n",
       "    </tr>\n",
       "    <tr>\n",
       "      <th>4</th>\n",
       "      <td>-121.304171</td>\n",
       "      <td>38.434039</td>\n",
       "      <td>155.110000</td>\n",
       "    </tr>\n",
       "  </tbody>\n",
       "</table>\n",
       "</div>"
      ],
      "text/plain": [
       "          Longitude   Latitude           MW\n",
       "cluster                                    \n",
       "0       -120.266187  36.543670   766.100000\n",
       "1       -117.213832  34.000467   103.090000\n",
       "2       -115.612158  32.885355  1637.707195\n",
       "3       -118.296688  34.748518  2308.260000\n",
       "4       -121.304171  38.434039   155.110000"
      ]
     },
     "execution_count": 7,
     "metadata": {},
     "output_type": "execute_result"
    }
   ],
   "source": [
    "solar_clusters = main_solar.groupby('cluster').sum()\n",
    "solar_clusters['Longitude'] = km.cluster_centers_[:,0]\n",
    "solar_clusters['Latitude'] = km.cluster_centers_[:,1]\n",
    "solar_clusters = solar_clusters[['Longitude','Latitude','MW']]\n",
    "print(solar_clusters.shape)\n",
    "solar_clusters.head()"
   ]
  },
  {
   "cell_type": "markdown",
   "metadata": {},
   "source": [
    "### Export data"
   ]
  },
  {
   "cell_type": "code",
   "execution_count": 8,
   "metadata": {},
   "outputs": [],
   "source": [
    "# solar_clusters.to_csv('../datasets/solar_clusters.csv',index=False)"
   ]
  }
 ],
 "metadata": {
  "kernelspec": {
   "display_name": "Python 3",
   "language": "python",
   "name": "python3"
  },
  "language_info": {
   "codemirror_mode": {
    "name": "ipython",
    "version": 3
   },
   "file_extension": ".py",
   "mimetype": "text/x-python",
   "name": "python",
   "nbconvert_exporter": "python",
   "pygments_lexer": "ipython3",
   "version": "3.7.6"
  }
 },
 "nbformat": 4,
 "nbformat_minor": 4
}
