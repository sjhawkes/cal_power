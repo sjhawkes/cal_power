{
 "cells": [
  {
   "cell_type": "code",
   "execution_count": 1,
   "metadata": {},
   "outputs": [],
   "source": [
    "import numpy as np\n",
    "import requests\n",
    "import pandas as pd\n",
    "import matplotlib.pyplot as plt"
   ]
  },
  {
   "cell_type": "markdown",
   "metadata": {},
   "source": [
    "### From Darksky"
   ]
  },
  {
   "cell_type": "code",
   "execution_count": 2,
   "metadata": {},
   "outputs": [],
   "source": [
    "from selenium import webdriver\n",
    "from webdriver_manager.chrome import ChromeDriverManager\n",
    "from selenium.webdriver.common.keys import Keys\n",
    "from selenium.webdriver import ActionChains\n",
    "import time\n",
    "import datetime"
   ]
  },
  {
   "cell_type": "markdown",
   "metadata": {},
   "source": [
    "### Find UV"
   ]
  },
  {
   "cell_type": "code",
   "execution_count": 31,
   "metadata": {},
   "outputs": [],
   "source": [
    "def get_wind(driver,lat,lon,dat,ticks):\n",
    "    driver.get(f'https://darksky.net/details/{lat},{lon}/{dat}/us12/en')\n",
    "    wind = []\n",
    "    for tick in ticks:\n",
    "        hour = driver.find_element_by_xpath(f'//span[{tick}]')\n",
    "        ActionChains(driver).move_to_element(hour).click(hour).perform()\n",
    "        nums = driver.find_elements_by_class_name('num')\n",
    "        try:\n",
    "            wind.append(int(nums[5].text))  # use 3 for wind, 5 for humidity\n",
    "        except:\n",
    "            if len(wind) >= 1:\n",
    "                wind.append(wind[-1])\n",
    "            else:\n",
    "                wind.append(50)\n",
    "    return wind"
   ]
  },
  {
   "cell_type": "code",
   "execution_count": 32,
   "metadata": {},
   "outputs": [],
   "source": [
    "ticks1 = [\n",
    "    '@class=\"even first\" and @style=\"left: 0px;\"',\n",
    "    '@class=\"odd second\" and @style=\"left: 33.3333px;\"',\n",
    "    '@class=\"even\" and @style=\"left: 66.6667px;\"',\n",
    "    '@class=\"odd\" and @style=\"left: 100px;\"',\n",
    "    '@class=\"even\" and @style=\"left: 133.333px;\"',\n",
    "    '@class=\"odd\" and @style=\"left: 166.667px;\"',\n",
    "    '@class=\"even\" and @style=\"left: 200px;\"',\n",
    "    '@class=\"odd\" and @style=\"left: 233.333px;\"',\n",
    "    '@class=\"even\" and @style=\"left: 266.667px;\"',\n",
    "    '@class=\"odd\" and @style=\"left: 300px;\"',\n",
    "    '@class=\"even\" and @style=\"left: 333.333px;\"',\n",
    "    '@class=\"odd\" and @style=\"left: 366.667px;\"',\n",
    "    '@class=\"even\" and @style=\"left: 400px;\"',\n",
    "    '@class=\"odd\" and @style=\"left: 433.333px;\"',\n",
    "    '@class=\"even\" and @style=\"left: 466.667px;\"',\n",
    "    '@class=\"odd\" and @style=\"left: 500px;\"',\n",
    "    '@class=\"even\" and @style=\"left: 533.333px;\"',\n",
    "    '@class=\"odd\" and @style=\"left: 566.667px;\"',\n",
    "    '@class=\"even\" and @style=\"left: 600px;\"',\n",
    "    '@class=\"odd\" and @style=\"left: 633.333px;\"',\n",
    "    '@class=\"even\" and @style=\"left: 666.667px;\"',\n",
    "    '@class=\"odd\" and @style=\"left: 700px;\"',\n",
    "    '@class=\"even\" and @style=\"left: 733.333px;\"',\n",
    "    '@class=\"odd\" and @style=\"left: 766.667px;\"',\n",
    "]"
   ]
  },
  {
   "cell_type": "code",
   "execution_count": 33,
   "metadata": {},
   "outputs": [],
   "source": [
    "ticks2 = [\n",
    "    '@class=\"even first\" and @style=\"left: 0px;\"',\n",
    "    '@class=\"odd second\" and @style=\"left: 34.7826px;\"',\n",
    "    '@class=\"even\" and @style=\"left: 69.5652px;\"',\n",
    "    '@class=\"odd\" and @style=\"left: 104.348px;\"',\n",
    "    '@class=\"even\" and @style=\"left: 139.13px;\"',\n",
    "    '@class=\"odd\" and @style=\"left: 173.913px;\"',\n",
    "    '@class=\"even\" and @style=\"left: 208.696px;\"',\n",
    "    '@class=\"odd\" and @style=\"left: 243.478px;\"',\n",
    "    '@class=\"even\" and @style=\"left: 278.261px;\"',\n",
    "    '@class=\"odd\" and @style=\"left: 313.043px;\"',\n",
    "    '@class=\"even\" and @style=\"left: 347.826px;\"',\n",
    "    '@class=\"odd\" and @style=\"left: 382.609px;\"',\n",
    "    '@class=\"even\" and @style=\"left: 417.391px;\"',\n",
    "    '@class=\"odd\" and @style=\"left: 452.174px;\"',\n",
    "    '@class=\"even\" and @style=\"left: 486.957px;\"',\n",
    "    '@class=\"odd\" and @style=\"left: 521.739px;\"',\n",
    "    '@class=\"even\" and @style=\"left: 556.522px;\"',\n",
    "    '@class=\"odd\" and @style=\"left: 591.304px;\"',\n",
    "    '@class=\"even\" and @style=\"left: 626.087px;\"',\n",
    "    '@class=\"odd\" and @style=\"left: 660.87px;\"',\n",
    "    '@class=\"even\" and @style=\"left: 695.652px;\"',\n",
    "    '@class=\"odd\" and @style=\"left: 730.435px;\"',\n",
    "    '@class=\"even\" and @style=\"left: 765.217px;\"',\n",
    "]"
   ]
  },
  {
   "cell_type": "markdown",
   "metadata": {},
   "source": [
    "### Get clustered solar plant weather data"
   ]
  },
  {
   "cell_type": "code",
   "execution_count": 34,
   "metadata": {},
   "outputs": [
    {
     "name": "stdout",
     "output_type": "stream",
     "text": [
      "(7, 3)\n"
     ]
    },
    {
     "data": {
      "text/html": [
       "<div>\n",
       "<style scoped>\n",
       "    .dataframe tbody tr th:only-of-type {\n",
       "        vertical-align: middle;\n",
       "    }\n",
       "\n",
       "    .dataframe tbody tr th {\n",
       "        vertical-align: top;\n",
       "    }\n",
       "\n",
       "    .dataframe thead th {\n",
       "        text-align: right;\n",
       "    }\n",
       "</style>\n",
       "<table border=\"1\" class=\"dataframe\">\n",
       "  <thead>\n",
       "    <tr style=\"text-align: right;\">\n",
       "      <th></th>\n",
       "      <th>Longitude</th>\n",
       "      <th>Latitude</th>\n",
       "      <th>MW</th>\n",
       "    </tr>\n",
       "  </thead>\n",
       "  <tbody>\n",
       "    <tr>\n",
       "      <th>0</th>\n",
       "      <td>-118.320799</td>\n",
       "      <td>35.062432</td>\n",
       "      <td>3526.14</td>\n",
       "    </tr>\n",
       "    <tr>\n",
       "      <th>1</th>\n",
       "      <td>-121.736003</td>\n",
       "      <td>37.920458</td>\n",
       "      <td>1657.66</td>\n",
       "    </tr>\n",
       "    <tr>\n",
       "      <th>2</th>\n",
       "      <td>-116.606149</td>\n",
       "      <td>33.918124</td>\n",
       "      <td>687.85</td>\n",
       "    </tr>\n",
       "    <tr>\n",
       "      <th>3</th>\n",
       "      <td>-112.935725</td>\n",
       "      <td>38.571090</td>\n",
       "      <td>304.00</td>\n",
       "    </tr>\n",
       "    <tr>\n",
       "      <th>4</th>\n",
       "      <td>-105.461670</td>\n",
       "      <td>34.651112</td>\n",
       "      <td>298.20</td>\n",
       "    </tr>\n",
       "  </tbody>\n",
       "</table>\n",
       "</div>"
      ],
      "text/plain": [
       "    Longitude   Latitude       MW\n",
       "0 -118.320799  35.062432  3526.14\n",
       "1 -121.736003  37.920458  1657.66\n",
       "2 -116.606149  33.918124   687.85\n",
       "3 -112.935725  38.571090   304.00\n",
       "4 -105.461670  34.651112   298.20"
      ]
     },
     "execution_count": 34,
     "metadata": {},
     "output_type": "execute_result"
    }
   ],
   "source": [
    "plants = pd.read_csv('datasets/wind_clusters.csv')\n",
    "print(plants.shape)\n",
    "plants.head()"
   ]
  },
  {
   "cell_type": "code",
   "execution_count": 47,
   "metadata": {},
   "outputs": [],
   "source": [
    "early_date = '10/15/2019'\n",
    "later_date = '04/14/2020'\n",
    "\n",
    "dates = pd.date_range(early_date, later_date).tolist()\n",
    "dates = [date.strftime(\"%Y-%m-%d\") for date in dates]"
   ]
  },
  {
   "cell_type": "code",
   "execution_count": 48,
   "metadata": {},
   "outputs": [
    {
     "name": "stderr",
     "output_type": "stream",
     "text": [
      "[WDM] - Cache is valid for [04/06/2020]\n",
      "[WDM] - Looking for [chromedriver 83.0.4103.39 mac64] driver in cache \n",
      "[WDM] - Driver found in cache [/Users/Sam/.wdm/drivers/chromedriver/83.0.4103.39/mac64/chromedriver]\n"
     ]
    },
    {
     "name": "stdout",
     "output_type": "stream",
     "text": [
      "2020-06-04 01:30:56\n",
      " \n",
      "2020-06-04 06:34:32\n",
      "t(s) = 18215.891836166382\n",
      "t(m) = 303.5981972694397\n"
     ]
    }
   ],
   "source": [
    "#### PRINT INITIAL TIME STAMP ######\n",
    "ts1 = time.time()\n",
    "st1 = datetime.datetime.fromtimestamp(ts1).strftime('%Y-%m-%d %H:%M:%S')\n",
    "print(st1)\n",
    "\n",
    "\n",
    "driver = webdriver.Chrome(ChromeDriverManager().install())\n",
    "\n",
    "df_list = []\n",
    "\n",
    "for i in range(plants.shape[0]):\n",
    "    pid = plants.index[i]\n",
    "    lat = plants['Latitude'][i]\n",
    "    lon = plants['Longitude'][i]\n",
    "    \n",
    "    wind_list = []\n",
    "    hr_list = []\n",
    "    \n",
    "    for date in dates:\n",
    "        try:\n",
    "            nu_wind = get_wind(driver,str(lat),str(lon),date,ticks1)\n",
    "            hours = pd.date_range(start=date+' 00:00:00',end=date+' 23:00:00', periods=24)\n",
    "            wind_list.extend(nu_wind)\n",
    "            hr_list.extend(hours)\n",
    "        except:\n",
    "            try:\n",
    "            \n",
    "                time.sleep(5)\n",
    "                nu_wind = get_wind(driver,str(lat),str(lon),date,ticks1)\n",
    "                hours = pd.date_range(start=date+' 00:00:00',end=date+' 23:00:00', periods=24)\n",
    "                wind_list.extend(nu_wind)\n",
    "                hr_list.extend(hours)\n",
    "            \n",
    "            except:\n",
    "            \n",
    "                time.sleep(5)\n",
    "                nu_wind = get_wind(driver,str(lat),str(lon),date,ticks2)\n",
    "                hours = pd.date_range(start=date+' 01:00:00',end=date+' 23:00:00', periods=23)\n",
    "                wind_list.extend(nu_wind)\n",
    "                hr_list.extend(hours)\n",
    "            \n",
    "    nu_df = pd.DataFrame({'date':hr_list,pid:wind_list})\n",
    "\n",
    "    if i == 0:\n",
    "        all_df = nu_df.copy()\n",
    "    else:\n",
    "        all_df = all_df.merge(nu_df,how='outer',on='date')\n",
    "\n",
    "##### PRINT FINAL TIME STAMP #######\n",
    "ts2 = time.time()\n",
    "st2 = datetime.datetime.fromtimestamp(ts2).strftime('%Y-%m-%d %H:%M:%S')\n",
    "print(st2)\n",
    "print('t(s) = ' + str(ts2-ts1))\n",
    "print('t(m) = ' + str((ts2-ts1)/60))"
   ]
  },
  {
   "cell_type": "code",
   "execution_count": 46,
   "metadata": {},
   "outputs": [
    {
     "data": {
      "text/plain": [
       "-46"
      ]
     },
     "execution_count": 46,
     "metadata": {},
     "output_type": "execute_result"
    }
   ],
   "source": [
    "len(hr_list)-len(wind_list)"
   ]
  },
  {
   "cell_type": "code",
   "execution_count": 49,
   "metadata": {},
   "outputs": [
    {
     "name": "stdout",
     "output_type": "stream",
     "text": [
      "(4391, 8)\n"
     ]
    },
    {
     "data": {
      "text/plain": [
       "[<matplotlib.lines.Line2D at 0x11b8ef310>]"
      ]
     },
     "execution_count": 49,
     "metadata": {},
     "output_type": "execute_result"
    },
    {
     "data": {
      "image/png": "[encoded data removed]",
      "text/plain": [
       "<Figure size 864x504 with 1 Axes>"
      ]
     },
     "metadata": {
      "needs_background": "light"
     },
     "output_type": "display_data"
    }
   ],
   "source": [
    "print(all_df.shape)\n",
    "plt.figure(figsize=(12,7))\n",
    "plt.plot(all_df['date'],all_df.sum(axis=1))"
   ]
  },
  {
   "cell_type": "markdown",
   "metadata": {},
   "source": [
    "### Combine plant capacity with wind speed"
   ]
  },
  {
   "cell_type": "code",
   "execution_count": 50,
   "metadata": {},
   "outputs": [],
   "source": [
    "all_df.to_csv('datasets/time_series/cluster_windspeed2.csv',index=False)"
   ]
  },
  {
   "cell_type": "code",
   "execution_count": 17,
   "metadata": {},
   "outputs": [
    {
     "data": {
      "text/html": [
       "<div>\n",
       "<style scoped>\n",
       "    .dataframe tbody tr th:only-of-type {\n",
       "        vertical-align: middle;\n",
       "    }\n",
       "\n",
       "    .dataframe tbody tr th {\n",
       "        vertical-align: top;\n",
       "    }\n",
       "\n",
       "    .dataframe thead th {\n",
       "        text-align: right;\n",
       "    }\n",
       "</style>\n",
       "<table border=\"1\" class=\"dataframe\">\n",
       "  <thead>\n",
       "    <tr style=\"text-align: right;\">\n",
       "      <th></th>\n",
       "      <th>date</th>\n",
       "      <th>0</th>\n",
       "      <th>1</th>\n",
       "      <th>2</th>\n",
       "      <th>3</th>\n",
       "      <th>4</th>\n",
       "      <th>5</th>\n",
       "      <th>6</th>\n",
       "    </tr>\n",
       "  </thead>\n",
       "  <tbody>\n",
       "    <tr>\n",
       "      <th>0</th>\n",
       "      <td>2020-03-15 00:00:00</td>\n",
       "      <td>8</td>\n",
       "      <td>7</td>\n",
       "      <td>11</td>\n",
       "      <td>14</td>\n",
       "      <td>7</td>\n",
       "      <td>5</td>\n",
       "      <td>14</td>\n",
       "    </tr>\n",
       "    <tr>\n",
       "      <th>1</th>\n",
       "      <td>2020-03-15 01:00:00</td>\n",
       "      <td>8</td>\n",
       "      <td>7</td>\n",
       "      <td>14</td>\n",
       "      <td>14</td>\n",
       "      <td>7</td>\n",
       "      <td>3</td>\n",
       "      <td>15</td>\n",
       "    </tr>\n",
       "    <tr>\n",
       "      <th>2</th>\n",
       "      <td>2020-03-15 02:00:00</td>\n",
       "      <td>7</td>\n",
       "      <td>7</td>\n",
       "      <td>13</td>\n",
       "      <td>14</td>\n",
       "      <td>6</td>\n",
       "      <td>3</td>\n",
       "      <td>15</td>\n",
       "    </tr>\n",
       "    <tr>\n",
       "      <th>3</th>\n",
       "      <td>2020-03-15 03:00:00</td>\n",
       "      <td>9</td>\n",
       "      <td>7</td>\n",
       "      <td>8</td>\n",
       "      <td>14</td>\n",
       "      <td>5</td>\n",
       "      <td>3</td>\n",
       "      <td>15</td>\n",
       "    </tr>\n",
       "    <tr>\n",
       "      <th>4</th>\n",
       "      <td>2020-03-15 04:00:00</td>\n",
       "      <td>6</td>\n",
       "      <td>8</td>\n",
       "      <td>15</td>\n",
       "      <td>14</td>\n",
       "      <td>5</td>\n",
       "      <td>3</td>\n",
       "      <td>15</td>\n",
       "    </tr>\n",
       "  </tbody>\n",
       "</table>\n",
       "</div>"
      ],
      "text/plain": [
       "                 date  0  1   2   3  4  5   6\n",
       "0 2020-03-15 00:00:00  8  7  11  14  7  5  14\n",
       "1 2020-03-15 01:00:00  8  7  14  14  7  3  15\n",
       "2 2020-03-15 02:00:00  7  7  13  14  6  3  15\n",
       "3 2020-03-15 03:00:00  9  7   8  14  5  3  15\n",
       "4 2020-03-15 04:00:00  6  8  15  14  5  3  15"
      ]
     },
     "execution_count": 17,
     "metadata": {},
     "output_type": "execute_result"
    }
   ],
   "source": [
    "all_df.head()"
   ]
  },
  {
   "cell_type": "code",
   "execution_count": 18,
   "metadata": {},
   "outputs": [],
   "source": [
    "wind_output = all_df.copy()\n",
    "\n",
    "for col in all_df.columns:\n",
    "    if col != 'date':\n",
    "        wind_output[col] = all_df[col]*plants['MW'][int(col)]"
   ]
  },
  {
   "cell_type": "code",
   "execution_count": 20,
   "metadata": {},
   "outputs": [],
   "source": [
    "wind_output.to_csv('datasets/time_series/wind_cluster.csv',index=False)"
   ]
  },
  {
   "cell_type": "code",
   "execution_count": null,
   "metadata": {},
   "outputs": [],
   "source": []
  },
  {
   "cell_type": "code",
   "execution_count": null,
   "metadata": {},
   "outputs": [],
   "source": []
  },
  {
   "cell_type": "code",
   "execution_count": null,
   "metadata": {},
   "outputs": [],
   "source": []
  },
  {
   "cell_type": "code",
   "execution_count": 108,
   "metadata": {},
   "outputs": [
    {
     "name": "stderr",
     "output_type": "stream",
     "text": [
      "[WDM] - Cache is valid for [03/06/2020]\n",
      "[WDM] - Looking for [chromedriver 83.0.4103.39 mac64] driver in cache \n",
      "[WDM] - Driver found in cache [/Users/Sam/.wdm/drivers/chromedriver/83.0.4103.39/mac64/chromedriver]\n"
     ]
    },
    {
     "name": "stdout",
     "output_type": "stream",
     "text": [
      " \n"
     ]
    },
    {
     "ename": "NameError",
     "evalue": "name 'ticks' is not defined",
     "output_type": "error",
     "traceback": [
      "\u001b[0;31m---------------------------------------------------------------------------\u001b[0m",
      "\u001b[0;31mNameError\u001b[0m                                 Traceback (most recent call last)",
      "\u001b[0;32m<ipython-input-108-92b00babb8ec>\u001b[0m in \u001b[0;36m<module>\u001b[0;34m\u001b[0m\n\u001b[1;32m      5\u001b[0m \u001b[0muv\u001b[0m \u001b[0;34m=\u001b[0m \u001b[0;34m[\u001b[0m\u001b[0;34m]\u001b[0m\u001b[0;34m\u001b[0m\u001b[0;34m\u001b[0m\u001b[0m\n\u001b[1;32m      6\u001b[0m \u001b[0;34m\u001b[0m\u001b[0m\n\u001b[0;32m----> 7\u001b[0;31m \u001b[0;32mfor\u001b[0m \u001b[0mtick\u001b[0m \u001b[0;32min\u001b[0m \u001b[0mticks\u001b[0m\u001b[0;34m:\u001b[0m\u001b[0;34m\u001b[0m\u001b[0;34m\u001b[0m\u001b[0m\n\u001b[0m\u001b[1;32m      8\u001b[0m     \u001b[0mhour\u001b[0m \u001b[0;34m=\u001b[0m \u001b[0mdriver\u001b[0m\u001b[0;34m.\u001b[0m\u001b[0mfind_element_by_xpath\u001b[0m\u001b[0;34m(\u001b[0m\u001b[0;34mf'//span[{tick}]'\u001b[0m\u001b[0;34m)\u001b[0m\u001b[0;34m\u001b[0m\u001b[0;34m\u001b[0m\u001b[0m\n\u001b[1;32m      9\u001b[0m     \u001b[0mActionChains\u001b[0m\u001b[0;34m(\u001b[0m\u001b[0mdriver\u001b[0m\u001b[0;34m)\u001b[0m\u001b[0;34m.\u001b[0m\u001b[0mmove_to_element\u001b[0m\u001b[0;34m(\u001b[0m\u001b[0mhour\u001b[0m\u001b[0;34m)\u001b[0m\u001b[0;34m.\u001b[0m\u001b[0mclick\u001b[0m\u001b[0;34m(\u001b[0m\u001b[0mhour\u001b[0m\u001b[0;34m)\u001b[0m\u001b[0;34m.\u001b[0m\u001b[0mperform\u001b[0m\u001b[0;34m(\u001b[0m\u001b[0;34m)\u001b[0m\u001b[0;34m\u001b[0m\u001b[0;34m\u001b[0m\u001b[0m\n",
      "\u001b[0;31mNameError\u001b[0m: name 'ticks' is not defined"
     ]
    }
   ],
   "source": [
    "driver = webdriver.Chrome(ChromeDriverManager().install())\n",
    "driver.get('https://darksky.net/details/35.5912,-115.427/2020-7-2/us12/en')\n",
    "\n",
    "wind = []\n",
    "uv = []\n",
    "\n",
    "for tick in ticks:\n",
    "    hour = driver.find_element_by_xpath(f'//span[{tick}]')\n",
    "    ActionChains(driver).move_to_element(hour).click(hour).perform()\n",
    "    nums = driver.find_elements_by_class_name('num')\n",
    "    try:\n",
    "        wind.append(int(nums[3].text))\n",
    "    except:\n",
    "        wind.append(0)"
   ]
  },
  {
   "cell_type": "code",
   "execution_count": 5,
   "metadata": {},
   "outputs": [
    {
     "data": {
      "text/plain": [
       "[<matplotlib.lines.Line2D at 0x114142c10>]"
      ]
     },
     "execution_count": 5,
     "metadata": {},
     "output_type": "execute_result"
    },
    {
     "data": {
      "image/png": "[encoded data removed]",
      "text/plain": [
       "<Figure size 432x288 with 1 Axes>"
      ]
     },
     "metadata": {
      "needs_background": "light"
     },
     "output_type": "display_data"
    }
   ],
   "source": [
    "plt.plot(wind)"
   ]
  },
  {
   "cell_type": "code",
   "execution_count": 6,
   "metadata": {},
   "outputs": [
    {
     "data": {
      "text/plain": [
       "[<matplotlib.lines.Line2D at 0x11436a950>]"
      ]
     },
     "execution_count": 6,
     "metadata": {},
     "output_type": "execute_result"
    },
    {
     "data": {
      "image/png": "[encoded data removed]",
      "text/plain": [
       "<Figure size 432x288 with 1 Axes>"
      ]
     },
     "metadata": {
      "needs_background": "light"
     },
     "output_type": "display_data"
    }
   ],
   "source": [
    "plt.plot(uv)"
   ]
  },
  {
   "cell_type": "code",
   "execution_count": 7,
   "metadata": {},
   "outputs": [
    {
     "data": {
      "text/plain": [
       "24"
      ]
     },
     "execution_count": 7,
     "metadata": {},
     "output_type": "execute_result"
    }
   ],
   "source": [
    "len(uv)"
   ]
  },
  {
   "cell_type": "code",
   "execution_count": 57,
   "metadata": {},
   "outputs": [
    {
     "data": {
      "text/plain": [
       "0.8578307578326047"
      ]
     },
     "execution_count": 57,
     "metadata": {},
     "output_type": "execute_result"
    }
   ],
   "source": [
    "solar[solar['MW']>=20]['MW'].sum()/solar['MW'].sum()"
   ]
  },
  {
   "cell_type": "code",
   "execution_count": null,
   "metadata": {},
   "outputs": [],
   "source": []
  }
 ],
 "metadata": {
  "kernelspec": {
   "display_name": "Python 3",
   "language": "python",
   "name": "python3"
  },
  "language_info": {
   "codemirror_mode": {
    "name": "ipython",
    "version": 3
   },
   "file_extension": ".py",
   "mimetype": "text/x-python",
   "name": "python",
   "nbconvert_exporter": "python",
   "pygments_lexer": "ipython3",
   "version": "3.7.6"
  }
 },
 "nbformat": 4,
 "nbformat_minor": 4
}
