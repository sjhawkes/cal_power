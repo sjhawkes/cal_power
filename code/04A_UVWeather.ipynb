{
 "cells": [
  {
   "cell_type": "code",
   "execution_count": 1,
   "metadata": {},
   "outputs": [],
   "source": [
    "import numpy as np\n",
    "import requests\n",
    "import pandas as pd\n",
    "import matplotlib.pyplot as plt"
   ]
  },
  {
   "cell_type": "markdown",
   "metadata": {},
   "source": [
    "### From Darksky"
   ]
  },
  {
   "cell_type": "code",
   "execution_count": 2,
   "metadata": {},
   "outputs": [],
   "source": [
    "from selenium import webdriver\n",
    "from webdriver_manager.chrome import ChromeDriverManager\n",
    "from selenium.webdriver.common.keys import Keys\n",
    "from selenium.webdriver import ActionChains\n",
    "import time\n",
    "import datetime"
   ]
  },
  {
   "cell_type": "markdown",
   "metadata": {},
   "source": [
    "### Find UV"
   ]
  },
  {
   "cell_type": "code",
   "execution_count": 3,
   "metadata": {},
   "outputs": [],
   "source": [
    "def get_uv(driver,lat,lon,dat,ticks):\n",
    "    driver.get(f'https://darksky.net/details/{lat},{lon}/{dat}/us12/en')\n",
    "    uv = []\n",
    "    for tick in ticks:\n",
    "        hour = driver.find_element_by_xpath(f'//span[{tick}]')\n",
    "        ActionChains(driver).move_to_element(hour).click(hour).perform()\n",
    "        nums = driver.find_elements_by_class_name('num')\n",
    "        try:\n",
    "            uv.append(int(nums[7].text))\n",
    "        except:\n",
    "            uv.append(0)\n",
    "    return uv"
   ]
  },
  {
   "cell_type": "code",
   "execution_count": 4,
   "metadata": {},
   "outputs": [],
   "source": [
    "ticks1 = [\n",
    "    '@class=\"even first\" and @style=\"left: 0px;\"',\n",
    "    '@class=\"odd second\" and @style=\"left: 33.3333px;\"',\n",
    "    '@class=\"even\" and @style=\"left: 66.6667px;\"',\n",
    "    '@class=\"odd\" and @style=\"left: 100px;\"',\n",
    "    '@class=\"even\" and @style=\"left: 133.333px;\"',\n",
    "    '@class=\"odd\" and @style=\"left: 166.667px;\"',\n",
    "    '@class=\"even\" and @style=\"left: 200px;\"',\n",
    "    '@class=\"odd\" and @style=\"left: 233.333px;\"',\n",
    "    '@class=\"even\" and @style=\"left: 266.667px;\"',\n",
    "    '@class=\"odd\" and @style=\"left: 300px;\"',\n",
    "    '@class=\"even\" and @style=\"left: 333.333px;\"',\n",
    "    '@class=\"odd\" and @style=\"left: 366.667px;\"',\n",
    "    '@class=\"even\" and @style=\"left: 400px;\"',\n",
    "    '@class=\"odd\" and @style=\"left: 433.333px;\"',\n",
    "    '@class=\"even\" and @style=\"left: 466.667px;\"',\n",
    "    '@class=\"odd\" and @style=\"left: 500px;\"',\n",
    "    '@class=\"even\" and @style=\"left: 533.333px;\"',\n",
    "    '@class=\"odd\" and @style=\"left: 566.667px;\"',\n",
    "    '@class=\"even\" and @style=\"left: 600px;\"',\n",
    "    '@class=\"odd\" and @style=\"left: 633.333px;\"',\n",
    "    '@class=\"even\" and @style=\"left: 666.667px;\"',\n",
    "    '@class=\"odd\" and @style=\"left: 700px;\"',\n",
    "    '@class=\"even\" and @style=\"left: 733.333px;\"',\n",
    "    '@class=\"odd\" and @style=\"left: 766.667px;\"',\n",
    "]"
   ]
  },
  {
   "cell_type": "code",
   "execution_count": 5,
   "metadata": {},
   "outputs": [],
   "source": [
    "ticks2 = [\n",
    "    '@class=\"even first\" and @style=\"left: 0px;\"',\n",
    "    '@class=\"odd second\" and @style=\"left: 34.7826px;\"',\n",
    "    '@class=\"even\" and @style=\"left: 69.5652px;\"',\n",
    "    '@class=\"odd\" and @style=\"left: 104.348px;\"',\n",
    "    '@class=\"even\" and @style=\"left: 139.13px;\"',\n",
    "    '@class=\"odd\" and @style=\"left: 173.913px;\"',\n",
    "    '@class=\"even\" and @style=\"left: 208.696px;\"',\n",
    "    '@class=\"odd\" and @style=\"left: 243.478px;\"',\n",
    "    '@class=\"even\" and @style=\"left: 278.261px;\"',\n",
    "    '@class=\"odd\" and @style=\"left: 313.043px;\"',\n",
    "    '@class=\"even\" and @style=\"left: 347.826px;\"',\n",
    "    '@class=\"odd\" and @style=\"left: 382.609px;\"',\n",
    "    '@class=\"even\" and @style=\"left: 417.391px;\"',\n",
    "    '@class=\"odd\" and @style=\"left: 452.174px;\"',\n",
    "    '@class=\"even\" and @style=\"left: 486.957px;\"',\n",
    "    '@class=\"odd\" and @style=\"left: 521.739px;\"',\n",
    "    '@class=\"even\" and @style=\"left: 556.522px;\"',\n",
    "    '@class=\"odd\" and @style=\"left: 591.304px;\"',\n",
    "    '@class=\"even\" and @style=\"left: 626.087px;\"',\n",
    "    '@class=\"odd\" and @style=\"left: 660.87px;\"',\n",
    "    '@class=\"even\" and @style=\"left: 695.652px;\"',\n",
    "    '@class=\"odd\" and @style=\"left: 730.435px;\"',\n",
    "    '@class=\"even\" and @style=\"left: 765.217px;\"',\n",
    "]"
   ]
  },
  {
   "cell_type": "markdown",
   "metadata": {},
   "source": [
    "### Get clustered solar plant weather data"
   ]
  },
  {
   "cell_type": "code",
   "execution_count": 7,
   "metadata": {},
   "outputs": [
    {
     "name": "stdout",
     "output_type": "stream",
     "text": [
      "(30, 3)\n"
     ]
    },
    {
     "data": {
      "text/html": [
       "<div>\n",
       "<style scoped>\n",
       "    .dataframe tbody tr th:only-of-type {\n",
       "        vertical-align: middle;\n",
       "    }\n",
       "\n",
       "    .dataframe tbody tr th {\n",
       "        vertical-align: top;\n",
       "    }\n",
       "\n",
       "    .dataframe thead th {\n",
       "        text-align: right;\n",
       "    }\n",
       "</style>\n",
       "<table border=\"1\" class=\"dataframe\">\n",
       "  <thead>\n",
       "    <tr style=\"text-align: right;\">\n",
       "      <th></th>\n",
       "      <th>Longitude</th>\n",
       "      <th>Latitude</th>\n",
       "      <th>MW</th>\n",
       "    </tr>\n",
       "  </thead>\n",
       "  <tbody>\n",
       "    <tr>\n",
       "      <th>0</th>\n",
       "      <td>-120.266187</td>\n",
       "      <td>36.543670</td>\n",
       "      <td>766.100000</td>\n",
       "    </tr>\n",
       "    <tr>\n",
       "      <th>1</th>\n",
       "      <td>-117.213832</td>\n",
       "      <td>34.000467</td>\n",
       "      <td>103.090000</td>\n",
       "    </tr>\n",
       "    <tr>\n",
       "      <th>2</th>\n",
       "      <td>-115.612158</td>\n",
       "      <td>32.885355</td>\n",
       "      <td>1637.707195</td>\n",
       "    </tr>\n",
       "    <tr>\n",
       "      <th>3</th>\n",
       "      <td>-118.296688</td>\n",
       "      <td>34.748518</td>\n",
       "      <td>2308.260000</td>\n",
       "    </tr>\n",
       "    <tr>\n",
       "      <th>4</th>\n",
       "      <td>-121.304171</td>\n",
       "      <td>38.434039</td>\n",
       "      <td>155.110000</td>\n",
       "    </tr>\n",
       "  </tbody>\n",
       "</table>\n",
       "</div>"
      ],
      "text/plain": [
       "    Longitude   Latitude           MW\n",
       "0 -120.266187  36.543670   766.100000\n",
       "1 -117.213832  34.000467   103.090000\n",
       "2 -115.612158  32.885355  1637.707195\n",
       "3 -118.296688  34.748518  2308.260000\n",
       "4 -121.304171  38.434039   155.110000"
      ]
     },
     "execution_count": 7,
     "metadata": {},
     "output_type": "execute_result"
    }
   ],
   "source": [
    "plants = pd.read_csv('datasets/solar_clusters.csv')\n",
    "print(plants.shape)\n",
    "plants.head()"
   ]
  },
  {
   "cell_type": "code",
   "execution_count": 8,
   "metadata": {},
   "outputs": [],
   "source": [
    "early_date = '04/16/2020'\n",
    "later_date = '05/21/2020'\n",
    "\n",
    "dates = pd.date_range(early_date, later_date).tolist()\n",
    "dates = [date.strftime(\"%Y-%m-%d\") for date in dates]"
   ]
  },
  {
   "cell_type": "code",
   "execution_count": 9,
   "metadata": {},
   "outputs": [
    {
     "name": "stderr",
     "output_type": "stream",
     "text": [
      "[WDM] - Cache is valid for [03/06/2020]\n",
      "[WDM] - Looking for [chromedriver 83.0.4103.39 mac64] driver in cache \n",
      "[WDM] - Driver found in cache [/Users/Sam/.wdm/drivers/chromedriver/83.0.4103.39/mac64/chromedriver]\n"
     ]
    },
    {
     "name": "stdout",
     "output_type": "stream",
     "text": [
      "2020-06-03 15:43:01\n",
      " \n",
      "2020-06-03 19:57:32\n",
      "t(s) = 15271.277666091919\n",
      "t(m) = 254.52129443486533\n"
     ]
    }
   ],
   "source": [
    "#### PRINT INITIAL TIME STAMP ######\n",
    "ts1 = time.time()\n",
    "st1 = datetime.datetime.fromtimestamp(ts1).strftime('%Y-%m-%d %H:%M:%S')\n",
    "print(st1)\n",
    "\n",
    "\n",
    "driver = webdriver.Chrome(ChromeDriverManager().install())\n",
    "\n",
    "df_list = []\n",
    "\n",
    "for i in range(plants.shape[0]):\n",
    "    pid = plants.index[i]\n",
    "    lat = plants['Latitude'][i]\n",
    "    lon = plants['Longitude'][i]\n",
    "    \n",
    "    uv_list = []\n",
    "    hr_list = []\n",
    "    \n",
    "    for date in dates:\n",
    "        try:\n",
    "            nu_uv = get_uv(driver,str(lat),str(lon),date,ticks1)\n",
    "            hours = pd.date_range(start=date+' 00:00:00',end=date+' 23:00:00', periods=24)\n",
    "            uv_list.extend(nu_uv)\n",
    "            hr_list.extend(hours)\n",
    "        except:\n",
    "            try:\n",
    "            \n",
    "                time.sleep(5)\n",
    "                nu_uv = get_uv(driver,str(lat),str(lon),date,ticks1)\n",
    "                hours = pd.date_range(start=date+' 00:00:00',end=date+' 23:00:00', periods=24)\n",
    "                uv_list.extend(nu_uv)\n",
    "                hr_list.extend(hours)\n",
    "            \n",
    "            except:\n",
    "            \n",
    "                time.sleep(5)\n",
    "                nu_uv = get_uv(driver,str(lat),str(lon),date,ticks2)\n",
    "                hours = pd.date_range(start=date+' 01:00:00',end=date+' 23:00:00', periods=23)\n",
    "                uv_list.extend(nu_uv)\n",
    "                hr_list.extend(hours)\n",
    "            \n",
    "    nu_df = pd.DataFrame({'date':hr_list,pid:uv_list})\n",
    "\n",
    "    if i == 0:\n",
    "        all_df = nu_df.copy()\n",
    "    else:\n",
    "        all_df = all_df.merge(nu_df,how='outer',on='date')\n",
    "\n",
    "##### PRINT FINAL TIME STAMP #######\n",
    "ts2 = time.time()\n",
    "st2 = datetime.datetime.fromtimestamp(ts2).strftime('%Y-%m-%d %H:%M:%S')\n",
    "print(st2)\n",
    "print('t(s) = ' + str(ts2-ts1))\n",
    "print('t(m) = ' + str((ts2-ts1)/60))"
   ]
  },
  {
   "cell_type": "code",
   "execution_count": 10,
   "metadata": {},
   "outputs": [
    {
     "name": "stdout",
     "output_type": "stream",
     "text": [
      "(864, 31)\n"
     ]
    },
    {
     "data": {
      "text/plain": [
       "[<matplotlib.lines.Line2D at 0x119f3c050>]"
      ]
     },
     "execution_count": 10,
     "metadata": {},
     "output_type": "execute_result"
    },
    {
     "data": {
      "image/png": "[encoded data removed]",
      "text/plain": [
       "<Figure size 864x504 with 1 Axes>"
      ]
     },
     "metadata": {
      "needs_background": "light"
     },
     "output_type": "display_data"
    }
   ],
   "source": [
    "print(all_df.shape)\n",
    "plt.figure(figsize=(12,7))\n",
    "plt.plot(all_df['date'],all_df.sum(axis=1))"
   ]
  },
  {
   "cell_type": "markdown",
   "metadata": {},
   "source": [
    "### Combine plant capacity with UV index"
   ]
  },
  {
   "cell_type": "code",
   "execution_count": 16,
   "metadata": {},
   "outputs": [
    {
     "data": {
      "text/html": [
       "<div>\n",
       "<style scoped>\n",
       "    .dataframe tbody tr th:only-of-type {\n",
       "        vertical-align: middle;\n",
       "    }\n",
       "\n",
       "    .dataframe tbody tr th {\n",
       "        vertical-align: top;\n",
       "    }\n",
       "\n",
       "    .dataframe thead th {\n",
       "        text-align: right;\n",
       "    }\n",
       "</style>\n",
       "<table border=\"1\" class=\"dataframe\">\n",
       "  <thead>\n",
       "    <tr style=\"text-align: right;\">\n",
       "      <th></th>\n",
       "      <th>date</th>\n",
       "      <th>0</th>\n",
       "      <th>1</th>\n",
       "      <th>2</th>\n",
       "      <th>3</th>\n",
       "      <th>4</th>\n",
       "      <th>5</th>\n",
       "      <th>6</th>\n",
       "      <th>7</th>\n",
       "      <th>8</th>\n",
       "      <th>...</th>\n",
       "      <th>20</th>\n",
       "      <th>21</th>\n",
       "      <th>22</th>\n",
       "      <th>23</th>\n",
       "      <th>24</th>\n",
       "      <th>25</th>\n",
       "      <th>26</th>\n",
       "      <th>27</th>\n",
       "      <th>28</th>\n",
       "      <th>29</th>\n",
       "    </tr>\n",
       "  </thead>\n",
       "  <tbody>\n",
       "    <tr>\n",
       "      <th>0</th>\n",
       "      <td>2020-04-16 00:00:00</td>\n",
       "      <td>0</td>\n",
       "      <td>0</td>\n",
       "      <td>0</td>\n",
       "      <td>0</td>\n",
       "      <td>0</td>\n",
       "      <td>0</td>\n",
       "      <td>0</td>\n",
       "      <td>0</td>\n",
       "      <td>0</td>\n",
       "      <td>...</td>\n",
       "      <td>0</td>\n",
       "      <td>0</td>\n",
       "      <td>0</td>\n",
       "      <td>0</td>\n",
       "      <td>0</td>\n",
       "      <td>0</td>\n",
       "      <td>0</td>\n",
       "      <td>0</td>\n",
       "      <td>0</td>\n",
       "      <td>0</td>\n",
       "    </tr>\n",
       "    <tr>\n",
       "      <th>1</th>\n",
       "      <td>2020-04-16 01:00:00</td>\n",
       "      <td>0</td>\n",
       "      <td>0</td>\n",
       "      <td>0</td>\n",
       "      <td>0</td>\n",
       "      <td>0</td>\n",
       "      <td>0</td>\n",
       "      <td>0</td>\n",
       "      <td>0</td>\n",
       "      <td>0</td>\n",
       "      <td>...</td>\n",
       "      <td>0</td>\n",
       "      <td>0</td>\n",
       "      <td>0</td>\n",
       "      <td>0</td>\n",
       "      <td>0</td>\n",
       "      <td>0</td>\n",
       "      <td>0</td>\n",
       "      <td>0</td>\n",
       "      <td>0</td>\n",
       "      <td>0</td>\n",
       "    </tr>\n",
       "    <tr>\n",
       "      <th>2</th>\n",
       "      <td>2020-04-16 02:00:00</td>\n",
       "      <td>0</td>\n",
       "      <td>0</td>\n",
       "      <td>0</td>\n",
       "      <td>0</td>\n",
       "      <td>0</td>\n",
       "      <td>0</td>\n",
       "      <td>0</td>\n",
       "      <td>0</td>\n",
       "      <td>0</td>\n",
       "      <td>...</td>\n",
       "      <td>0</td>\n",
       "      <td>0</td>\n",
       "      <td>0</td>\n",
       "      <td>0</td>\n",
       "      <td>0</td>\n",
       "      <td>0</td>\n",
       "      <td>0</td>\n",
       "      <td>0</td>\n",
       "      <td>0</td>\n",
       "      <td>0</td>\n",
       "    </tr>\n",
       "    <tr>\n",
       "      <th>3</th>\n",
       "      <td>2020-04-16 03:00:00</td>\n",
       "      <td>0</td>\n",
       "      <td>0</td>\n",
       "      <td>0</td>\n",
       "      <td>0</td>\n",
       "      <td>0</td>\n",
       "      <td>0</td>\n",
       "      <td>0</td>\n",
       "      <td>0</td>\n",
       "      <td>0</td>\n",
       "      <td>...</td>\n",
       "      <td>0</td>\n",
       "      <td>0</td>\n",
       "      <td>0</td>\n",
       "      <td>0</td>\n",
       "      <td>0</td>\n",
       "      <td>0</td>\n",
       "      <td>0</td>\n",
       "      <td>0</td>\n",
       "      <td>0</td>\n",
       "      <td>0</td>\n",
       "    </tr>\n",
       "    <tr>\n",
       "      <th>4</th>\n",
       "      <td>2020-04-16 04:00:00</td>\n",
       "      <td>0</td>\n",
       "      <td>0</td>\n",
       "      <td>0</td>\n",
       "      <td>0</td>\n",
       "      <td>0</td>\n",
       "      <td>0</td>\n",
       "      <td>0</td>\n",
       "      <td>0</td>\n",
       "      <td>0</td>\n",
       "      <td>...</td>\n",
       "      <td>0</td>\n",
       "      <td>0</td>\n",
       "      <td>0</td>\n",
       "      <td>0</td>\n",
       "      <td>0</td>\n",
       "      <td>0</td>\n",
       "      <td>0</td>\n",
       "      <td>0</td>\n",
       "      <td>0</td>\n",
       "      <td>0</td>\n",
       "    </tr>\n",
       "  </tbody>\n",
       "</table>\n",
       "<p>5 rows × 31 columns</p>\n",
       "</div>"
      ],
      "text/plain": [
       "                 date  0  1  2  3  4  5  6  7  8  ...  20  21  22  23  24  25  \\\n",
       "0 2020-04-16 00:00:00  0  0  0  0  0  0  0  0  0  ...   0   0   0   0   0   0   \n",
       "1 2020-04-16 01:00:00  0  0  0  0  0  0  0  0  0  ...   0   0   0   0   0   0   \n",
       "2 2020-04-16 02:00:00  0  0  0  0  0  0  0  0  0  ...   0   0   0   0   0   0   \n",
       "3 2020-04-16 03:00:00  0  0  0  0  0  0  0  0  0  ...   0   0   0   0   0   0   \n",
       "4 2020-04-16 04:00:00  0  0  0  0  0  0  0  0  0  ...   0   0   0   0   0   0   \n",
       "\n",
       "   26  27  28  29  \n",
       "0   0   0   0   0  \n",
       "1   0   0   0   0  \n",
       "2   0   0   0   0  \n",
       "3   0   0   0   0  \n",
       "4   0   0   0   0  \n",
       "\n",
       "[5 rows x 31 columns]"
      ]
     },
     "execution_count": 16,
     "metadata": {},
     "output_type": "execute_result"
    }
   ],
   "source": [
    "all_df.head()"
   ]
  },
  {
   "cell_type": "code",
   "execution_count": 18,
   "metadata": {},
   "outputs": [],
   "source": [
    "all_df.to_csv('datasets/time_series/uv_cluster2.csv',index=False)"
   ]
  },
  {
   "cell_type": "code",
   "execution_count": 11,
   "metadata": {},
   "outputs": [],
   "source": [
    "uv_output = all_df.copy()\n",
    "\n",
    "for col in all_df.columns:\n",
    "    if col != 'date':\n",
    "        uv_output[col] = all_df[col]*plants['MW'][int(col)]"
   ]
  },
  {
   "cell_type": "code",
   "execution_count": 12,
   "metadata": {},
   "outputs": [],
   "source": [
    "uv_output.to_csv('datasets/time_series/solar_cluster2.csv',index=False)"
   ]
  }
 ],
 "metadata": {
  "kernelspec": {
   "display_name": "Python 3",
   "language": "python",
   "name": "python3"
  },
  "language_info": {
   "codemirror_mode": {
    "name": "ipython",
    "version": 3
   },
   "file_extension": ".py",
   "mimetype": "text/x-python",
   "name": "python",
   "nbconvert_exporter": "python",
   "pygments_lexer": "ipython3",
   "version": "3.7.6"
  }
 },
 "nbformat": 4,
 "nbformat_minor": 4
}
