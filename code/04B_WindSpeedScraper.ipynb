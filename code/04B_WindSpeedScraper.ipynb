{
 "cells": [
  {
   "cell_type": "markdown",
   "metadata": {},
   "source": [
    "# Windspeed Scraper for Wind Production Forecasting\n",
    "This code is used to collect time-series windspeed data from the weather site Darksky.net for predicting wind farm power production. Historical weather data pages are accessed with latitude-longitude coordinates and dates of interest and contain time series graphs of weather parameters. The get_wsp function uses selenium to automate clicking along the slider bar, collecting windspeed values at hourly increments.\n",
    "\n",
    "To collect new data you will need to do the following steps:\n",
    "1. <a href='#date_range'>Set the date range you want new data over</a>\n",
    "3. <a href='#download_data'>Download data</a>\n",
    "4. <a href='#save_data'>Save the data</a>\n",
    "\n",
    "**CAUTION:** the get_wsp function automates a clicking sequence, so all mouse activity should be halted while the script is running. It also quite slow, so it is best run overnight if collecting more than a few days of data. "
   ]
  },
  {
   "cell_type": "markdown",
   "metadata": {},
   "source": [
    "### Imports"
   ]
  },
  {
   "cell_type": "code",
   "execution_count": 40,
   "metadata": {},
   "outputs": [],
   "source": [
    "import numpy as np\n",
    "import pandas as pd\n",
    "import matplotlib.pyplot as plt\n",
    "\n",
    "import requests\n",
    "from selenium import webdriver\n",
    "from webdriver_manager.chrome import ChromeDriverManager\n",
    "from selenium.webdriver.common.keys import Keys\n",
    "from selenium.webdriver import ActionChains\n",
    "\n",
    "import time\n",
    "import datetime"
   ]
  },
  {
   "cell_type": "markdown",
   "metadata": {},
   "source": [
    "#### Darksky Scraper Function"
   ]
  },
  {
   "cell_type": "code",
   "execution_count": 41,
   "metadata": {},
   "outputs": [],
   "source": [
    "def get_wsp(driver,lat,lon,dat,ticks):\n",
    "    driver.get(f'https://darksky.net/details/{lat},{lon}/{dat}/us12/en')\n",
    "    wind = []\n",
    "    for tick in ticks:\n",
    "        hour = driver.find_element_by_xpath(f'//span[{tick}]')\n",
    "        ActionChains(driver).move_to_element(hour).click(hour).perform()\n",
    "        nums = driver.find_elements_by_class_name('num')\n",
    "        try:\n",
    "            wind.append(int(nums[3].text))  # use 3 for wind, 5 for humidity\n",
    "        except:\n",
    "            if len(wind) >= 1:\n",
    "                wind.append(wind[-1])\n",
    "            else:\n",
    "                wind.append(0)\n",
    "    return wind"
   ]
  },
  {
   "cell_type": "markdown",
   "metadata": {},
   "source": [
    "#### HTML grid features to click on"
   ]
  },
  {
   "cell_type": "code",
   "execution_count": 42,
   "metadata": {},
   "outputs": [],
   "source": [
    "ticks1 = [\n",
    "    '@class=\"even first\" and @style=\"left: 0px;\"',\n",
    "    '@class=\"odd second\" and @style=\"left: 33.3333px;\"',\n",
    "    '@class=\"even\" and @style=\"left: 66.6667px;\"',\n",
    "    '@class=\"odd\" and @style=\"left: 100px;\"',\n",
    "    '@class=\"even\" and @style=\"left: 133.333px;\"',\n",
    "    '@class=\"odd\" and @style=\"left: 166.667px;\"',\n",
    "    '@class=\"even\" and @style=\"left: 200px;\"',\n",
    "    '@class=\"odd\" and @style=\"left: 233.333px;\"',\n",
    "    '@class=\"even\" and @style=\"left: 266.667px;\"',\n",
    "    '@class=\"odd\" and @style=\"left: 300px;\"',\n",
    "    '@class=\"even\" and @style=\"left: 333.333px;\"',\n",
    "    '@class=\"odd\" and @style=\"left: 366.667px;\"',\n",
    "    '@class=\"even\" and @style=\"left: 400px;\"',\n",
    "    '@class=\"odd\" and @style=\"left: 433.333px;\"',\n",
    "    '@class=\"even\" and @style=\"left: 466.667px;\"',\n",
    "    '@class=\"odd\" and @style=\"left: 500px;\"',\n",
    "    '@class=\"even\" and @style=\"left: 533.333px;\"',\n",
    "    '@class=\"odd\" and @style=\"left: 566.667px;\"',\n",
    "    '@class=\"even\" and @style=\"left: 600px;\"',\n",
    "    '@class=\"odd\" and @style=\"left: 633.333px;\"',\n",
    "    '@class=\"even\" and @style=\"left: 666.667px;\"',\n",
    "    '@class=\"odd\" and @style=\"left: 700px;\"',\n",
    "    '@class=\"even\" and @style=\"left: 733.333px;\"',\n",
    "    '@class=\"odd\" and @style=\"left: 766.667px;\"',\n",
    "]\n",
    "\n",
    "ticks2 = [\n",
    "    '@class=\"even first\" and @style=\"left: 0px;\"',\n",
    "    '@class=\"odd second\" and @style=\"left: 34.7826px;\"',\n",
    "    '@class=\"even\" and @style=\"left: 69.5652px;\"',\n",
    "    '@class=\"odd\" and @style=\"left: 104.348px;\"',\n",
    "    '@class=\"even\" and @style=\"left: 139.13px;\"',\n",
    "    '@class=\"odd\" and @style=\"left: 173.913px;\"',\n",
    "    '@class=\"even\" and @style=\"left: 208.696px;\"',\n",
    "    '@class=\"odd\" and @style=\"left: 243.478px;\"',\n",
    "    '@class=\"even\" and @style=\"left: 278.261px;\"',\n",
    "    '@class=\"odd\" and @style=\"left: 313.043px;\"',\n",
    "    '@class=\"even\" and @style=\"left: 347.826px;\"',\n",
    "    '@class=\"odd\" and @style=\"left: 382.609px;\"',\n",
    "    '@class=\"even\" and @style=\"left: 417.391px;\"',\n",
    "    '@class=\"odd\" and @style=\"left: 452.174px;\"',\n",
    "    '@class=\"even\" and @style=\"left: 486.957px;\"',\n",
    "    '@class=\"odd\" and @style=\"left: 521.739px;\"',\n",
    "    '@class=\"even\" and @style=\"left: 556.522px;\"',\n",
    "    '@class=\"odd\" and @style=\"left: 591.304px;\"',\n",
    "    '@class=\"even\" and @style=\"left: 626.087px;\"',\n",
    "    '@class=\"odd\" and @style=\"left: 660.87px;\"',\n",
    "    '@class=\"even\" and @style=\"left: 695.652px;\"',\n",
    "    '@class=\"odd\" and @style=\"left: 730.435px;\"',\n",
    "    '@class=\"even\" and @style=\"left: 765.217px;\"',\n",
    "]"
   ]
  },
  {
   "cell_type": "markdown",
   "metadata": {},
   "source": [
    "### Read in wind farm cluster locations"
   ]
  },
  {
   "cell_type": "code",
   "execution_count": 43,
   "metadata": {},
   "outputs": [
    {
     "name": "stdout",
     "output_type": "stream",
     "text": [
      "(7, 3)\n"
     ]
    },
    {
     "data": {
      "text/html": [
       "<div>\n",
       "<style scoped>\n",
       "    .dataframe tbody tr th:only-of-type {\n",
       "        vertical-align: middle;\n",
       "    }\n",
       "\n",
       "    .dataframe tbody tr th {\n",
       "        vertical-align: top;\n",
       "    }\n",
       "\n",
       "    .dataframe thead th {\n",
       "        text-align: right;\n",
       "    }\n",
       "</style>\n",
       "<table border=\"1\" class=\"dataframe\">\n",
       "  <thead>\n",
       "    <tr style=\"text-align: right;\">\n",
       "      <th></th>\n",
       "      <th>Longitude</th>\n",
       "      <th>Latitude</th>\n",
       "      <th>MW</th>\n",
       "    </tr>\n",
       "  </thead>\n",
       "  <tbody>\n",
       "    <tr>\n",
       "      <th>0</th>\n",
       "      <td>-118.320799</td>\n",
       "      <td>35.062432</td>\n",
       "      <td>3526.14</td>\n",
       "    </tr>\n",
       "    <tr>\n",
       "      <th>1</th>\n",
       "      <td>-121.736003</td>\n",
       "      <td>37.920458</td>\n",
       "      <td>1657.66</td>\n",
       "    </tr>\n",
       "    <tr>\n",
       "      <th>2</th>\n",
       "      <td>-116.606149</td>\n",
       "      <td>33.918124</td>\n",
       "      <td>687.85</td>\n",
       "    </tr>\n",
       "  </tbody>\n",
       "</table>\n",
       "</div>"
      ],
      "text/plain": [
       "    Longitude   Latitude       MW\n",
       "0 -118.320799  35.062432  3526.14\n",
       "1 -121.736003  37.920458  1657.66\n",
       "2 -116.606149  33.918124   687.85"
      ]
     },
     "execution_count": 43,
     "metadata": {},
     "output_type": "execute_result"
    }
   ],
   "source": [
    "plants = pd.read_csv('../datasets/wind_clusters.csv')\n",
    "print(plants.shape)\n",
    "plants.head(3)"
   ]
  },
  {
   "cell_type": "markdown",
   "metadata": {},
   "source": [
    "<a id='date_range'></a>\n",
    "\n",
    "### Define date range to collect data over"
   ]
  },
  {
   "cell_type": "code",
   "execution_count": 44,
   "metadata": {},
   "outputs": [],
   "source": [
    "##### EDIT THIS CELL ######\n",
    "\n",
    "# Set starting and ending dates\n",
    "early_date = '06/07/2020'\n",
    "later_date = '06/08/2020'\n",
    "\n",
    "dates = pd.date_range(early_date, later_date).tolist()\n",
    "dates = [date.strftime(\"%Y-%m-%d\") for date in dates]"
   ]
  },
  {
   "cell_type": "markdown",
   "metadata": {},
   "source": [
    "<a id='download_data'></a>\n",
    "\n",
    "### Collect Data"
   ]
  },
  {
   "cell_type": "code",
   "execution_count": 45,
   "metadata": {},
   "outputs": [
    {
     "name": "stdout",
     "output_type": "stream",
     "text": [
      "2020-06-08 16:45:09\n"
     ]
    },
    {
     "name": "stderr",
     "output_type": "stream",
     "text": [
      "[WDM] - Current google-chrome version 83.0.4103\n"
     ]
    },
    {
     "name": "stdout",
     "output_type": "stream",
     "text": [
      " \n"
     ]
    },
    {
     "name": "stderr",
     "output_type": "stream",
     "text": [
      "[WDM] - Trying to download new driver from http://chromedriver.storage.googleapis.com/83.0.4103.39/chromedriver_mac64.zip\n",
      "[WDM] - Unpack archive /Users/Sam/.wdm/drivers/chromedriver/83.0.4103.39/mac64/chromedriver.zip\n"
     ]
    },
    {
     "name": "stdout",
     "output_type": "stream",
     "text": [
      "2020-06-08 16:45:48\n",
      "t(s) = 39.74956011772156\n",
      "t(m) = 0.6624926686286926\n"
     ]
    }
   ],
   "source": [
    "#### RUN THIS CELL ######\n",
    "ts1 = time.time()\n",
    "st1 = datetime.datetime.fromtimestamp(ts1).strftime('%Y-%m-%d %H:%M:%S')\n",
    "print(st1)\n",
    "\n",
    "\n",
    "driver = webdriver.Chrome(ChromeDriverManager().install())\n",
    "\n",
    "df_list = []\n",
    "\n",
    "# To safely test, change to range 1 and just get first station\n",
    "for i in range(1):  #plants.shape[0]\n",
    "    \n",
    "    pid = plants.index[i]\n",
    "    lat = plants['Latitude'][i]\n",
    "    lon = plants['Longitude'][i]\n",
    "    \n",
    "    wsp_list = []\n",
    "    hr_list = []\n",
    "    \n",
    "    for date in dates:\n",
    "        try:\n",
    "            nu_wsp = get_wsp(driver,str(lat),str(lon),date,ticks1)\n",
    "            hours = pd.date_range(start=date+' 00:00:00',end=date+' 23:00:00', periods=24)\n",
    "            wsp_list.extend(nu_wsp)\n",
    "            hr_list.extend(hours)\n",
    "        except:\n",
    "            try:\n",
    "            \n",
    "                time.sleep(5)\n",
    "                nu_wsp = get_wsp(driver,str(lat),str(lon),date,ticks1)\n",
    "                hours = pd.date_range(start=date+' 00:00:00',end=date+' 23:00:00', periods=24)\n",
    "                wsp_list.extend(nu_wsp)\n",
    "                hr_list.extend(hours)\n",
    "            \n",
    "            except:\n",
    "            \n",
    "                time.sleep(5)\n",
    "                nu_wsp = get_wsp(driver,str(lat),str(lon),date,ticks2)\n",
    "                hours = pd.date_range(start=date+' 01:00:00',end=date+' 23:00:00', periods=23)\n",
    "                wsp_list.extend(nu_wsp)\n",
    "                hr_list.extend(hours)\n",
    "            \n",
    "    nu_df = pd.DataFrame({'date':hr_list,pid:wsp_list})\n",
    "\n",
    "    if i == 0:\n",
    "        all_df = nu_df.copy()\n",
    "    else:\n",
    "        all_df = all_df.merge(nu_df,how='outer',on='date')\n",
    "\n",
    "##### PRINT FINAL TIME STAMP #######\n",
    "ts2 = time.time()\n",
    "st2 = datetime.datetime.fromtimestamp(ts2).strftime('%Y-%m-%d %H:%M:%S')\n",
    "print(st2)\n",
    "print('t(s) = ' + str(ts2-ts1))\n",
    "print('t(m) = ' + str((ts2-ts1)/60))"
   ]
  },
  {
   "cell_type": "markdown",
   "metadata": {},
   "source": [
    "### Inspect Data"
   ]
  },
  {
   "cell_type": "code",
   "execution_count": 35,
   "metadata": {},
   "outputs": [
    {
     "name": "stdout",
     "output_type": "stream",
     "text": [
      "(864, 8)\n"
     ]
    },
    {
     "data": {
      "text/html": [
       "<div>\n",
       "<style scoped>\n",
       "    .dataframe tbody tr th:only-of-type {\n",
       "        vertical-align: middle;\n",
       "    }\n",
       "\n",
       "    .dataframe tbody tr th {\n",
       "        vertical-align: top;\n",
       "    }\n",
       "\n",
       "    .dataframe thead th {\n",
       "        text-align: right;\n",
       "    }\n",
       "</style>\n",
       "<table border=\"1\" class=\"dataframe\">\n",
       "  <thead>\n",
       "    <tr style=\"text-align: right;\">\n",
       "      <th></th>\n",
       "      <th>date</th>\n",
       "      <th>0</th>\n",
       "      <th>1</th>\n",
       "      <th>2</th>\n",
       "      <th>3</th>\n",
       "      <th>4</th>\n",
       "      <th>5</th>\n",
       "      <th>6</th>\n",
       "    </tr>\n",
       "  </thead>\n",
       "  <tbody>\n",
       "    <tr>\n",
       "      <th>0</th>\n",
       "      <td>2020-04-16 00:00:00</td>\n",
       "      <td>14</td>\n",
       "      <td>7</td>\n",
       "      <td>15</td>\n",
       "      <td>4</td>\n",
       "      <td>8</td>\n",
       "      <td>4</td>\n",
       "      <td>14</td>\n",
       "    </tr>\n",
       "    <tr>\n",
       "      <th>1</th>\n",
       "      <td>2020-04-16 01:00:00</td>\n",
       "      <td>15</td>\n",
       "      <td>7</td>\n",
       "      <td>15</td>\n",
       "      <td>5</td>\n",
       "      <td>8</td>\n",
       "      <td>5</td>\n",
       "      <td>14</td>\n",
       "    </tr>\n",
       "    <tr>\n",
       "      <th>2</th>\n",
       "      <td>2020-04-16 02:00:00</td>\n",
       "      <td>13</td>\n",
       "      <td>5</td>\n",
       "      <td>15</td>\n",
       "      <td>7</td>\n",
       "      <td>8</td>\n",
       "      <td>7</td>\n",
       "      <td>13</td>\n",
       "    </tr>\n",
       "    <tr>\n",
       "      <th>3</th>\n",
       "      <td>2020-04-16 03:00:00</td>\n",
       "      <td>16</td>\n",
       "      <td>5</td>\n",
       "      <td>17</td>\n",
       "      <td>5</td>\n",
       "      <td>8</td>\n",
       "      <td>8</td>\n",
       "      <td>13</td>\n",
       "    </tr>\n",
       "    <tr>\n",
       "      <th>4</th>\n",
       "      <td>2020-04-16 04:00:00</td>\n",
       "      <td>12</td>\n",
       "      <td>4</td>\n",
       "      <td>17</td>\n",
       "      <td>6</td>\n",
       "      <td>8</td>\n",
       "      <td>8</td>\n",
       "      <td>14</td>\n",
       "    </tr>\n",
       "  </tbody>\n",
       "</table>\n",
       "</div>"
      ],
      "text/plain": [
       "                 date   0  1   2  3  4  5   6\n",
       "0 2020-04-16 00:00:00  14  7  15  4  8  4  14\n",
       "1 2020-04-16 01:00:00  15  7  15  5  8  5  14\n",
       "2 2020-04-16 02:00:00  13  5  15  7  8  7  13\n",
       "3 2020-04-16 03:00:00  16  5  17  5  8  8  13\n",
       "4 2020-04-16 04:00:00  12  4  17  6  8  8  14"
      ]
     },
     "execution_count": 35,
     "metadata": {},
     "output_type": "execute_result"
    }
   ],
   "source": [
    "print(all_df.shape)\n",
    "all_df.head()"
   ]
  },
  {
   "cell_type": "code",
   "execution_count": 36,
   "metadata": {},
   "outputs": [
    {
     "data": {
      "text/plain": [
       "Text(0.5, 0, '04/16/2020 - 05/21/2020')"
      ]
     },
     "execution_count": 36,
     "metadata": {},
     "output_type": "execute_result"
    },
    {
     "data": {
      "image/png": "[encoded data removed]",
      "text/plain": [
       "<Figure size 864x504 with 1 Axes>"
      ]
     },
     "metadata": {
      "needs_background": "light"
     },
     "output_type": "display_data"
    }
   ],
   "source": [
    "plt.figure(figsize=(12,7))\n",
    "plt.plot(all_df['date'],all_df.sum(axis=1))\n",
    "plt.title('Combined Windspeed',fontsize=20)\n",
    "plt.ylabel('Sum Windspeed',fontsize=16)\n",
    "plt.xlabel(early_date+' - '+later_date,fontsize=16)"
   ]
  },
  {
   "cell_type": "markdown",
   "metadata": {},
   "source": [
    "<a id='save_data'></a>\n",
    "\n",
    "### Save raw UV data to file"
   ]
  },
  {
   "cell_type": "code",
   "execution_count": 37,
   "metadata": {},
   "outputs": [],
   "source": [
    "# Choose filename\n",
    "sample_filename1 = 'nu_wsp'\n",
    "\n",
    "all_df.to_csv('../datasets/time_series/'+sample_filename1+'.csv',index=False)"
   ]
  },
  {
   "cell_type": "markdown",
   "metadata": {},
   "source": [
    "### Save production weighted UV data to file"
   ]
  },
  {
   "cell_type": "code",
   "execution_count": 38,
   "metadata": {},
   "outputs": [],
   "source": [
    "# Choose filename\n",
    "sample_filename2 = 'nu_wsp_output'\n",
    "\n",
    "wsp_output = all_df.copy()\n",
    "\n",
    "# Multiply UV index by total cluster capacity\n",
    "for col in all_df.columns:\n",
    "    if col != 'date':\n",
    "        wsp_output[col] = all_df[col]*plants['MW'][int(col)]\n",
    "\n",
    "\n",
    "wsp_output.to_csv('../datasets/time_series/'+sample_filename2+'.csv',index=False)"
   ]
  }
 ],
 "metadata": {
  "kernelspec": {
   "display_name": "Python 3",
   "language": "python",
   "name": "python3"
  },
  "language_info": {
   "codemirror_mode": {
    "name": "ipython",
    "version": 3
   },
   "file_extension": ".py",
   "mimetype": "text/x-python",
   "name": "python",
   "nbconvert_exporter": "python",
   "pygments_lexer": "ipython3",
   "version": "3.7.6"
  }
 },
 "nbformat": 4,
 "nbformat_minor": 4
}
