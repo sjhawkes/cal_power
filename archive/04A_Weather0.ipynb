{
 "cells": [
  {
   "cell_type": "code",
   "execution_count": 1,
   "metadata": {},
   "outputs": [],
   "source": [
    "import numpy as np\n",
    "import requests\n",
    "import pandas as pd\n",
    "import matplotlib.pyplot as plt"
   ]
  },
  {
   "cell_type": "markdown",
   "metadata": {},
   "source": [
    "### From Darksky"
   ]
  },
  {
   "cell_type": "code",
   "execution_count": 2,
   "metadata": {},
   "outputs": [],
   "source": [
    "from selenium import webdriver\n",
    "from webdriver_manager.chrome import ChromeDriverManager\n",
    "from selenium.webdriver.common.keys import Keys\n",
    "from selenium.webdriver import ActionChains\n",
    "import time"
   ]
  },
  {
   "cell_type": "markdown",
   "metadata": {},
   "source": [
    "### Find UV"
   ]
  },
  {
   "cell_type": "code",
   "execution_count": 3,
   "metadata": {},
   "outputs": [],
   "source": [
    "def get_uv(driver,lat,lon,dat,ticks):\n",
    "    driver.get(f'https://darksky.net/details/{lat},{lon}/{dat}/us12/en')\n",
    "    uv = []\n",
    "    for tick in ticks:\n",
    "        hour = driver.find_element_by_xpath(f'//span[{tick}]')\n",
    "        ActionChains(driver).move_to_element(hour).click(hour).perform()\n",
    "        nums = driver.find_elements_by_class_name('num')\n",
    "        try:\n",
    "            uv.append(int(nums[7].text))\n",
    "        except:\n",
    "            uv.append(0)\n",
    "    return uv"
   ]
  },
  {
   "cell_type": "code",
   "execution_count": 4,
   "metadata": {},
   "outputs": [],
   "source": [
    "ticks1 = [\n",
    "    '@class=\"even first\" and @style=\"left: 0px;\"',\n",
    "    '@class=\"odd second\" and @style=\"left: 33.3333px;\"',\n",
    "    '@class=\"even\" and @style=\"left: 66.6667px;\"',\n",
    "    '@class=\"odd\" and @style=\"left: 100px;\"',\n",
    "    '@class=\"even\" and @style=\"left: 133.333px;\"',\n",
    "    '@class=\"odd\" and @style=\"left: 166.667px;\"',\n",
    "    '@class=\"even\" and @style=\"left: 200px;\"',\n",
    "    '@class=\"odd\" and @style=\"left: 233.333px;\"',\n",
    "    '@class=\"even\" and @style=\"left: 266.667px;\"',\n",
    "    '@class=\"odd\" and @style=\"left: 300px;\"',\n",
    "    '@class=\"even\" and @style=\"left: 333.333px;\"',\n",
    "    '@class=\"odd\" and @style=\"left: 366.667px;\"',\n",
    "    '@class=\"even\" and @style=\"left: 400px;\"',\n",
    "    '@class=\"odd\" and @style=\"left: 433.333px;\"',\n",
    "    '@class=\"even\" and @style=\"left: 466.667px;\"',\n",
    "    '@class=\"odd\" and @style=\"left: 500px;\"',\n",
    "    '@class=\"even\" and @style=\"left: 533.333px;\"',\n",
    "    '@class=\"odd\" and @style=\"left: 566.667px;\"',\n",
    "    '@class=\"even\" and @style=\"left: 600px;\"',\n",
    "    '@class=\"odd\" and @style=\"left: 633.333px;\"',\n",
    "    '@class=\"even\" and @style=\"left: 666.667px;\"',\n",
    "    '@class=\"odd\" and @style=\"left: 700px;\"',\n",
    "    '@class=\"even\" and @style=\"left: 733.333px;\"',\n",
    "    '@class=\"odd\" and @style=\"left: 766.667px;\"',\n",
    "]"
   ]
  },
  {
   "cell_type": "code",
   "execution_count": 5,
   "metadata": {},
   "outputs": [],
   "source": [
    "ticks2 = [\n",
    "    '@class=\"even first\" and @style=\"left: 0px;\"',\n",
    "    '@class=\"odd second\" and @style=\"left: 34.7826px;\"',\n",
    "    '@class=\"even\" and @style=\"left: 69.5652px;\"',\n",
    "    '@class=\"odd\" and @style=\"left: 104.348px;\"',\n",
    "    '@class=\"even\" and @style=\"left: 139.13px;\"',\n",
    "    '@class=\"odd\" and @style=\"left: 173.913px;\"',\n",
    "    '@class=\"even\" and @style=\"left: 208.696px;\"',\n",
    "    '@class=\"odd\" and @style=\"left: 243.478px;\"',\n",
    "    '@class=\"even\" and @style=\"left: 278.261px;\"',\n",
    "    '@class=\"odd\" and @style=\"left: 313.043px;\"',\n",
    "    '@class=\"even\" and @style=\"left: 347.826px;\"',\n",
    "    '@class=\"odd\" and @style=\"left: 382.609px;\"',\n",
    "    '@class=\"even\" and @style=\"left: 417.391px;\"',\n",
    "    '@class=\"odd\" and @style=\"left: 452.174px;\"',\n",
    "    '@class=\"even\" and @style=\"left: 486.957px;\"',\n",
    "    '@class=\"odd\" and @style=\"left: 521.739px;\"',\n",
    "    '@class=\"even\" and @style=\"left: 556.522px;\"',\n",
    "    '@class=\"odd\" and @style=\"left: 591.304px;\"',\n",
    "    '@class=\"even\" and @style=\"left: 626.087px;\"',\n",
    "    '@class=\"odd\" and @style=\"left: 660.87px;\"',\n",
    "    '@class=\"even\" and @style=\"left: 695.652px;\"',\n",
    "    '@class=\"odd\" and @style=\"left: 730.435px;\"',\n",
    "    '@class=\"even\" and @style=\"left: 765.217px;\"',\n",
    "]"
   ]
  },
  {
   "cell_type": "markdown",
   "metadata": {},
   "source": [
    "### Single site over date range\n",
    "- San Luis Obispo solar field (SLO)\n",
    "- From march "
   ]
  },
  {
   "cell_type": "code",
   "execution_count": 57,
   "metadata": {},
   "outputs": [],
   "source": [
    "early_date = '03/07/2020'\n",
    "later_date = '03/09/2020'\n",
    "\n",
    "dates = pd.date_range(early_date, later_date).tolist()\n",
    "dates = [date.strftime(\"%Y-%m-%d\") for date in dates]"
   ]
  },
  {
   "cell_type": "code",
   "execution_count": 61,
   "metadata": {},
   "outputs": [
    {
     "name": "stderr",
     "output_type": "stream",
     "text": [
      "[WDM] - Cache is valid for [01/06/2020]\n",
      "[WDM] - Looking for [chromedriver 83.0.4103.39 mac64] driver in cache \n",
      "[WDM] - Driver found in cache [/Users/Sam/.wdm/drivers/chromedriver/83.0.4103.39/mac64/chromedriver]\n"
     ]
    },
    {
     "name": "stdout",
     "output_type": "stream",
     "text": [
      " \n"
     ]
    }
   ],
   "source": [
    "driver = webdriver.Chrome(ChromeDriverManager().install())\n",
    "\n",
    "uv_list = []\n",
    "\n",
    "for date in dates:\n",
    "    try:\n",
    "        nu_uv = get_uv(driver,str(35.376175),str(-120.061942),date,ticks1)\n",
    "        hours = pd.date_range(start=date+' 00:00:00',end=date+' 23:00:00', periods=24)\n",
    "    except:\n",
    "        nu_uv = get_uv(driver,str(35.376175),str(-120.061942),date,ticks2)\n",
    "        hours = pd.date_range(start=date+' 00:01:00',end=date+' 23:00:00', periods=23)\n",
    "    nu_df = pd.DataFrame({'date':hours,'uv':nu_uv})\n",
    "    uv_list.append(nu_df)"
   ]
  },
  {
   "cell_type": "code",
   "execution_count": 36,
   "metadata": {},
   "outputs": [],
   "source": [
    "slo_uv = pd.concat(uv_list)"
   ]
  },
  {
   "cell_type": "code",
   "execution_count": 41,
   "metadata": {},
   "outputs": [
    {
     "data": {
      "text/plain": [
       "[<matplotlib.lines.Line2D at 0x1159eb9d0>]"
      ]
     },
     "execution_count": 41,
     "metadata": {},
     "output_type": "execute_result"
    },
    {
     "data": {
      "image/png": "[encoded data removed]",
      "text/plain": [
       "<Figure size 720x504 with 1 Axes>"
      ]
     },
     "metadata": {
      "needs_background": "light"
     },
     "output_type": "display_data"
    }
   ],
   "source": [
    "plt.figure(figsize=(10,7))\n",
    "plt.plot(slo_uv['date'],slo_uv['uv'])"
   ]
  },
  {
   "cell_type": "code",
   "execution_count": 42,
   "metadata": {},
   "outputs": [],
   "source": [
    "slo_uv.to_csv('datasets/time_series/slo_uv.csv',index=False)"
   ]
  },
  {
   "cell_type": "code",
   "execution_count": 24,
   "metadata": {},
   "outputs": [
    {
     "data": {
      "text/plain": [
       "(240, 2)"
      ]
     },
     "execution_count": 24,
     "metadata": {},
     "output_type": "execute_result"
    }
   ],
   "source": [
    "uvdf = pd.concat(uv_list)\n",
    "uvdf.shape"
   ]
  },
  {
   "cell_type": "markdown",
   "metadata": {},
   "source": [
    "### Get power plant weather data"
   ]
  },
  {
   "cell_type": "code",
   "execution_count": 6,
   "metadata": {},
   "outputs": [],
   "source": [
    "plants = pd.read_csv('datasets/California_Power_Plants.csv')"
   ]
  },
  {
   "cell_type": "code",
   "execution_count": 7,
   "metadata": {},
   "outputs": [
    {
     "name": "stdout",
     "output_type": "stream",
     "text": [
      "(849, 56)\n"
     ]
    }
   ],
   "source": [
    "solar = plants[(plants['General_Fuel']=='Solar') & (plants['Status']=='Operating')]\n",
    "print(solar.shape)"
   ]
  },
  {
   "cell_type": "code",
   "execution_count": 8,
   "metadata": {},
   "outputs": [
    {
     "data": {
      "text/plain": [
       "(61, 56)"
      ]
     },
     "execution_count": 8,
     "metadata": {},
     "output_type": "execute_result"
    }
   ],
   "source": [
    "big_solar = solar[solar['MW']>=50]\n",
    "big_solar.shape"
   ]
  },
  {
   "cell_type": "code",
   "execution_count": 9,
   "metadata": {},
   "outputs": [
    {
     "data": {
      "text/html": [
       "<div>\n",
       "<style scoped>\n",
       "    .dataframe tbody tr th:only-of-type {\n",
       "        vertical-align: middle;\n",
       "    }\n",
       "\n",
       "    .dataframe tbody tr th {\n",
       "        vertical-align: top;\n",
       "    }\n",
       "\n",
       "    .dataframe thead th {\n",
       "        text-align: right;\n",
       "    }\n",
       "</style>\n",
       "<table border=\"1\" class=\"dataframe\">\n",
       "  <thead>\n",
       "    <tr style=\"text-align: right;\">\n",
       "      <th></th>\n",
       "      <th>OBJECTID_12_13</th>\n",
       "      <th>Plant_ID</th>\n",
       "      <th>Plant_Alias</th>\n",
       "      <th>Plant_Label</th>\n",
       "      <th>MW</th>\n",
       "      <th>Gross_MWh</th>\n",
       "      <th>Net_MWh</th>\n",
       "      <th>General_Fuel</th>\n",
       "      <th>Status</th>\n",
       "      <th>STEP_License_Status</th>\n",
       "      <th>...</th>\n",
       "      <th>Operation_Job</th>\n",
       "      <th>Property_Tax</th>\n",
       "      <th>Capacity_Factor</th>\n",
       "      <th>Income_Percent</th>\n",
       "      <th>Project_Location</th>\n",
       "      <th>Creator</th>\n",
       "      <th>Creator_Date</th>\n",
       "      <th>Last_Editor</th>\n",
       "      <th>Last_Editor_Date</th>\n",
       "      <th>GlobalID</th>\n",
       "    </tr>\n",
       "  </thead>\n",
       "  <tbody>\n",
       "    <tr>\n",
       "      <th>0</th>\n",
       "      <td>349</td>\n",
       "      <td>S0237</td>\n",
       "      <td>NaN</td>\n",
       "      <td>Alpine Solar</td>\n",
       "      <td>66.0</td>\n",
       "      <td>163521.0</td>\n",
       "      <td>163521.0</td>\n",
       "      <td>Solar</td>\n",
       "      <td>Operating</td>\n",
       "      <td>NaN</td>\n",
       "      <td>...</td>\n",
       "      <td>NaN</td>\n",
       "      <td>NaN</td>\n",
       "      <td>0.282057</td>\n",
       "      <td>85.0</td>\n",
       "      <td>Neither Low Income Nor Disadvantaged Community</td>\n",
       "      <td>cecgis</td>\n",
       "      <td>1581101982706</td>\n",
       "      <td>cecgis</td>\n",
       "      <td>1581101982706</td>\n",
       "      <td>5726cb60-2689-4c26-9ccf-eccfce9fb6fb</td>\n",
       "    </tr>\n",
       "    <tr>\n",
       "      <th>1</th>\n",
       "      <td>350</td>\n",
       "      <td>S0241</td>\n",
       "      <td>AV Solar Ranch One Project</td>\n",
       "      <td>Antelope Valley Solar Ranch 1</td>\n",
       "      <td>250.0</td>\n",
       "      <td>630482.0</td>\n",
       "      <td>606235.0</td>\n",
       "      <td>Solar</td>\n",
       "      <td>Operating</td>\n",
       "      <td>NaN</td>\n",
       "      <td>...</td>\n",
       "      <td>NaN</td>\n",
       "      <td>NaN</td>\n",
       "      <td>0.276063</td>\n",
       "      <td>85.0</td>\n",
       "      <td>Neither Low Income Nor Disadvantaged Community</td>\n",
       "      <td>cecgis</td>\n",
       "      <td>1581101982706</td>\n",
       "      <td>cecgis</td>\n",
       "      <td>1581101982706</td>\n",
       "      <td>20f8c61f-dc1e-4722-bfa2-5bd0f2543b5e</td>\n",
       "    </tr>\n",
       "    <tr>\n",
       "      <th>2</th>\n",
       "      <td>413</td>\n",
       "      <td>S0552</td>\n",
       "      <td>NaN</td>\n",
       "      <td>Antelope DSR 1 - Big Sky Solar 1</td>\n",
       "      <td>50.0</td>\n",
       "      <td>132500.0</td>\n",
       "      <td>132459.0</td>\n",
       "      <td>Solar</td>\n",
       "      <td>Operating</td>\n",
       "      <td>NaN</td>\n",
       "      <td>...</td>\n",
       "      <td>NaN</td>\n",
       "      <td>NaN</td>\n",
       "      <td>0.301592</td>\n",
       "      <td>129.0</td>\n",
       "      <td>Neither Low Income Nor Disadvantaged Community</td>\n",
       "      <td>cecgis</td>\n",
       "      <td>1581101982706</td>\n",
       "      <td>cecgis</td>\n",
       "      <td>1581101982706</td>\n",
       "      <td>0ed24308-bbac-4a25-a584-fb93fada30c6</td>\n",
       "    </tr>\n",
       "    <tr>\n",
       "      <th>3</th>\n",
       "      <td>416</td>\n",
       "      <td>S0558</td>\n",
       "      <td>NaN</td>\n",
       "      <td>Solverde 1</td>\n",
       "      <td>85.0</td>\n",
       "      <td>224039.0</td>\n",
       "      <td>223914.0</td>\n",
       "      <td>Solar</td>\n",
       "      <td>Operating</td>\n",
       "      <td>NaN</td>\n",
       "      <td>...</td>\n",
       "      <td>NaN</td>\n",
       "      <td>NaN</td>\n",
       "      <td>0.299896</td>\n",
       "      <td>129.0</td>\n",
       "      <td>Neither Low Income Nor Disadvantaged Community</td>\n",
       "      <td>cecgis</td>\n",
       "      <td>1581101982706</td>\n",
       "      <td>cecgis</td>\n",
       "      <td>1581101982706</td>\n",
       "      <td>9618c687-efba-49da-9607-58839834367e</td>\n",
       "    </tr>\n",
       "    <tr>\n",
       "      <th>4</th>\n",
       "      <td>486</td>\n",
       "      <td>S0532</td>\n",
       "      <td>NaN</td>\n",
       "      <td>Henrietta Solar Facility</td>\n",
       "      <td>100.0</td>\n",
       "      <td>251373.0</td>\n",
       "      <td>251373.0</td>\n",
       "      <td>Solar</td>\n",
       "      <td>Operating</td>\n",
       "      <td>NaN</td>\n",
       "      <td>...</td>\n",
       "      <td>NaN</td>\n",
       "      <td>NaN</td>\n",
       "      <td>0.286171</td>\n",
       "      <td>57.0</td>\n",
       "      <td>Low Income and Disadvantaged Community</td>\n",
       "      <td>cecgis</td>\n",
       "      <td>1581101982706</td>\n",
       "      <td>cecgis</td>\n",
       "      <td>1581101982706</td>\n",
       "      <td>f2893125-f403-46a6-95bf-3f799b705b61</td>\n",
       "    </tr>\n",
       "  </tbody>\n",
       "</table>\n",
       "<p>5 rows × 56 columns</p>\n",
       "</div>"
      ],
      "text/plain": [
       "   OBJECTID_12_13 Plant_ID                 Plant_Alias  \\\n",
       "0             349    S0237                         NaN   \n",
       "1             350    S0241  AV Solar Ranch One Project   \n",
       "2             413    S0552                         NaN   \n",
       "3             416    S0558                         NaN   \n",
       "4             486    S0532                         NaN   \n",
       "\n",
       "                        Plant_Label     MW  Gross_MWh   Net_MWh General_Fuel  \\\n",
       "0                      Alpine Solar   66.0   163521.0  163521.0        Solar   \n",
       "1     Antelope Valley Solar Ranch 1  250.0   630482.0  606235.0        Solar   \n",
       "2  Antelope DSR 1 - Big Sky Solar 1   50.0   132500.0  132459.0        Solar   \n",
       "3                        Solverde 1   85.0   224039.0  223914.0        Solar   \n",
       "4          Henrietta Solar Facility  100.0   251373.0  251373.0        Solar   \n",
       "\n",
       "      Status STEP_License_Status  ...  Operation_Job  Property_Tax  \\\n",
       "0  Operating                 NaN  ...            NaN           NaN   \n",
       "1  Operating                 NaN  ...            NaN           NaN   \n",
       "2  Operating                 NaN  ...            NaN           NaN   \n",
       "3  Operating                 NaN  ...            NaN           NaN   \n",
       "4  Operating                 NaN  ...            NaN           NaN   \n",
       "\n",
       "   Capacity_Factor  Income_Percent  \\\n",
       "0         0.282057            85.0   \n",
       "1         0.276063            85.0   \n",
       "2         0.301592           129.0   \n",
       "3         0.299896           129.0   \n",
       "4         0.286171            57.0   \n",
       "\n",
       "                                 Project_Location Creator   Creator_Date  \\\n",
       "0  Neither Low Income Nor Disadvantaged Community  cecgis  1581101982706   \n",
       "1  Neither Low Income Nor Disadvantaged Community  cecgis  1581101982706   \n",
       "2  Neither Low Income Nor Disadvantaged Community  cecgis  1581101982706   \n",
       "3  Neither Low Income Nor Disadvantaged Community  cecgis  1581101982706   \n",
       "4          Low Income and Disadvantaged Community  cecgis  1581101982706   \n",
       "\n",
       "  Last_Editor Last_Editor_Date                              GlobalID  \n",
       "0      cecgis    1581101982706  5726cb60-2689-4c26-9ccf-eccfce9fb6fb  \n",
       "1      cecgis    1581101982706  20f8c61f-dc1e-4722-bfa2-5bd0f2543b5e  \n",
       "2      cecgis    1581101982706  0ed24308-bbac-4a25-a584-fb93fada30c6  \n",
       "3      cecgis    1581101982706  9618c687-efba-49da-9607-58839834367e  \n",
       "4      cecgis    1581101982706  f2893125-f403-46a6-95bf-3f799b705b61  \n",
       "\n",
       "[5 rows x 56 columns]"
      ]
     },
     "execution_count": 9,
     "metadata": {},
     "output_type": "execute_result"
    }
   ],
   "source": [
    "big_solar.reset_index(inplace=True,drop=True)\n",
    "big_solar.head()"
   ]
  },
  {
   "cell_type": "code",
   "execution_count": 10,
   "metadata": {},
   "outputs": [],
   "source": [
    "early_date = '03/15/2020'\n",
    "later_date = '04/15/2020'\n",
    "\n",
    "dates = pd.date_range(early_date, later_date).tolist()\n",
    "dates = [date.strftime(\"%Y-%m-%d\") for date in dates]"
   ]
  },
  {
   "cell_type": "code",
   "execution_count": 12,
   "metadata": {},
   "outputs": [
    {
     "name": "stderr",
     "output_type": "stream",
     "text": [
      "[WDM] - Cache is valid for [01/06/2020]\n",
      "[WDM] - Looking for [chromedriver 83.0.4103.39 mac64] driver in cache \n",
      "[WDM] - Driver found in cache [/Users/Sam/.wdm/drivers/chromedriver/83.0.4103.39/mac64/chromedriver]\n"
     ]
    },
    {
     "name": "stdout",
     "output_type": "stream",
     "text": [
      " \n"
     ]
    }
   ],
   "source": [
    "driver = webdriver.Chrome(ChromeDriverManager().install())\n",
    "\n",
    "df_list = []\n",
    "\n",
    "for i in range(big_solar.shape[0]):\n",
    "    pid = big_solar['Plant_ID'][i]\n",
    "    lat = big_solar['Latitude'][i]\n",
    "    lon = big_solar['Longitude'][i]\n",
    "    \n",
    "    uv_list = []\n",
    "    hr_list = []\n",
    "    \n",
    "    for date in dates:\n",
    "        try:\n",
    "            nu_uv = get_uv(driver,str(lat),str(lon),date,ticks1)\n",
    "            hours = pd.date_range(start=date+' 00:00:00',end=date+' 23:00:00', periods=24)\n",
    "            uv_list.extend(nu_uv)\n",
    "            hr_list.extend(hours)\n",
    "        except:\n",
    "            try:\n",
    "            \n",
    "                time.sleep(5)\n",
    "                nu_uv = get_uv(driver,str(lat),str(lon),date,ticks1)\n",
    "                hours = pd.date_range(start=date+' 00:00:00',end=date+' 23:00:00', periods=24)\n",
    "                uv_list.extend(nu_uv)\n",
    "                hr_list.extend(hours)\n",
    "            \n",
    "            except:\n",
    "            \n",
    "                time.sleep(5)\n",
    "                nu_uv = get_uv(driver,str(lat),str(lon),date,ticks2)\n",
    "                hours = pd.date_range(start=date+' 01:00:00',end=date+' 23:00:00', periods=23)\n",
    "                uv_list.extend(nu_uv)\n",
    "                hr_list.extend(hours)\n",
    "            \n",
    "    nu_df = pd.DataFrame({'date':hr_list,pid:uv_list})\n",
    "\n",
    "    if i == 0:\n",
    "        all_df = nu_df.copy()\n",
    "    else:\n",
    "        all_df = all_df.merge(nu_df,how='outer',on='date')"
   ]
  },
  {
   "cell_type": "code",
   "execution_count": 18,
   "metadata": {},
   "outputs": [],
   "source": [
    "all_df.to_csv('datasets/time_series/solar_test.csv',index=False)"
   ]
  },
  {
   "cell_type": "markdown",
   "metadata": {},
   "source": [
    "### Combine plant capacity with UV index"
   ]
  },
  {
   "cell_type": "code",
   "execution_count": 30,
   "metadata": {},
   "outputs": [],
   "source": [
    "plants = pd.read_csv('datasets/California_Power_Plants.csv')\n",
    "solar = plants[(plants['General_Fuel']=='Solar') & (plants['Status']=='Operating')]"
   ]
  },
  {
   "cell_type": "code",
   "execution_count": 37,
   "metadata": {},
   "outputs": [],
   "source": [
    "uv_output = all_df.copy()\n",
    "\n",
    "for col in all_df.columns:\n",
    "    if col != 'date':\n",
    "        uv_output[col] = all_df[col]*int(plants[plants['Plant_ID']==col]['MW'])"
   ]
  },
  {
   "cell_type": "code",
   "execution_count": 43,
   "metadata": {},
   "outputs": [],
   "source": [
    "uv_output.to_csv('datasets/time_series/solar_test.csv',index=False)"
   ]
  },
  {
   "cell_type": "code",
   "execution_count": null,
   "metadata": {},
   "outputs": [],
   "source": []
  },
  {
   "cell_type": "code",
   "execution_count": null,
   "metadata": {},
   "outputs": [],
   "source": []
  },
  {
   "cell_type": "code",
   "execution_count": null,
   "metadata": {},
   "outputs": [],
   "source": []
  },
  {
   "cell_type": "code",
   "execution_count": 4,
   "metadata": {},
   "outputs": [
    {
     "name": "stderr",
     "output_type": "stream",
     "text": [
      "[WDM] - Cache is valid for [01/06/2020]\n",
      "[WDM] - Looking for [chromedriver 83.0.4103.39 mac64] driver in cache \n",
      "[WDM] - Driver found in cache [/Users/Sam/.wdm/drivers/chromedriver/83.0.4103.39/mac64/chromedriver]\n"
     ]
    },
    {
     "name": "stdout",
     "output_type": "stream",
     "text": [
      " \n"
     ]
    }
   ],
   "source": [
    "driver = webdriver.Chrome(ChromeDriverManager().install())\n",
    "driver.get('https://darksky.net/details/35.5912,-115.427/2020-7-2/us12/en')\n",
    "\n",
    "wind = []\n",
    "uv = []\n",
    "\n",
    "for tick in ticks:\n",
    "    hour = driver.find_element_by_xpath(f'//span[{tick}]')\n",
    "    ActionChains(driver).move_to_element(hour).click(hour).perform()\n",
    "    nums = driver.find_elements_by_class_name('num')\n",
    "    try:\n",
    "        wind.append(int(nums[3].text))\n",
    "    except:\n",
    "        wind.append(0)\n",
    "    try:\n",
    "        uv.append(int(nums[7].text))\n",
    "    except:\n",
    "        uv.append(0)"
   ]
  },
  {
   "cell_type": "code",
   "execution_count": 5,
   "metadata": {},
   "outputs": [
    {
     "data": {
      "text/plain": [
       "[<matplotlib.lines.Line2D at 0x114142c10>]"
      ]
     },
     "execution_count": 5,
     "metadata": {},
     "output_type": "execute_result"
    },
    {
     "data": {
      "image/png": "[encoded data removed]",
      "text/plain": [
       "<Figure size 432x288 with 1 Axes>"
      ]
     },
     "metadata": {
      "needs_background": "light"
     },
     "output_type": "display_data"
    }
   ],
   "source": [
    "plt.plot(wind)"
   ]
  },
  {
   "cell_type": "code",
   "execution_count": 6,
   "metadata": {},
   "outputs": [
    {
     "data": {
      "text/plain": [
       "[<matplotlib.lines.Line2D at 0x11436a950>]"
      ]
     },
     "execution_count": 6,
     "metadata": {},
     "output_type": "execute_result"
    },
    {
     "data": {
      "image/png": "[encoded data removed]",
      "text/plain": [
       "<Figure size 432x288 with 1 Axes>"
      ]
     },
     "metadata": {
      "needs_background": "light"
     },
     "output_type": "display_data"
    }
   ],
   "source": [
    "plt.plot(uv)"
   ]
  },
  {
   "cell_type": "code",
   "execution_count": 7,
   "metadata": {},
   "outputs": [
    {
     "data": {
      "text/plain": [
       "24"
      ]
     },
     "execution_count": 7,
     "metadata": {},
     "output_type": "execute_result"
    }
   ],
   "source": [
    "len(uv)"
   ]
  },
  {
   "cell_type": "code",
   "execution_count": 57,
   "metadata": {},
   "outputs": [
    {
     "data": {
      "text/plain": [
       "0.8578307578326047"
      ]
     },
     "execution_count": 57,
     "metadata": {},
     "output_type": "execute_result"
    }
   ],
   "source": [
    "solar[solar['MW']>=20]['MW'].sum()/solar['MW'].sum()"
   ]
  },
  {
   "cell_type": "code",
   "execution_count": null,
   "metadata": {},
   "outputs": [],
   "source": []
  }
 ],
 "metadata": {
  "kernelspec": {
   "display_name": "Python 3",
   "language": "python",
   "name": "python3"
  },
  "language_info": {
   "codemirror_mode": {
    "name": "ipython",
    "version": 3
   },
   "file_extension": ".py",
   "mimetype": "text/x-python",
   "name": "python",
   "nbconvert_exporter": "python",
   "pygments_lexer": "ipython3",
   "version": "3.7.6"
  }
 },
 "nbformat": 4,
 "nbformat_minor": 4
}
